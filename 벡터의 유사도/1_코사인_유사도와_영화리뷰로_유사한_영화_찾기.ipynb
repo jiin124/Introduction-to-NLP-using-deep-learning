{
  "nbformat": 4,
  "nbformat_minor": 0,
  "metadata": {
    "colab": {
      "name": "1_코사인 유사도와 영화리뷰로 유사한 영화 찾기",
      "provenance": [],
      "authorship_tag": "ABX9TyPHL6gj3CfFvXbOSQRUfgjT"
    },
    "kernelspec": {
      "name": "python3",
      "display_name": "Python 3"
    },
    "language_info": {
      "name": "python"
    }
  },
  "cells": [
    {
      "cell_type": "markdown",
      "source": [
        "문장이나 문서의 유사도를 구하는 작업은 자연어 처리의 주요 주제 중 하나입니다. 사람들이 인식하는 문서의 유사도는 주로 문서들 간에 동일한 단어 또는 비슷한 단어가 얼마나 공통적으로 많이 사용되었는지에 의존합니다. 기계도 마찬가지입니다. 기계가 계산하는 문서의 유사도의 성능은 각 문서의 단어들을 어떤 방법으로 수치화하여 표현했는지(DTM, Word2Vec 등), 문서 간의 단어들의 차이를 어떤 방법(유클리드 거리, 코사인 유사도 등)으로 계산했는지에 달려있습니다."
      ],
      "metadata": {
        "id": "QffhfB2UUI2d"
      }
    },
    {
      "cell_type": "markdown",
      "source": [
        "# 1. 코사인 유사도(Cosine Similaryty)\n",
        "\n",
        "코사인 유사도는 두 벡터 간의 코사인 각도를 이용하여 구할 수 있는 두 벡터의 유사도를 의미합니다. 두 벡터의 방향이 완전히 동일한 경우에는 1의 값을 가지며, 90°의 각을 이루면 0, 180°로 반대의 방향을 가지면 -1의 값을 갖게 됩니다. 즉, 결국 코사인 유사도는 -1 이상 1 이하의 값을 가지며 값이 1에 가까울수록 유사도가 높다고 판단할 수 있습니다. 이를 직관적으로 이해하면 두 벡터가 가리키는 방향이 얼마나 유사한가를 의미합니다.\n",
        "\n",
        "![image.png](data:image/png;base64,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)"
      ],
      "metadata": {
        "id": "h7S9N-omUQds"
      }
    },
    {
      "cell_type": "code",
      "execution_count": 3,
      "metadata": {
        "colab": {
          "base_uri": "https://localhost:8080/"
        },
        "id": "4Lqs09kHTtsY",
        "outputId": "e196f1f9-ba3d-467e-b6da-b8aff13e8ae8"
      },
      "outputs": [
        {
          "output_type": "stream",
          "name": "stdout",
          "text": [
            "문서1과 문서2의 유사도: 0.6666666666666667\n",
            "문서 1과 문서 3의 유사도: 0.6666666666666667\n",
            "문서 2와 문서 3의 유사도 : 1.0000000000000002\n"
          ]
        }
      ],
      "source": [
        "import numpy as np\n",
        "from numpy import dot\n",
        "from numpy.linalg import norm\n",
        "\n",
        "def cos_sim(A,B):\n",
        "  return dot(A,B)/(norm(A)*norm(B))#외적/크기끼리 곱\n",
        "\n",
        "doc1=np.array([0,1,1,1])\n",
        "doc2=np.array([1,0,1,1])\n",
        "doc3=np.array([2,0,2,2])\n",
        "\n",
        "print('문서1과 문서2의 유사도:',cos_sim(doc1,doc2))\n",
        "print('문서 1과 문서 3의 유사도:',cos_sim(doc1,doc3))\n",
        "print('문서 2와 문서 3의 유사도 :',cos_sim(doc2,doc3))"
      ]
    },
    {
      "cell_type": "markdown",
      "source": [
        "문서1과 문서2의 유사도와 문서1과 문서 3의 유사도가 같다는 점이 눈여겨볼만하다. 1은 두 벡터의 방향이 완전히 동일한 경우에 1이 나온다. 그리고 최댓값이다. \n",
        "\n",
        "문서 3은 문서 2에서 단지 모든 단어의 빈도수가 1씩 증가했을 뿐이다. 다시 말해 한문서 내의 모든 단어의 빈도수가 동일하게 증가하는 경우에는 기존의 문서와 코사인 유사도의 값이 1이라는 것이다. \n",
        "코사인 유사도는 유사도를 구할 떄 벡터의 방향(패턴)에 초점을 두므로 코사인 유사도는 문서의 길이가 다른 상황에서 비교적 공정한 비교를 할 수 있도록 도와준다. "
      ],
      "metadata": {
        "id": "QbQMhxWYXGEj"
      }
    },
    {
      "cell_type": "markdown",
      "source": [
        "# 2. 유사도를 이용한 추천 시스템 구현하기\n",
        "\n",
        "TF-IDF와 코사인 유사도만으로 영화의 줄거리에 기반해 영화를 추천하는 추천 시스템을 만들 수 있음. "
      ],
      "metadata": {
        "id": "1c1TMaHPYFNM"
      }
    },
    {
      "cell_type": "code",
      "source": [
        "import os\n",
        "\n",
        "os.environ['KAGGLE_USERNAME']='jiinpp'\n",
        "os.environ['KAGGLE_KEY']=\"b06d525a9f66198051ccb648b091778a\""
      ],
      "metadata": {
        "id": "PAZBVMXmWxVo"
      },
      "execution_count": 4,
      "outputs": []
    },
    {
      "cell_type": "code",
      "source": [
        "!kaggle datasets download -d rounakbanik/the-movies-dataset"
      ],
      "metadata": {
        "colab": {
          "base_uri": "https://localhost:8080/"
        },
        "id": "Pn6LYxjwYfUp",
        "outputId": "5a23fcc4-2ea7-4a18-d529-f74f0ed59bc7"
      },
      "execution_count": 5,
      "outputs": [
        {
          "output_type": "stream",
          "name": "stdout",
          "text": [
            "Downloading the-movies-dataset.zip to /content\n",
            " 99% 225M/228M [00:02<00:00, 93.5MB/s]\n",
            "100% 228M/228M [00:02<00:00, 90.7MB/s]\n"
          ]
        }
      ]
    },
    {
      "cell_type": "code",
      "source": [
        "!unzip '*.zip'"
      ],
      "metadata": {
        "colab": {
          "base_uri": "https://localhost:8080/"
        },
        "id": "QWJ6N193Yvaa",
        "outputId": "17c4b90b-8e4b-4e61-d4c3-20bf99c6250f"
      },
      "execution_count": 6,
      "outputs": [
        {
          "output_type": "stream",
          "name": "stdout",
          "text": [
            "Archive:  the-movies-dataset.zip\n",
            "  inflating: credits.csv             \n",
            "  inflating: keywords.csv            \n",
            "  inflating: links.csv               \n",
            "  inflating: links_small.csv         \n",
            "  inflating: movies_metadata.csv     \n",
            "  inflating: ratings.csv             \n",
            "  inflating: ratings_small.csv       \n"
          ]
        }
      ]
    },
    {
      "cell_type": "code",
      "source": [
        "import pandas as pd\n",
        "from sklearn.feature_extraction.text import TfidfVectorizer\n",
        "from sklearn.metrics.pairwise import cosine_similarity\n",
        "\n",
        "data=pd.read_csv('movies_metadata.csv',low_memory=False)\n",
        "data.head(2)"
      ],
      "metadata": {
        "colab": {
          "base_uri": "https://localhost:8080/",
          "height": 367
        },
        "id": "1YofMu1rY563",
        "outputId": "dd4026d1-d79c-40b6-bc14-fe8358336814"
      },
      "execution_count": 7,
      "outputs": [
        {
          "output_type": "execute_result",
          "data": {
            "text/html": [
              "\n",
              "  <div id=\"df-d1f312d2-c80c-4b5d-9cba-c2e44798a2c8\">\n",
              "    <div class=\"colab-df-container\">\n",
              "      <div>\n",
              "<style scoped>\n",
              "    .dataframe tbody tr th:only-of-type {\n",
              "        vertical-align: middle;\n",
              "    }\n",
              "\n",
              "    .dataframe tbody tr th {\n",
              "        vertical-align: top;\n",
              "    }\n",
              "\n",
              "    .dataframe thead th {\n",
              "        text-align: right;\n",
              "    }\n",
              "</style>\n",
              "<table border=\"1\" class=\"dataframe\">\n",
              "  <thead>\n",
              "    <tr style=\"text-align: right;\">\n",
              "      <th></th>\n",
              "      <th>adult</th>\n",
              "      <th>belongs_to_collection</th>\n",
              "      <th>budget</th>\n",
              "      <th>genres</th>\n",
              "      <th>homepage</th>\n",
              "      <th>id</th>\n",
              "      <th>imdb_id</th>\n",
              "      <th>original_language</th>\n",
              "      <th>original_title</th>\n",
              "      <th>overview</th>\n",
              "      <th>popularity</th>\n",
              "      <th>poster_path</th>\n",
              "      <th>production_companies</th>\n",
              "      <th>production_countries</th>\n",
              "      <th>release_date</th>\n",
              "      <th>revenue</th>\n",
              "      <th>runtime</th>\n",
              "      <th>spoken_languages</th>\n",
              "      <th>status</th>\n",
              "      <th>tagline</th>\n",
              "      <th>title</th>\n",
              "      <th>video</th>\n",
              "      <th>vote_average</th>\n",
              "      <th>vote_count</th>\n",
              "    </tr>\n",
              "  </thead>\n",
              "  <tbody>\n",
              "    <tr>\n",
              "      <th>0</th>\n",
              "      <td>False</td>\n",
              "      <td>{'id': 10194, 'name': 'Toy Story Collection', ...</td>\n",
              "      <td>30000000</td>\n",
              "      <td>[{'id': 16, 'name': 'Animation'}, {'id': 35, '...</td>\n",
              "      <td>http://toystory.disney.com/toy-story</td>\n",
              "      <td>862</td>\n",
              "      <td>tt0114709</td>\n",
              "      <td>en</td>\n",
              "      <td>Toy Story</td>\n",
              "      <td>Led by Woody, Andy's toys live happily in his ...</td>\n",
              "      <td>21.946943</td>\n",
              "      <td>/rhIRbceoE9lR4veEXuwCC2wARtG.jpg</td>\n",
              "      <td>[{'name': 'Pixar Animation Studios', 'id': 3}]</td>\n",
              "      <td>[{'iso_3166_1': 'US', 'name': 'United States o...</td>\n",
              "      <td>1995-10-30</td>\n",
              "      <td>373554033.0</td>\n",
              "      <td>81.0</td>\n",
              "      <td>[{'iso_639_1': 'en', 'name': 'English'}]</td>\n",
              "      <td>Released</td>\n",
              "      <td>NaN</td>\n",
              "      <td>Toy Story</td>\n",
              "      <td>False</td>\n",
              "      <td>7.7</td>\n",
              "      <td>5415.0</td>\n",
              "    </tr>\n",
              "    <tr>\n",
              "      <th>1</th>\n",
              "      <td>False</td>\n",
              "      <td>NaN</td>\n",
              "      <td>65000000</td>\n",
              "      <td>[{'id': 12, 'name': 'Adventure'}, {'id': 14, '...</td>\n",
              "      <td>NaN</td>\n",
              "      <td>8844</td>\n",
              "      <td>tt0113497</td>\n",
              "      <td>en</td>\n",
              "      <td>Jumanji</td>\n",
              "      <td>When siblings Judy and Peter discover an encha...</td>\n",
              "      <td>17.015539</td>\n",
              "      <td>/vzmL6fP7aPKNKPRTFnZmiUfciyV.jpg</td>\n",
              "      <td>[{'name': 'TriStar Pictures', 'id': 559}, {'na...</td>\n",
              "      <td>[{'iso_3166_1': 'US', 'name': 'United States o...</td>\n",
              "      <td>1995-12-15</td>\n",
              "      <td>262797249.0</td>\n",
              "      <td>104.0</td>\n",
              "      <td>[{'iso_639_1': 'en', 'name': 'English'}, {'iso...</td>\n",
              "      <td>Released</td>\n",
              "      <td>Roll the dice and unleash the excitement!</td>\n",
              "      <td>Jumanji</td>\n",
              "      <td>False</td>\n",
              "      <td>6.9</td>\n",
              "      <td>2413.0</td>\n",
              "    </tr>\n",
              "  </tbody>\n",
              "</table>\n",
              "</div>\n",
              "      <button class=\"colab-df-convert\" onclick=\"convertToInteractive('df-d1f312d2-c80c-4b5d-9cba-c2e44798a2c8')\"\n",
              "              title=\"Convert this dataframe to an interactive table.\"\n",
              "              style=\"display:none;\">\n",
              "        \n",
              "  <svg xmlns=\"http://www.w3.org/2000/svg\" height=\"24px\"viewBox=\"0 0 24 24\"\n",
              "       width=\"24px\">\n",
              "    <path d=\"M0 0h24v24H0V0z\" fill=\"none\"/>\n",
              "    <path d=\"M18.56 5.44l.94 2.06.94-2.06 2.06-.94-2.06-.94-.94-2.06-.94 2.06-2.06.94zm-11 1L8.5 8.5l.94-2.06 2.06-.94-2.06-.94L8.5 2.5l-.94 2.06-2.06.94zm10 10l.94 2.06.94-2.06 2.06-.94-2.06-.94-.94-2.06-.94 2.06-2.06.94z\"/><path d=\"M17.41 7.96l-1.37-1.37c-.4-.4-.92-.59-1.43-.59-.52 0-1.04.2-1.43.59L10.3 9.45l-7.72 7.72c-.78.78-.78 2.05 0 2.83L4 21.41c.39.39.9.59 1.41.59.51 0 1.02-.2 1.41-.59l7.78-7.78 2.81-2.81c.8-.78.8-2.07 0-2.86zM5.41 20L4 18.59l7.72-7.72 1.47 1.35L5.41 20z\"/>\n",
              "  </svg>\n",
              "      </button>\n",
              "      \n",
              "  <style>\n",
              "    .colab-df-container {\n",
              "      display:flex;\n",
              "      flex-wrap:wrap;\n",
              "      gap: 12px;\n",
              "    }\n",
              "\n",
              "    .colab-df-convert {\n",
              "      background-color: #E8F0FE;\n",
              "      border: none;\n",
              "      border-radius: 50%;\n",
              "      cursor: pointer;\n",
              "      display: none;\n",
              "      fill: #1967D2;\n",
              "      height: 32px;\n",
              "      padding: 0 0 0 0;\n",
              "      width: 32px;\n",
              "    }\n",
              "\n",
              "    .colab-df-convert:hover {\n",
              "      background-color: #E2EBFA;\n",
              "      box-shadow: 0px 1px 2px rgba(60, 64, 67, 0.3), 0px 1px 3px 1px rgba(60, 64, 67, 0.15);\n",
              "      fill: #174EA6;\n",
              "    }\n",
              "\n",
              "    [theme=dark] .colab-df-convert {\n",
              "      background-color: #3B4455;\n",
              "      fill: #D2E3FC;\n",
              "    }\n",
              "\n",
              "    [theme=dark] .colab-df-convert:hover {\n",
              "      background-color: #434B5C;\n",
              "      box-shadow: 0px 1px 3px 1px rgba(0, 0, 0, 0.15);\n",
              "      filter: drop-shadow(0px 1px 2px rgba(0, 0, 0, 0.3));\n",
              "      fill: #FFFFFF;\n",
              "    }\n",
              "  </style>\n",
              "\n",
              "      <script>\n",
              "        const buttonEl =\n",
              "          document.querySelector('#df-d1f312d2-c80c-4b5d-9cba-c2e44798a2c8 button.colab-df-convert');\n",
              "        buttonEl.style.display =\n",
              "          google.colab.kernel.accessAllowed ? 'block' : 'none';\n",
              "\n",
              "        async function convertToInteractive(key) {\n",
              "          const element = document.querySelector('#df-d1f312d2-c80c-4b5d-9cba-c2e44798a2c8');\n",
              "          const dataTable =\n",
              "            await google.colab.kernel.invokeFunction('convertToInteractive',\n",
              "                                                     [key], {});\n",
              "          if (!dataTable) return;\n",
              "\n",
              "          const docLinkHtml = 'Like what you see? Visit the ' +\n",
              "            '<a target=\"_blank\" href=https://colab.research.google.com/notebooks/data_table.ipynb>data table notebook</a>'\n",
              "            + ' to learn more about interactive tables.';\n",
              "          element.innerHTML = '';\n",
              "          dataTable['output_type'] = 'display_data';\n",
              "          await google.colab.output.renderOutput(dataTable, element);\n",
              "          const docLink = document.createElement('div');\n",
              "          docLink.innerHTML = docLinkHtml;\n",
              "          element.appendChild(docLink);\n",
              "        }\n",
              "      </script>\n",
              "    </div>\n",
              "  </div>\n",
              "  "
            ],
            "text/plain": [
              "   adult  ... vote_count\n",
              "0  False  ...     5415.0\n",
              "1  False  ...     2413.0\n",
              "\n",
              "[2 rows x 24 columns]"
            ]
          },
          "metadata": {},
          "execution_count": 7
        }
      ]
    },
    {
      "cell_type": "code",
      "source": [
        "data.info()"
      ],
      "metadata": {
        "colab": {
          "base_uri": "https://localhost:8080/"
        },
        "id": "JDvwVS7oZIgo",
        "outputId": "d193b061-b799-4c89-b096-bb59e4017bb2"
      },
      "execution_count": 8,
      "outputs": [
        {
          "output_type": "stream",
          "name": "stdout",
          "text": [
            "<class 'pandas.core.frame.DataFrame'>\n",
            "RangeIndex: 45466 entries, 0 to 45465\n",
            "Data columns (total 24 columns):\n",
            " #   Column                 Non-Null Count  Dtype  \n",
            "---  ------                 --------------  -----  \n",
            " 0   adult                  45466 non-null  object \n",
            " 1   belongs_to_collection  4494 non-null   object \n",
            " 2   budget                 45466 non-null  object \n",
            " 3   genres                 45466 non-null  object \n",
            " 4   homepage               7782 non-null   object \n",
            " 5   id                     45466 non-null  object \n",
            " 6   imdb_id                45449 non-null  object \n",
            " 7   original_language      45455 non-null  object \n",
            " 8   original_title         45466 non-null  object \n",
            " 9   overview               44512 non-null  object \n",
            " 10  popularity             45461 non-null  object \n",
            " 11  poster_path            45080 non-null  object \n",
            " 12  production_companies   45463 non-null  object \n",
            " 13  production_countries   45463 non-null  object \n",
            " 14  release_date           45379 non-null  object \n",
            " 15  revenue                45460 non-null  float64\n",
            " 16  runtime                45203 non-null  float64\n",
            " 17  spoken_languages       45460 non-null  object \n",
            " 18  status                 45379 non-null  object \n",
            " 19  tagline                20412 non-null  object \n",
            " 20  title                  45460 non-null  object \n",
            " 21  video                  45460 non-null  object \n",
            " 22  vote_average           45460 non-null  float64\n",
            " 23  vote_count             45460 non-null  float64\n",
            "dtypes: float64(4), object(20)\n",
            "memory usage: 8.3+ MB\n"
          ]
        }
      ]
    },
    {
      "cell_type": "markdown",
      "source": [
        "서 코사인 유사도에 사용할 데이터는 영화 제목에 해당하는 title 열과 줄거리에 해당하는 overview 열입니다. 좋아하는 영화를 입력하면, 해당 영화의 줄거리와 유사한 줄거리의 영화를 찾아서 추천하는 시스템을 만들 것입니다."
      ],
      "metadata": {
        "id": "J0eMOIMoZYQp"
      }
    },
    {
      "cell_type": "code",
      "source": [
        "data=data.head(20000)"
      ],
      "metadata": {
        "id": "dOb33hVEZT_K"
      },
      "execution_count": 9,
      "outputs": []
    },
    {
      "cell_type": "markdown",
      "source": [
        "tf-idf를 연산할때 데이터에 NULL값이 들어있으면 에러가 발생한다. TF-IDF의 대상이 되는 data의 overview열에 결측값에 해당하는 NULL값이 있는지 확인한다. "
      ],
      "metadata": {
        "id": "2E1-CBesZcUZ"
      }
    },
    {
      "cell_type": "code",
      "source": [
        "data['overview'].isna().sum()"
      ],
      "metadata": {
        "colab": {
          "base_uri": "https://localhost:8080/"
        },
        "id": "aSkQwZsCZaGl",
        "outputId": "4e93a58a-5e9f-4bc3-f151-6dc21107f79e"
      },
      "execution_count": 10,
      "outputs": [
        {
          "output_type": "execute_result",
          "data": {
            "text/plain": [
              "135"
            ]
          },
          "metadata": {},
          "execution_count": 10
        }
      ]
    },
    {
      "cell_type": "code",
      "source": [
        "#결측값 빈값으로 대체\n",
        "data['overview']=data['overview'].fillna('')"
      ],
      "metadata": {
        "id": "5Yu4Hx3TZxYA"
      },
      "execution_count": 11,
      "outputs": []
    },
    {
      "cell_type": "code",
      "source": [
        "#overview열에 대해 TFIDF 행렬을 구하자\n",
        "tfidf=TfidfVectorizer(stop_words='english')\n",
        "tfidf_matrix=tfidf.fit_transform(data['overview'])\n",
        "print(tfidf_matrix.shape)"
      ],
      "metadata": {
        "colab": {
          "base_uri": "https://localhost:8080/"
        },
        "id": "Ulv8ek5SZ3M9",
        "outputId": "c777ce13-cc3f-4b49-957f-9955b2bd4d68"
      },
      "execution_count": 12,
      "outputs": [
        {
          "output_type": "stream",
          "name": "stdout",
          "text": [
            "(20000, 47487)\n"
          ]
        }
      ]
    },
    {
      "cell_type": "markdown",
      "source": [
        " 20,000개의 영화를 표현하기 위해서 총 47,487개의 단어가 사용되었음을 의미합니다. 또는 47,847차원의 문서 벡터가 20,000개가 존재한다고도 표현할 수 있을 겁니다. 이제 20,000개의 문서 벡터에 대해서 상호 간의 코사인 유사도를 구합니다."
      ],
      "metadata": {
        "id": "tw5AP4DuaQ_e"
      }
    },
    {
      "cell_type": "code",
      "source": [
        "cosine_sim=cosine_similarity(tfidf_matrix,tfidf_matrix)\n",
        "print('코사인 유사도 연산 결과:',cosine_sim.shape)"
      ],
      "metadata": {
        "colab": {
          "base_uri": "https://localhost:8080/"
        },
        "id": "pn3nDr5paCMM",
        "outputId": "18a40d65-3aae-4d09-93c1-9fb3b07f6215"
      },
      "execution_count": 13,
      "outputs": [
        {
          "output_type": "stream",
          "name": "stdout",
          "text": [
            "코사인 유사도 연산 결과: (20000, 20000)\n"
          ]
        }
      ]
    },
    {
      "cell_type": "markdown",
      "source": [
        "코사인 유사도 연산 결과로는 20,000행 20,000열의 행렬을 얻습니다. 이는 20,000개의 각 문서 벡터(영화 줄거리 벡터)와 자기 자신을 포함한 20,000개의 문서 벡터 간의 유사도가 기록된 행렬입니다. 모든 20,000개 영화의 상호 유사도가 기록되어져 있습니다. 이제 기존 데이터프레임으로부터 영화의 타이틀을 key, 영화의 인덱스를 value로 하는 딕셔너리 title_to_index를 만들어둡니다."
      ],
      "metadata": {
        "id": "V2Em5mhEaqcv"
      }
    },
    {
      "cell_type": "code",
      "source": [
        "#영화의 타이틀을 key, 영화의 인덱스를 value로 하는 딕셔너리 title_to_index\n",
        "title_to_index=dict(zip(data['title'],data.index))\n",
        "\n",
        "# 영화 제목 Father of the Bride Part II의 인덱스를 리턴\n",
        "idx=title_to_index['Father of the Bride Part II']\n",
        "print(idx)"
      ],
      "metadata": {
        "colab": {
          "base_uri": "https://localhost:8080/"
        },
        "id": "MJAyQxBrafIj",
        "outputId": "9b282486-d0b3-4332-b019-03a76760452f"
      },
      "execution_count": 14,
      "outputs": [
        {
          "output_type": "stream",
          "name": "stdout",
          "text": [
            "4\n"
          ]
        }
      ]
    },
    {
      "cell_type": "markdown",
      "source": [
        "선택한 영화의 제목을 입력하면 코사인 유사도를 통해 가장 overview가 유사한 10개의 영화를 찾아내는 함수를 만든다. "
      ],
      "metadata": {
        "id": "X7_B8mH1bMmV"
      }
    },
    {
      "cell_type": "code",
      "source": [
        "def get_recommendations(title,cosine_sim=cosine_sim):\n",
        "  #선택한 영화의 타이틀로부터 해당 영화의 인덱스를 받아온다. \n",
        "  idx=title_to_index[title]\n",
        "\n",
        "  #해당 영화와 모든 영화와의 유사도를 가져온다. \n",
        "  sim_scores=list(enumerate(cosine_sim[idx]))\n",
        "\n",
        "  #유사도에 따라 영화정렬\n",
        "  sim_scores=sorted(sim_scores,key=lambda x:x[1],reverse=True)\n",
        "\n",
        "  #가장 유사한 10개의 영화를 받아온다.\n",
        "  sim_scores=sim_scores[1:11]\n",
        "\n",
        "  #가장 유사한 10개의 영화의 인덱스를 얻는다.\n",
        "  movie_indices=[idx[0] for idx in sim_scores]\n",
        "\n",
        "  #가장 유사한 10개의 영화의 제목을 리턴\n",
        "  return data['title'].iloc[movie_indices]\n",
        "\n"
      ],
      "metadata": {
        "id": "aGOc1NXVbGZq"
      },
      "execution_count": 18,
      "outputs": []
    },
    {
      "cell_type": "code",
      "source": [
        "get_recommendations('The Dark Knight Rises')"
      ],
      "metadata": {
        "colab": {
          "base_uri": "https://localhost:8080/"
        },
        "id": "Np0EvnQOdcAu",
        "outputId": "55d9c720-6fe1-4ec4-9620-647776b8f29d"
      },
      "execution_count": 19,
      "outputs": [
        {
          "output_type": "execute_result",
          "data": {
            "text/plain": [
              "12481                            The Dark Knight\n",
              "150                               Batman Forever\n",
              "1328                              Batman Returns\n",
              "15511                 Batman: Under the Red Hood\n",
              "585                                       Batman\n",
              "9230          Batman Beyond: Return of the Joker\n",
              "18035                           Batman: Year One\n",
              "19792    Batman: The Dark Knight Returns, Part 1\n",
              "3095                Batman: Mask of the Phantasm\n",
              "10122                              Batman Begins\n",
              "Name: title, dtype: object"
            ]
          },
          "metadata": {},
          "execution_count": 19
        }
      ]
    },
    {
      "cell_type": "markdown",
      "source": [
        "개소름"
      ],
      "metadata": {
        "id": "HDZaEq-Kdl3W"
      }
    },
    {
      "cell_type": "code",
      "source": [
        ""
      ],
      "metadata": {
        "id": "Gg98E8WygKP0"
      },
      "execution_count": null,
      "outputs": []
    }
  ]
}