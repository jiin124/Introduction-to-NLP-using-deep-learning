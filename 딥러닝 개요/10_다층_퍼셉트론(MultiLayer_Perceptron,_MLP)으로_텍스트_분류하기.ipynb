{
  "nbformat": 4,
  "nbformat_minor": 0,
  "metadata": {
    "colab": {
      "name": "10_다층 퍼셉트론(MultiLayer Perceptron, MLP)으로 텍스트 분류하기",
      "provenance": [],
      "authorship_tag": "ABX9TyO7dRzeb+QDK9k9lMmCCEUg"
    },
    "kernelspec": {
      "name": "python3",
      "display_name": "Python 3"
    },
    "language_info": {
      "name": "python"
    }
  },
  "cells": [
    {
      "cell_type": "markdown",
      "source": [
        "# 1. 다층 퍼셉트론(MultiLayer Perceptron, MLP)\n",
        "\n",
        "단층 퍼셉트론의 형태에서 은닉층이 1개 이상 추가된 신경망을 다층 퍼셉트론(MLP)이라고 한다.\n",
        "다층 퍼셉트론은 피드 포워드 신경망(Feed Forward Neural Network, FFNN)의 가장 기본적인 형태입니다. 피드 포워드 신경망은 입력층에서 출력층으로 오직 한 방향으로만 연산 방향이 정해져 있는 신경망을 말합니다.\n"
      ],
      "metadata": {
        "id": "w4cKuxBCphot"
      }
    },
    {
      "cell_type": "code",
      "execution_count": 1,
      "metadata": {
        "id": "-Fg017M8pcRx"
      },
      "outputs": [],
      "source": [
        "import numpy as np\n",
        "from tensorflow.keras.preprocessing.text import Tokenizer\n"
      ]
    },
    {
      "cell_type": "code",
      "source": [
        "texts = ['먹고 싶은 사과', '먹고 싶은 바나나', '길고 노란 바나나 바나나', '저는 과일이 좋아요']"
      ],
      "metadata": {
        "id": "pWyCOBOip9_u"
      },
      "execution_count": 2,
      "outputs": []
    },
    {
      "cell_type": "code",
      "source": [
        "tokenizer=Tokenizer()\n",
        "tokenizer.fit_on_texts(texts)\n",
        "print(tokenizer.word_index)"
      ],
      "metadata": {
        "colab": {
          "base_uri": "https://localhost:8080/"
        },
        "id": "Nj6IGrN0qCJy",
        "outputId": "7bd97574-7027-419b-921b-3ec3f90f3162"
      },
      "execution_count": 3,
      "outputs": [
        {
          "output_type": "stream",
          "name": "stdout",
          "text": [
            "{'바나나': 1, '먹고': 2, '싶은': 3, '사과': 4, '길고': 5, '노란': 6, '저는': 7, '과일이': 8, '좋아요': 9}\n"
          ]
        }
      ]
    },
    {
      "cell_type": "markdown",
      "source": [
        "텍스트 데이터에 texts_to_matrix()를 사용해보겠습니다. texts_to_matrix()란 이름에서 알 수 있지만, 이 도구는 입력된 텍스트 데이터로부터 행렬(matrix)를 만드는 도구입니다. texts_to_matrx()는 총 4개의 모드를 지원하는데 각 모드는 'binary', 'count', 'freq', 'tfidf'로 총 4개입니다. 우선 'count' 모드를 사용해봅시다"
      ],
      "metadata": {
        "id": "7XI0PCIhqhyN"
      }
    },
    {
      "cell_type": "code",
      "source": [
        "print(tokenizer.texts_to_matrix(texts,mode='count'))"
      ],
      "metadata": {
        "colab": {
          "base_uri": "https://localhost:8080/"
        },
        "id": "9FvuNDWfqYDw",
        "outputId": "0c240104-8a38-475e-b224-dedb4ebb39ed"
      },
      "execution_count": 5,
      "outputs": [
        {
          "output_type": "stream",
          "name": "stdout",
          "text": [
            "[[0. 0. 1. 1. 1. 0. 0. 0. 0. 0.]\n",
            " [0. 1. 1. 1. 0. 0. 0. 0. 0. 0.]\n",
            " [0. 2. 0. 0. 0. 1. 1. 0. 0. 0.]\n",
            " [0. 0. 0. 0. 0. 0. 0. 1. 1. 1.]]\n"
          ]
        }
      ]
    },
    {
      "cell_type": "markdown",
      "source": [
        "'count'를 사용하면 우리가 앞서 배운 문서 단어 행렬(Document-Term Matrix, DTM)을 생성합니다. DTM에서의 인덱스는 앞서 확인한 word_index의 결과입니다.\n",
        "\n",
        "다만 주의할 점은 각 단어에 부여되는 인덱스는 1부터 시작하는 반면에 완성되는 행렬의 인덱스는 0부터 시작합니다. 실제로 단어의 개수는 9개였지만 완성된 행렬의 열의 개수는 10개인 것과 첫번째 열은 모든 행에서 값이 0인 것을 볼 수 있습니다. 인덱스 0에는 그 어떤 단어도 할당되지 않았기 때문입니다."
      ],
      "metadata": {
        "id": "4SRmuP-WrDYQ"
      }
    },
    {
      "cell_type": "code",
      "source": [
        "print(tokenizer.texts_to_matrix(texts,mode='binary'))"
      ],
      "metadata": {
        "colab": {
          "base_uri": "https://localhost:8080/"
        },
        "id": "U7474eMnqjZF",
        "outputId": "1a7ea13f-69b8-4508-9da5-0a282b4b6187"
      },
      "execution_count": 6,
      "outputs": [
        {
          "output_type": "stream",
          "name": "stdout",
          "text": [
            "[[0. 0. 1. 1. 1. 0. 0. 0. 0. 0.]\n",
            " [0. 1. 1. 1. 0. 0. 0. 0. 0. 0.]\n",
            " [0. 1. 0. 0. 0. 1. 1. 0. 0. 0.]\n",
            " [0. 0. 0. 0. 0. 0. 0. 1. 1. 1.]]\n"
          ]
        }
      ]
    },
    {
      "cell_type": "markdown",
      "source": [
        "'binary' 모드는 해당 단어가 존재하는지만 관심을 가지고 해당 단어가 몇 개였는지는 무시\n",
        "해당 단어가 존재하면 1, 단어가 존재하지 않으면 0의 값을 가집니다. 즉, 단어의 존재 유무로만 행렬을 표현"
      ],
      "metadata": {
        "id": "qZLQG-fGrgQ4"
      }
    },
    {
      "cell_type": "code",
      "source": [
        "print(tokenizer.texts_to_matrix(texts,mode='tfidf').round(2))"
      ],
      "metadata": {
        "colab": {
          "base_uri": "https://localhost:8080/"
        },
        "id": "3JXnqYVlrUyW",
        "outputId": "f19e148f-5ec3-4832-c091-4bedbc61e71a"
      },
      "execution_count": 7,
      "outputs": [
        {
          "output_type": "stream",
          "name": "stdout",
          "text": [
            "[[0.   0.   0.85 0.85 1.1  0.   0.   0.   0.   0.  ]\n",
            " [0.   0.85 0.85 0.85 0.   0.   0.   0.   0.   0.  ]\n",
            " [0.   1.43 0.   0.   0.   1.1  1.1  0.   0.   0.  ]\n",
            " [0.   0.   0.   0.   0.   0.   0.   1.1  1.1  1.1 ]]\n"
          ]
        }
      ]
    },
    {
      "cell_type": "markdown",
      "source": [
        "'tfidf' 모드는 말 그대로 TF-IDF 행렬을 만듭니다.TF는 각 문서에서의 각 단어의 빈도였다면 'tfidf' 모드에서는 TF를 각 문서에서의 각 단어의 빈도에 자연 로그를 씌우고 1을 더한 값으로 정의했습니다."
      ],
      "metadata": {
        "id": "X9g27L9gr0ks"
      }
    },
    {
      "cell_type": "code",
      "source": [
        "print(tokenizer.texts_to_matrix(texts, mode = 'freq').round(2)) #"
      ],
      "metadata": {
        "colab": {
          "base_uri": "https://localhost:8080/"
        },
        "id": "rC_3Q-qqrqCb",
        "outputId": "9648a25d-a36e-48f6-aee5-d09e25df2463"
      },
      "execution_count": 8,
      "outputs": [
        {
          "output_type": "stream",
          "name": "stdout",
          "text": [
            "[[0.   0.   0.33 0.33 0.33 0.   0.   0.   0.   0.  ]\n",
            " [0.   0.33 0.33 0.33 0.   0.   0.   0.   0.   0.  ]\n",
            " [0.   0.5  0.   0.   0.   0.25 0.25 0.   0.   0.  ]\n",
            " [0.   0.   0.   0.   0.   0.   0.   0.33 0.33 0.33]]\n"
          ]
        }
      ]
    },
    {
      "cell_type": "markdown",
      "source": [
        "마지막으로 'freq' 모드입니다. 'freq' 모드는 각 문서에서의 각 단어의 등장 횟수를 분자로, 각 문서의 크기(각 문서에서 등장한 모든 단어의 개수의 총 합)를 분모로 하는 표현 방법입니다. 예를 들어 세번째 행을 보겠습니다. 세번째 문장은 '길고 노란 바나나 바나나' 였습니다. 문서의 크기는 4인데, 바나나는 총 2회 등장했습니다. 이에 따라서 세번째 문장에서의 단어 '바나나'의 값은 위의 행렬에서 0.5가 됩니다. 반면에 '길고', '노란'이라는 두 단어는 각 1회 등장했으므로 각자 1/4의 값인 0.25의 값을 가집니다."
      ],
      "metadata": {
        "id": "baJrJFxFssUY"
      }
    },
    {
      "cell_type": "markdown",
      "source": [
        "# 3. 20개 뉴스 그룹(Twenty Newsgroups) 데이터에 대한 이해\n",
        "\n"
      ],
      "metadata": {
        "id": "9E9lkwrtszPN"
      }
    },
    {
      "cell_type": "code",
      "source": [
        "import pandas as pd\n",
        "from sklearn.datasets import fetch_20newsgroups\n",
        "import matplotlib.pyplot as plt\n",
        "from tensorflow.keras.preprocessing.text import Tokenizer\n",
        "from tensorflow.keras.utils import to_categorical"
      ],
      "metadata": {
        "id": "dZEY-aUyspEq"
      },
      "execution_count": 9,
      "outputs": []
    },
    {
      "cell_type": "code",
      "source": [
        "newsdata=fetch_20newsgroups(subset='train')#train기재시 훈련데이터만 리턴"
      ],
      "metadata": {
        "id": "_QcNAxwJtD4e"
      },
      "execution_count": 10,
      "outputs": []
    },
    {
      "cell_type": "code",
      "source": [
        "newsdata.keys()"
      ],
      "metadata": {
        "colab": {
          "base_uri": "https://localhost:8080/"
        },
        "id": "o-BLQPTctXtd",
        "outputId": "33f61c25-e683-49f8-dbf9-3437a82d5659"
      },
      "execution_count": 11,
      "outputs": [
        {
          "output_type": "execute_result",
          "data": {
            "text/plain": [
              "dict_keys(['data', 'filenames', 'target_names', 'target', 'DESCR'])"
            ]
          },
          "metadata": {},
          "execution_count": 11
        }
      ]
    },
    {
      "cell_type": "markdown",
      "source": [
        "해당 데이터는 data, filenames, target_names, target, DESCR, description이라는 6개 속성을 갖고 있습니다. 이 중 실제로 훈련에 사용할 속성은 이메일 본문인 data와 메일이 어떤 주제인지 기재된 숫자 레이블인 target입니다. 우선 훈련용 샘플의 개수를 보겠습니다."
      ],
      "metadata": {
        "id": "H0csQfbPthl6"
      }
    },
    {
      "cell_type": "code",
      "source": [
        "#훈련용 샘플의 개수\n",
        "len(newsdata.data)"
      ],
      "metadata": {
        "colab": {
          "base_uri": "https://localhost:8080/"
        },
        "id": "MJtgilc6taq_",
        "outputId": "81a47b4a-ab8e-433c-e933-b1c116ee2eb2"
      },
      "execution_count": 12,
      "outputs": [
        {
          "output_type": "execute_result",
          "data": {
            "text/plain": [
              "11314"
            ]
          },
          "metadata": {},
          "execution_count": 12
        }
      ]
    },
    {
      "cell_type": "code",
      "source": [
        "#총 주제의 개수와 주제들\n",
        "#target_names에는 20개의 주제의 이름을 담고 있다. \n",
        "\n",
        "print(len(newsdata.target_names))\n",
        "print(newsdata.target_names)"
      ],
      "metadata": {
        "colab": {
          "base_uri": "https://localhost:8080/"
        },
        "id": "r5cYnaXPtmK2",
        "outputId": "890959b4-18ba-407a-b13a-8829d3ac27d5"
      },
      "execution_count": 13,
      "outputs": [
        {
          "output_type": "stream",
          "name": "stdout",
          "text": [
            "20\n",
            "['alt.atheism', 'comp.graphics', 'comp.os.ms-windows.misc', 'comp.sys.ibm.pc.hardware', 'comp.sys.mac.hardware', 'comp.windows.x', 'misc.forsale', 'rec.autos', 'rec.motorcycles', 'rec.sport.baseball', 'rec.sport.hockey', 'sci.crypt', 'sci.electronics', 'sci.med', 'sci.space', 'soc.religion.christian', 'talk.politics.guns', 'talk.politics.mideast', 'talk.politics.misc', 'talk.religion.misc']\n"
          ]
        }
      ]
    },
    {
      "cell_type": "markdown",
      "source": [
        "이번 실습의 목적은 테스트 데이터에서 이메일 본문을 보고 20개의 주제 중 어떤 주제인지를 맞추는 것입니다. 레이블인 target에는 총 0부터 19까지의 숫자가 들어가있는데 첫번째 샘플의 경우에는 몇 번 주제인지 확인해보겠습니다."
      ],
      "metadata": {
        "id": "61zXn-6guKm_"
      }
    },
    {
      "cell_type": "code",
      "source": [
        "print(newsdata.target[0])"
      ],
      "metadata": {
        "colab": {
          "base_uri": "https://localhost:8080/"
        },
        "id": "8W-CadXDttq3",
        "outputId": "1f9c1c9f-0533-4410-98e4-c86fd678371e"
      },
      "execution_count": 14,
      "outputs": [
        {
          "output_type": "stream",
          "name": "stdout",
          "text": [
            "7\n"
          ]
        }
      ]
    },
    {
      "cell_type": "code",
      "source": [
        "#7번 레이블이 의미하는 주제\n",
        "\n",
        "print(newsdata.target_names[7])"
      ],
      "metadata": {
        "colab": {
          "base_uri": "https://localhost:8080/"
        },
        "id": "bG1g0DNHuN-b",
        "outputId": "446d9053-9732-42eb-b453-ae8201ebdc7b"
      },
      "execution_count": 15,
      "outputs": [
        {
          "output_type": "stream",
          "name": "stdout",
          "text": [
            "rec.autos\n"
          ]
        }
      ]
    },
    {
      "cell_type": "code",
      "source": [
        "print(newsdata.data[0])"
      ],
      "metadata": {
        "colab": {
          "base_uri": "https://localhost:8080/"
        },
        "id": "NOj1W06luVxL",
        "outputId": "e58157e4-82f5-4fec-92c1-c40239f7a748"
      },
      "execution_count": 16,
      "outputs": [
        {
          "output_type": "stream",
          "name": "stdout",
          "text": [
            "From: lerxst@wam.umd.edu (where's my thing)\n",
            "Subject: WHAT car is this!?\n",
            "Nntp-Posting-Host: rac3.wam.umd.edu\n",
            "Organization: University of Maryland, College Park\n",
            "Lines: 15\n",
            "\n",
            " I was wondering if anyone out there could enlighten me on this car I saw\n",
            "the other day. It was a 2-door sports car, looked to be from the late 60s/\n",
            "early 70s. It was called a Bricklin. The doors were really small. In addition,\n",
            "the front bumper was separate from the rest of the body. This is \n",
            "all I know. If anyone can tellme a model name, engine specs, years\n",
            "of production, where this car is made, history, or whatever info you\n",
            "have on this funky looking car, please e-mail.\n",
            "\n",
            "Thanks,\n",
            "- IL\n",
            "   ---- brought to you by your neighborhood Lerxst ----\n",
            "\n",
            "\n",
            "\n",
            "\n",
            "\n"
          ]
        }
      ]
    },
    {
      "cell_type": "code",
      "source": [
        "data=pd.DataFrame(newsdata.data,columns=['email'])\n",
        "data['target']=pd.Series(newsdata.target)\n",
        "data.head()"
      ],
      "metadata": {
        "colab": {
          "base_uri": "https://localhost:8080/",
          "height": 206
        },
        "id": "JVXoT56kuZK_",
        "outputId": "e3c73ac4-52d4-4d04-f760-0fc89a4101f2"
      },
      "execution_count": 18,
      "outputs": [
        {
          "output_type": "execute_result",
          "data": {
            "text/html": [
              "\n",
              "  <div id=\"df-71e43c50-dd63-46d4-b393-e6638b17317a\">\n",
              "    <div class=\"colab-df-container\">\n",
              "      <div>\n",
              "<style scoped>\n",
              "    .dataframe tbody tr th:only-of-type {\n",
              "        vertical-align: middle;\n",
              "    }\n",
              "\n",
              "    .dataframe tbody tr th {\n",
              "        vertical-align: top;\n",
              "    }\n",
              "\n",
              "    .dataframe thead th {\n",
              "        text-align: right;\n",
              "    }\n",
              "</style>\n",
              "<table border=\"1\" class=\"dataframe\">\n",
              "  <thead>\n",
              "    <tr style=\"text-align: right;\">\n",
              "      <th></th>\n",
              "      <th>email</th>\n",
              "      <th>target</th>\n",
              "    </tr>\n",
              "  </thead>\n",
              "  <tbody>\n",
              "    <tr>\n",
              "      <th>0</th>\n",
              "      <td>From: lerxst@wam.umd.edu (where's my thing)\\nS...</td>\n",
              "      <td>7</td>\n",
              "    </tr>\n",
              "    <tr>\n",
              "      <th>1</th>\n",
              "      <td>From: guykuo@carson.u.washington.edu (Guy Kuo)...</td>\n",
              "      <td>4</td>\n",
              "    </tr>\n",
              "    <tr>\n",
              "      <th>2</th>\n",
              "      <td>From: twillis@ec.ecn.purdue.edu (Thomas E Will...</td>\n",
              "      <td>4</td>\n",
              "    </tr>\n",
              "    <tr>\n",
              "      <th>3</th>\n",
              "      <td>From: jgreen@amber (Joe Green)\\nSubject: Re: W...</td>\n",
              "      <td>1</td>\n",
              "    </tr>\n",
              "    <tr>\n",
              "      <th>4</th>\n",
              "      <td>From: jcm@head-cfa.harvard.edu (Jonathan McDow...</td>\n",
              "      <td>14</td>\n",
              "    </tr>\n",
              "  </tbody>\n",
              "</table>\n",
              "</div>\n",
              "      <button class=\"colab-df-convert\" onclick=\"convertToInteractive('df-71e43c50-dd63-46d4-b393-e6638b17317a')\"\n",
              "              title=\"Convert this dataframe to an interactive table.\"\n",
              "              style=\"display:none;\">\n",
              "        \n",
              "  <svg xmlns=\"http://www.w3.org/2000/svg\" height=\"24px\"viewBox=\"0 0 24 24\"\n",
              "       width=\"24px\">\n",
              "    <path d=\"M0 0h24v24H0V0z\" fill=\"none\"/>\n",
              "    <path d=\"M18.56 5.44l.94 2.06.94-2.06 2.06-.94-2.06-.94-.94-2.06-.94 2.06-2.06.94zm-11 1L8.5 8.5l.94-2.06 2.06-.94-2.06-.94L8.5 2.5l-.94 2.06-2.06.94zm10 10l.94 2.06.94-2.06 2.06-.94-2.06-.94-.94-2.06-.94 2.06-2.06.94z\"/><path d=\"M17.41 7.96l-1.37-1.37c-.4-.4-.92-.59-1.43-.59-.52 0-1.04.2-1.43.59L10.3 9.45l-7.72 7.72c-.78.78-.78 2.05 0 2.83L4 21.41c.39.39.9.59 1.41.59.51 0 1.02-.2 1.41-.59l7.78-7.78 2.81-2.81c.8-.78.8-2.07 0-2.86zM5.41 20L4 18.59l7.72-7.72 1.47 1.35L5.41 20z\"/>\n",
              "  </svg>\n",
              "      </button>\n",
              "      \n",
              "  <style>\n",
              "    .colab-df-container {\n",
              "      display:flex;\n",
              "      flex-wrap:wrap;\n",
              "      gap: 12px;\n",
              "    }\n",
              "\n",
              "    .colab-df-convert {\n",
              "      background-color: #E8F0FE;\n",
              "      border: none;\n",
              "      border-radius: 50%;\n",
              "      cursor: pointer;\n",
              "      display: none;\n",
              "      fill: #1967D2;\n",
              "      height: 32px;\n",
              "      padding: 0 0 0 0;\n",
              "      width: 32px;\n",
              "    }\n",
              "\n",
              "    .colab-df-convert:hover {\n",
              "      background-color: #E2EBFA;\n",
              "      box-shadow: 0px 1px 2px rgba(60, 64, 67, 0.3), 0px 1px 3px 1px rgba(60, 64, 67, 0.15);\n",
              "      fill: #174EA6;\n",
              "    }\n",
              "\n",
              "    [theme=dark] .colab-df-convert {\n",
              "      background-color: #3B4455;\n",
              "      fill: #D2E3FC;\n",
              "    }\n",
              "\n",
              "    [theme=dark] .colab-df-convert:hover {\n",
              "      background-color: #434B5C;\n",
              "      box-shadow: 0px 1px 3px 1px rgba(0, 0, 0, 0.15);\n",
              "      filter: drop-shadow(0px 1px 2px rgba(0, 0, 0, 0.3));\n",
              "      fill: #FFFFFF;\n",
              "    }\n",
              "  </style>\n",
              "\n",
              "      <script>\n",
              "        const buttonEl =\n",
              "          document.querySelector('#df-71e43c50-dd63-46d4-b393-e6638b17317a button.colab-df-convert');\n",
              "        buttonEl.style.display =\n",
              "          google.colab.kernel.accessAllowed ? 'block' : 'none';\n",
              "\n",
              "        async function convertToInteractive(key) {\n",
              "          const element = document.querySelector('#df-71e43c50-dd63-46d4-b393-e6638b17317a');\n",
              "          const dataTable =\n",
              "            await google.colab.kernel.invokeFunction('convertToInteractive',\n",
              "                                                     [key], {});\n",
              "          if (!dataTable) return;\n",
              "\n",
              "          const docLinkHtml = 'Like what you see? Visit the ' +\n",
              "            '<a target=\"_blank\" href=https://colab.research.google.com/notebooks/data_table.ipynb>data table notebook</a>'\n",
              "            + ' to learn more about interactive tables.';\n",
              "          element.innerHTML = '';\n",
              "          dataTable['output_type'] = 'display_data';\n",
              "          await google.colab.output.renderOutput(dataTable, element);\n",
              "          const docLink = document.createElement('div');\n",
              "          docLink.innerHTML = docLinkHtml;\n",
              "          element.appendChild(docLink);\n",
              "        }\n",
              "      </script>\n",
              "    </div>\n",
              "  </div>\n",
              "  "
            ],
            "text/plain": [
              "                                               email  target\n",
              "0  From: lerxst@wam.umd.edu (where's my thing)\\nS...       7\n",
              "1  From: guykuo@carson.u.washington.edu (Guy Kuo)...       4\n",
              "2  From: twillis@ec.ecn.purdue.edu (Thomas E Will...       4\n",
              "3  From: jgreen@amber (Joe Green)\\nSubject: Re: W...       1\n",
              "4  From: jcm@head-cfa.harvard.edu (Jonathan McDow...      14"
            ]
          },
          "metadata": {},
          "execution_count": 18
        }
      ]
    },
    {
      "cell_type": "code",
      "source": [
        "data.info()"
      ],
      "metadata": {
        "colab": {
          "base_uri": "https://localhost:8080/"
        },
        "id": "8BGhBiXkvANR",
        "outputId": "36094884-0cb1-4c6c-ba16-34c3be940eec"
      },
      "execution_count": 19,
      "outputs": [
        {
          "output_type": "stream",
          "name": "stdout",
          "text": [
            "<class 'pandas.core.frame.DataFrame'>\n",
            "RangeIndex: 11314 entries, 0 to 11313\n",
            "Data columns (total 2 columns):\n",
            " #   Column  Non-Null Count  Dtype \n",
            "---  ------  --------------  ----- \n",
            " 0   email   11314 non-null  object\n",
            " 1   target  11314 non-null  int64 \n",
            "dtypes: int64(1), object(1)\n",
            "memory usage: 176.9+ KB\n"
          ]
        }
      ]
    },
    {
      "cell_type": "code",
      "source": [
        "data.isna().sum()"
      ],
      "metadata": {
        "colab": {
          "base_uri": "https://localhost:8080/"
        },
        "id": "4PQnSTQVvDDg",
        "outputId": "d74caea6-d04a-45d7-ed70-961f8472c744"
      },
      "execution_count": 20,
      "outputs": [
        {
          "output_type": "execute_result",
          "data": {
            "text/plain": [
              "email     0\n",
              "target    0\n",
              "dtype: int64"
            ]
          },
          "metadata": {},
          "execution_count": 20
        }
      ]
    },
    {
      "cell_type": "markdown",
      "source": [
        "nunique()를 통해 샘플 중 중복을 제거한 개수를 확인할 수 있습니다."
      ],
      "metadata": {
        "id": "FyE_FoSAvJVi"
      }
    },
    {
      "cell_type": "code",
      "source": [
        "print('중복을 제외한 샘플의 수 : {}'.format(data['email'].nunique()))\n",
        "print('중복을 제외한 주제의 수 : {}'.format(data['target'].nunique()))"
      ],
      "metadata": {
        "colab": {
          "base_uri": "https://localhost:8080/"
        },
        "id": "OyLRWS4XvFql",
        "outputId": "ae64be02-3532-47db-faaa-a073fbd2253e"
      },
      "execution_count": 21,
      "outputs": [
        {
          "output_type": "stream",
          "name": "stdout",
          "text": [
            "중복을 제외한 샘플의 수 : 11314\n",
            "중복을 제외한 주제의 수 : 20\n"
          ]
        }
      ]
    },
    {
      "cell_type": "code",
      "source": [
        "data['target'].value_counts().plot(kind='bar')"
      ],
      "metadata": {
        "colab": {
          "base_uri": "https://localhost:8080/",
          "height": 286
        },
        "id": "kHirFu2vvVBr",
        "outputId": "ff6ce65d-a4e1-4f4a-e989-b86402c99a0f"
      },
      "execution_count": 22,
      "outputs": [
        {
          "output_type": "execute_result",
          "data": {
            "text/plain": [
              "<matplotlib.axes._subplots.AxesSubplot at 0x7ff8027e3250>"
            ]
          },
          "metadata": {},
          "execution_count": 22
        },
        {
          "output_type": "display_data",
          "data": {
            "image/png": "[encoded data removed]",
            "text/plain": [
              "<Figure size 432x288 with 1 Axes>"
            ]
          },
          "metadata": {
            "needs_background": "light"
          }
        }
      ]
    },
    {
      "cell_type": "code",
      "source": [
        "data.groupby('target').size().reset_index(name='count')"
      ],
      "metadata": {
        "colab": {
          "base_uri": "https://localhost:8080/",
          "height": 676
        },
        "id": "SgIl-VMqvZZ6",
        "outputId": "65a1ed6a-1497-4012-c550-bcb2c265c1b4"
      },
      "execution_count": 23,
      "outputs": [
        {
          "output_type": "execute_result",
          "data": {
            "text/html": [
              "\n",
              "  <div id=\"df-fe9844aa-5fc2-40d9-b17c-a7c4de0e2bb5\">\n",
              "    <div class=\"colab-df-container\">\n",
              "      <div>\n",
              "<style scoped>\n",
              "    .dataframe tbody tr th:only-of-type {\n",
              "        vertical-align: middle;\n",
              "    }\n",
              "\n",
              "    .dataframe tbody tr th {\n",
              "        vertical-align: top;\n",
              "    }\n",
              "\n",
              "    .dataframe thead th {\n",
              "        text-align: right;\n",
              "    }\n",
              "</style>\n",
              "<table border=\"1\" class=\"dataframe\">\n",
              "  <thead>\n",
              "    <tr style=\"text-align: right;\">\n",
              "      <th></th>\n",
              "      <th>target</th>\n",
              "      <th>count</th>\n",
              "    </tr>\n",
              "  </thead>\n",
              "  <tbody>\n",
              "    <tr>\n",
              "      <th>0</th>\n",
              "      <td>0</td>\n",
              "      <td>480</td>\n",
              "    </tr>\n",
              "    <tr>\n",
              "      <th>1</th>\n",
              "      <td>1</td>\n",
              "      <td>584</td>\n",
              "    </tr>\n",
              "    <tr>\n",
              "      <th>2</th>\n",
              "      <td>2</td>\n",
              "      <td>591</td>\n",
              "    </tr>\n",
              "    <tr>\n",
              "      <th>3</th>\n",
              "      <td>3</td>\n",
              "      <td>590</td>\n",
              "    </tr>\n",
              "    <tr>\n",
              "      <th>4</th>\n",
              "      <td>4</td>\n",
              "      <td>578</td>\n",
              "    </tr>\n",
              "    <tr>\n",
              "      <th>5</th>\n",
              "      <td>5</td>\n",
              "      <td>593</td>\n",
              "    </tr>\n",
              "    <tr>\n",
              "      <th>6</th>\n",
              "      <td>6</td>\n",
              "      <td>585</td>\n",
              "    </tr>\n",
              "    <tr>\n",
              "      <th>7</th>\n",
              "      <td>7</td>\n",
              "      <td>594</td>\n",
              "    </tr>\n",
              "    <tr>\n",
              "      <th>8</th>\n",
              "      <td>8</td>\n",
              "      <td>598</td>\n",
              "    </tr>\n",
              "    <tr>\n",
              "      <th>9</th>\n",
              "      <td>9</td>\n",
              "      <td>597</td>\n",
              "    </tr>\n",
              "    <tr>\n",
              "      <th>10</th>\n",
              "      <td>10</td>\n",
              "      <td>600</td>\n",
              "    </tr>\n",
              "    <tr>\n",
              "      <th>11</th>\n",
              "      <td>11</td>\n",
              "      <td>595</td>\n",
              "    </tr>\n",
              "    <tr>\n",
              "      <th>12</th>\n",
              "      <td>12</td>\n",
              "      <td>591</td>\n",
              "    </tr>\n",
              "    <tr>\n",
              "      <th>13</th>\n",
              "      <td>13</td>\n",
              "      <td>594</td>\n",
              "    </tr>\n",
              "    <tr>\n",
              "      <th>14</th>\n",
              "      <td>14</td>\n",
              "      <td>593</td>\n",
              "    </tr>\n",
              "    <tr>\n",
              "      <th>15</th>\n",
              "      <td>15</td>\n",
              "      <td>599</td>\n",
              "    </tr>\n",
              "    <tr>\n",
              "      <th>16</th>\n",
              "      <td>16</td>\n",
              "      <td>546</td>\n",
              "    </tr>\n",
              "    <tr>\n",
              "      <th>17</th>\n",
              "      <td>17</td>\n",
              "      <td>564</td>\n",
              "    </tr>\n",
              "    <tr>\n",
              "      <th>18</th>\n",
              "      <td>18</td>\n",
              "      <td>465</td>\n",
              "    </tr>\n",
              "    <tr>\n",
              "      <th>19</th>\n",
              "      <td>19</td>\n",
              "      <td>377</td>\n",
              "    </tr>\n",
              "  </tbody>\n",
              "</table>\n",
              "</div>\n",
              "      <button class=\"colab-df-convert\" onclick=\"convertToInteractive('df-fe9844aa-5fc2-40d9-b17c-a7c4de0e2bb5')\"\n",
              "              title=\"Convert this dataframe to an interactive table.\"\n",
              "              style=\"display:none;\">\n",
              "        \n",
              "  <svg xmlns=\"http://www.w3.org/2000/svg\" height=\"24px\"viewBox=\"0 0 24 24\"\n",
              "       width=\"24px\">\n",
              "    <path d=\"M0 0h24v24H0V0z\" fill=\"none\"/>\n",
              "    <path d=\"M18.56 5.44l.94 2.06.94-2.06 2.06-.94-2.06-.94-.94-2.06-.94 2.06-2.06.94zm-11 1L8.5 8.5l.94-2.06 2.06-.94-2.06-.94L8.5 2.5l-.94 2.06-2.06.94zm10 10l.94 2.06.94-2.06 2.06-.94-2.06-.94-.94-2.06-.94 2.06-2.06.94z\"/><path d=\"M17.41 7.96l-1.37-1.37c-.4-.4-.92-.59-1.43-.59-.52 0-1.04.2-1.43.59L10.3 9.45l-7.72 7.72c-.78.78-.78 2.05 0 2.83L4 21.41c.39.39.9.59 1.41.59.51 0 1.02-.2 1.41-.59l7.78-7.78 2.81-2.81c.8-.78.8-2.07 0-2.86zM5.41 20L4 18.59l7.72-7.72 1.47 1.35L5.41 20z\"/>\n",
              "  </svg>\n",
              "      </button>\n",
              "      \n",
              "  <style>\n",
              "    .colab-df-container {\n",
              "      display:flex;\n",
              "      flex-wrap:wrap;\n",
              "      gap: 12px;\n",
              "    }\n",
              "\n",
              "    .colab-df-convert {\n",
              "      background-color: #E8F0FE;\n",
              "      border: none;\n",
              "      border-radius: 50%;\n",
              "      cursor: pointer;\n",
              "      display: none;\n",
              "      fill: #1967D2;\n",
              "      height: 32px;\n",
              "      padding: 0 0 0 0;\n",
              "      width: 32px;\n",
              "    }\n",
              "\n",
              "    .colab-df-convert:hover {\n",
              "      background-color: #E2EBFA;\n",
              "      box-shadow: 0px 1px 2px rgba(60, 64, 67, 0.3), 0px 1px 3px 1px rgba(60, 64, 67, 0.15);\n",
              "      fill: #174EA6;\n",
              "    }\n",
              "\n",
              "    [theme=dark] .colab-df-convert {\n",
              "      background-color: #3B4455;\n",
              "      fill: #D2E3FC;\n",
              "    }\n",
              "\n",
              "    [theme=dark] .colab-df-convert:hover {\n",
              "      background-color: #434B5C;\n",
              "      box-shadow: 0px 1px 3px 1px rgba(0, 0, 0, 0.15);\n",
              "      filter: drop-shadow(0px 1px 2px rgba(0, 0, 0, 0.3));\n",
              "      fill: #FFFFFF;\n",
              "    }\n",
              "  </style>\n",
              "\n",
              "      <script>\n",
              "        const buttonEl =\n",
              "          document.querySelector('#df-fe9844aa-5fc2-40d9-b17c-a7c4de0e2bb5 button.colab-df-convert');\n",
              "        buttonEl.style.display =\n",
              "          google.colab.kernel.accessAllowed ? 'block' : 'none';\n",
              "\n",
              "        async function convertToInteractive(key) {\n",
              "          const element = document.querySelector('#df-fe9844aa-5fc2-40d9-b17c-a7c4de0e2bb5');\n",
              "          const dataTable =\n",
              "            await google.colab.kernel.invokeFunction('convertToInteractive',\n",
              "                                                     [key], {});\n",
              "          if (!dataTable) return;\n",
              "\n",
              "          const docLinkHtml = 'Like what you see? Visit the ' +\n",
              "            '<a target=\"_blank\" href=https://colab.research.google.com/notebooks/data_table.ipynb>data table notebook</a>'\n",
              "            + ' to learn more about interactive tables.';\n",
              "          element.innerHTML = '';\n",
              "          dataTable['output_type'] = 'display_data';\n",
              "          await google.colab.output.renderOutput(dataTable, element);\n",
              "          const docLink = document.createElement('div');\n",
              "          docLink.innerHTML = docLinkHtml;\n",
              "          element.appendChild(docLink);\n",
              "        }\n",
              "      </script>\n",
              "    </div>\n",
              "  </div>\n",
              "  "
            ],
            "text/plain": [
              "    target  count\n",
              "0        0    480\n",
              "1        1    584\n",
              "2        2    591\n",
              "3        3    590\n",
              "4        4    578\n",
              "5        5    593\n",
              "6        6    585\n",
              "7        7    594\n",
              "8        8    598\n",
              "9        9    597\n",
              "10      10    600\n",
              "11      11    595\n",
              "12      12    591\n",
              "13      13    594\n",
              "14      14    593\n",
              "15      15    599\n",
              "16      16    546\n",
              "17      17    564\n",
              "18      18    465\n",
              "19      19    377"
            ]
          },
          "metadata": {},
          "execution_count": 23
        }
      ]
    },
    {
      "cell_type": "markdown",
      "source": [
        "데이터프레임으로부터 다시 메일 본문과 레이블을 분리하고, 테스트 데이터 또한 불러오겠다. subset에 'test'를 기재하면 테스트 데이터를 불러온다. 훈련데이터와 테스트 데이터의 본문과 레이블을 각각 저장한다. "
      ],
      "metadata": {
        "id": "RgfrFyPovpJW"
      }
    },
    {
      "cell_type": "code",
      "source": [
        "newsdata_test = fetch_20newsgroups(subset='test', shuffle=True)\n",
        "train_email=data['email']\n",
        "train_label=data['target']\n",
        "test_email=newsdata_test.data\n",
        "test_label=newsdata_test.target"
      ],
      "metadata": {
        "id": "XC98d-Tjvfwh"
      },
      "execution_count": 24,
      "outputs": []
    },
    {
      "cell_type": "markdown",
      "source": [
        "케라스의 토크나이저 도구를 사용하여 전처리를 진행해봅시다."
      ],
      "metadata": {
        "id": "DnD_NV7TwEuP"
      }
    },
    {
      "cell_type": "code",
      "source": [
        "#vocab_size는 이번 실습에서 사용할 최대 단어 개수를 정의하는 변수\n",
        "#케라스 토크나이저를 사용하면 빈도수 순으로 인덱스를 부여하므로, 빈도수가 가장 높은 상위 vocab_size 개수만큼의 단어를 사용합니다.\n",
        "\n",
        "vocab_size = 10000\n",
        "num_classes = 20"
      ],
      "metadata": {
        "id": "ux_hJEHAwDAw"
      },
      "execution_count": 25,
      "outputs": []
    },
    {
      "cell_type": "code",
      "source": [
        "def prepare_data(train_data,test_data,mode):\n",
        "  tokenizer=Tokenizer(num_words=vocab_size)\n",
        "  tokenizer.fit_on_texts(train_data)#토큰화, 인덱스\n",
        "  X_train=tokenizer.texts_to_matrix(train_data,mode=mode)\n",
        "  X_test=tokenizer.texts_to_matrix(test_data,mode=mode)\n",
        "\n",
        "  return X_train,X_test,tokenizer.index_word"
      ],
      "metadata": {
        "id": "zWkgmoDyw7i9"
      },
      "execution_count": 26,
      "outputs": []
    },
    {
      "cell_type": "code",
      "source": [
        "X_train,X_test,index_to_word=prepare_data(train_email,test_email,'binary')\n",
        "\n",
        "y_train=to_categorical(train_label,num_classes)#원핫인코딩\n",
        "y_test=to_categorical(test_label,num_classes)#원핫인코딩\n"
      ],
      "metadata": {
        "id": "E6bq18dTxglM"
      },
      "execution_count": 27,
      "outputs": []
    },
    {
      "cell_type": "code",
      "source": [
        "print('훈련 샘플 본문의 크기 : {}'.format(X_train.shape))\n",
        "print('훈련 샘플 레이블의 크기 : {}'.format(y_train.shape))\n",
        "print('테스트 샘플 본문의 크기 : {}'.format(X_test.shape))\n",
        "print('테스트 샘플 레이블의 크기 : {}'.format(y_test.shape))"
      ],
      "metadata": {
        "colab": {
          "base_uri": "https://localhost:8080/"
        },
        "id": "Xv4bzDepypSP",
        "outputId": "cf4ac9df-4426-41f2-fc9b-fabea3ba6d7d"
      },
      "execution_count": 28,
      "outputs": [
        {
          "output_type": "stream",
          "name": "stdout",
          "text": [
            "훈련 샘플 본문의 크기 : (11314, 10000)\n",
            "훈련 샘플 레이블의 크기 : (11314, 20)\n",
            "테스트 샘플 본문의 크기 : (7532, 10000)\n",
            "테스트 샘플 레이블의 크기 : (7532, 20)\n"
          ]
        }
      ]
    },
    {
      "cell_type": "code",
      "source": [
        "print('빈도수 상위 1번 단어 : {}'.format(index_to_word[1]))\n",
        "print('빈도수 상위 9999번 단어 : {}'.format(index_to_word[9999]))"
      ],
      "metadata": {
        "colab": {
          "base_uri": "https://localhost:8080/"
        },
        "id": "zysiQ4KRy8LR",
        "outputId": "5501182e-f0d4-4bb7-e7b8-b7e33c531bc8"
      },
      "execution_count": 29,
      "outputs": [
        {
          "output_type": "stream",
          "name": "stdout",
          "text": [
            "빈도수 상위 1번 단어 : the\n",
            "빈도수 상위 9999번 단어 : mic\n"
          ]
        }
      ]
    },
    {
      "cell_type": "markdown",
      "source": [
        "# 4. 다층 퍼셉트론(MLP)를 사용해 텍스트 분류하기\n"
      ],
      "metadata": {
        "id": "XYmWj6ChzzNY"
      }
    },
    {
      "cell_type": "code",
      "source": [
        "from tensorflow.keras.models import Sequential\n",
        "from tensorflow.keras.layers import Dense,Dropout"
      ],
      "metadata": {
        "id": "09vUJORgzC32"
      },
      "execution_count": 30,
      "outputs": []
    },
    {
      "cell_type": "code",
      "source": [
        "def fit_and_evaluate(X_train, y_train, X_test, y_test):\n",
        "    model = Sequential()\n",
        "    model.add(Dense(256, input_shape=(vocab_size,), activation='relu'))\n",
        "    model.add(Dropout(0.5))\n",
        "    model.add(Dense(128, activation='relu'))\n",
        "    model.add(Dropout(0.5))\n",
        "    model.add(Dense(num_classes, activation='softmax'))\n",
        "\n",
        "    model.compile(loss='categorical_crossentropy', optimizer='adam', metrics=['accuracy'])\n",
        "    model.fit(X_train, y_train, batch_size=128, epochs=5, verbose=1, validation_split=0.1)\n",
        "    score = model.evaluate(X_test, y_test, batch_size=128, verbose=0)\n",
        "    return score[1]"
      ],
      "metadata": {
        "id": "SMrBI_XNz84y"
      },
      "execution_count": 35,
      "outputs": []
    },
    {
      "cell_type": "markdown",
      "source": [
        "![image.png](data:image/png;base64,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)"
      ],
      "metadata": {
        "id": "qyUKRLrD2VP6"
      }
    },
    {
      "cell_type": "markdown",
      "source": [
        "이번에 설계한 다층 퍼셉트론은 은닉층이 2개이므로 깊은 신경망(Deep Neural Network, DNN)입니다.\n",
        "\n",
        "위 모델에서는 과적합을 막기 위해서 두 번의 드롭아웃(Dropout)을 적용하였습니다. 이 문제는 다중 클래스 분류 문제입니다. 여러 개의 선택지 중에서 하나의 선택지를 고르는 문제인데, 이 경우 20개의 주제 중에서 모델은 자신이 정답이라고 생각하는 1개의 주제를 예측해야 합니다. 다중 클래스 분류 문제이므로 출력층의 활성화 함수로는 소프트맥스 함수를 사용하고, 손실 함수로는 크로스 엔트로피(categorical_crossentropy) 함수를 사용하였습니다."
      ],
      "metadata": {
        "id": "g5UIMI9b2i4x"
      }
    },
    {
      "cell_type": "code",
      "source": [
        "modes = ['binary', 'count', 'tfidf', 'freq'] # 4개의 모드를 리스트에 저장.\n",
        "\n",
        "for mode in modes: # 4개의 모드에 대해서 각각 아래의 작업을 반복한다.\n",
        "    X_train, X_test, _ = prepare_data(train_email, test_email, mode) # 모드에 따라서 데이터를 전처리\n",
        "    score = fit_and_evaluate(X_train, y_train, X_test, y_test) # 모델을 훈련하고 평가.\n",
        "    print(mode+' 모드의 테스트 정확도:', score)"
      ],
      "metadata": {
        "colab": {
          "base_uri": "https://localhost:8080/"
        },
        "id": "5yGB3use2ESt",
        "outputId": "f1fbd2fa-4ca8-4757-e2e1-17327bcd3711"
      },
      "execution_count": 36,
      "outputs": [
        {
          "output_type": "stream",
          "name": "stdout",
          "text": [
            "Epoch 1/5\n",
            "80/80 [==============================] - 6s 63ms/step - loss: 2.2745 - accuracy: 0.3365 - val_loss: 0.9480 - val_accuracy: 0.8233\n",
            "Epoch 2/5\n",
            "80/80 [==============================] - 3s 37ms/step - loss: 0.8619 - accuracy: 0.7635 - val_loss: 0.4456 - val_accuracy: 0.8940\n",
            "Epoch 3/5\n",
            "80/80 [==============================] - 3s 38ms/step - loss: 0.4331 - accuracy: 0.8837 - val_loss: 0.3472 - val_accuracy: 0.9055\n",
            "Epoch 4/5\n",
            "80/80 [==============================] - 3s 37ms/step - loss: 0.2562 - accuracy: 0.9334 - val_loss: 0.3231 - val_accuracy: 0.9117\n",
            "Epoch 5/5\n",
            "80/80 [==============================] - 3s 37ms/step - loss: 0.1731 - accuracy: 0.9591 - val_loss: 0.3000 - val_accuracy: 0.9196\n",
            "binary 모드의 테스트 정확도: 0.8248804807662964\n",
            "Epoch 1/5\n",
            "80/80 [==============================] - 4s 40ms/step - loss: 2.7809 - accuracy: 0.2514 - val_loss: 1.5456 - val_accuracy: 0.7518\n",
            "Epoch 2/5\n",
            "80/80 [==============================] - 3s 37ms/step - loss: 1.4267 - accuracy: 0.6315 - val_loss: 0.6981 - val_accuracy: 0.8560\n",
            "Epoch 3/5\n",
            "80/80 [==============================] - 3s 37ms/step - loss: 0.7835 - accuracy: 0.8002 - val_loss: 0.5014 - val_accuracy: 0.8754\n",
            "Epoch 4/5\n",
            "80/80 [==============================] - 3s 37ms/step - loss: 0.5054 - accuracy: 0.8770 - val_loss: 0.4381 - val_accuracy: 0.8878\n",
            "Epoch 5/5\n",
            "80/80 [==============================] - 3s 37ms/step - loss: 0.4297 - accuracy: 0.9175 - val_loss: 0.4193 - val_accuracy: 0.8905\n",
            "count 모드의 테스트 정확도: 0.816383421421051\n",
            "Epoch 1/5\n",
            "80/80 [==============================] - 4s 39ms/step - loss: 2.2065 - accuracy: 0.3654 - val_loss: 0.7435 - val_accuracy: 0.8463\n",
            "Epoch 2/5\n",
            "80/80 [==============================] - 3s 37ms/step - loss: 0.8280 - accuracy: 0.7775 - val_loss: 0.4294 - val_accuracy: 0.8878\n",
            "Epoch 3/5\n",
            "80/80 [==============================] - 3s 37ms/step - loss: 0.4575 - accuracy: 0.8816 - val_loss: 0.3539 - val_accuracy: 0.9046\n",
            "Epoch 4/5\n",
            "80/80 [==============================] - 3s 37ms/step - loss: 0.2915 - accuracy: 0.9289 - val_loss: 0.3498 - val_accuracy: 0.9099\n",
            "Epoch 5/5\n",
            "80/80 [==============================] - 3s 38ms/step - loss: 0.1936 - accuracy: 0.9522 - val_loss: 0.3433 - val_accuracy: 0.9117\n",
            "tfidf 모드의 테스트 정확도: 0.8264737129211426\n",
            "Epoch 1/5\n",
            "80/80 [==============================] - 4s 40ms/step - loss: 2.9764 - accuracy: 0.0926 - val_loss: 2.9229 - val_accuracy: 0.3224\n",
            "Epoch 2/5\n",
            "80/80 [==============================] - 3s 37ms/step - loss: 2.7124 - accuracy: 0.2103 - val_loss: 2.3931 - val_accuracy: 0.4231\n",
            "Epoch 3/5\n",
            "80/80 [==============================] - 3s 37ms/step - loss: 2.1781 - accuracy: 0.3353 - val_loss: 1.8693 - val_accuracy: 0.5707\n",
            "Epoch 4/5\n",
            "80/80 [==============================] - 3s 37ms/step - loss: 1.7299 - accuracy: 0.4785 - val_loss: 1.4570 - val_accuracy: 0.6590\n",
            "Epoch 5/5\n",
            "80/80 [==============================] - 3s 37ms/step - loss: 1.3721 - accuracy: 0.5856 - val_loss: 1.1650 - val_accuracy: 0.7085\n",
            "freq 모드의 테스트 정확도: 0.6761816143989563\n"
          ]
        }
      ]
    },
    {
      "cell_type": "markdown",
      "source": [
        "대체적으로 82% ~ 83%의 비슷한 정확도를 보이는데, 'freq' 모드에서만 정확도가 69%가 나왔습니다. 아무래도 'freq' 모드는 이번 문제를 풀기위한 적절한 전처리 방법이 아니었던 것 같습니다."
      ],
      "metadata": {
        "id": "15MEzxN04zzu"
      }
    },
    {
      "cell_type": "code",
      "source": [
        ""
      ],
      "metadata": {
        "id": "IkTCAMOk29cR"
      },
      "execution_count": null,
      "outputs": []
    }
  ]
}