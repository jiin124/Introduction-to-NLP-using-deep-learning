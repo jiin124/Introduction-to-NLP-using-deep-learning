{
  "nbformat": 4,
  "nbformat_minor": 0,
  "metadata": {
    "colab": {
      "name": "1_순환신경망(recurrent Neural Network,RNN)",
      "provenance": [],
      "collapsed_sections": [],
      "authorship_tag": "ABX9TyPa92YJNvijI2EULWN4CBi9"
    },
    "kernelspec": {
      "name": "python3",
      "display_name": "Python 3"
    },
    "language_info": {
      "name": "python"
    }
  },
  "cells": [
    {
      "cell_type": "markdown",
      "source": [
        "피드 포워드 신경망은 입력의 길이가 고정되어 있어 자연어 처리를 위한 신경망으로는 한계가 있었습니다. 결국 다양한 길이의 입력 시퀀스를 처리할 수 있는 인공 신경망이 필요하게 되었는데, 자연어 처리에 대표적으로 사용되는 인공 신경망이 바로 순환 신경망(Recurrent Neural Network, RNN)입니다. 이번 챕터에서는 가장 기본적인 순환 신경망인 바닐라 RNN, 이를 개선한 LSTM, GRU에 대해서 학습해봅시다. LSTM과 GRU를 이해한다면 텍스트 분류나 기계 번역과 같은 다양한 자연어 처리 문제들을 풀 수 있습니다."
      ],
      "metadata": {
        "id": "K1VINRRmACVZ"
      }
    },
    {
      "cell_type": "markdown",
      "source": [
        "# 1. 순환신경망(RNN)\n",
        "\n",
        "앞서 배운 신경망들은 전부 은닉층에서 활성화 함수를 지난 값은 오직 출력층 방향으로만 향했습니다. 이와 같은 신경망들을 피드 포워드 신경망(Feed Forward Neural Network)이라고 합니다. 그런데 그렇지 않은 신경망들이 있습니다. RNN(Recurrent Neural Network) 또한 그 중 하나입니다. RNN은 은닉층의 노드에서 활성화 함수를 통해 나온 결과값을 출력층 방향으로도 보내면서, 다시 은닉층 노드의 다음 계산의 입력으로 보내는 특징을 갖고있습니다."
      ],
      "metadata": {
        "id": "uYuZJWdkAIxw"
      }
    },
    {
      "cell_type": "markdown",
      "source": [
        "![image.png](data:image/png;base64,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)"
      ],
      "metadata": {
        "id": "jb_QfOy0C52o"
      }
    },
    {
      "cell_type": "markdown",
      "source": [
        "x는 입력층의 입력 벡터,y는 출력층의 출력 벡터입니다. 실제로는 편향b 도 입력으로 존재할 수 있지만 앞으로의 그림에서는 생략합니다. RNN에서 은닉층에서 활성화 함수를 통해 결과를 내보내는 역할을 하는 노드를 셀(cell)이라고 합니다. 이 셀은 이전의 값을 기억하려고 하는 일종의 메모리 역할을 수행하므로 이를 메모리 셀 또는 RNN 셀이라고 표현합니다.\n",
        "\n",
        "메모리 셀이 출력층 방향 또는 다음 시점인 t+1의 자신에게 보내는 값을 은닉 상태(hidden state) 라고 합니다. 다시 말해 t 시점의 메모리 셀은 t-1 시점의 메모리 셀이 보낸 은닉 상태값을 t 시점의 은닉 상태 계산을 위한 입력값으로 사용합니다."
      ],
      "metadata": {
        "id": "N34aJridC8sQ"
      }
    },
    {
      "cell_type": "markdown",
      "source": [
        "![image.png](data:image/png;base64,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)"
      ],
      "metadata": {
        "id": "heO-Or00DLUq"
      }
    },
    {
      "cell_type": "markdown",
      "source": [
        "RNN은 입력과 출력의 길이를 다르게 설계 할 수 있으므로 다양한 용도로 사용할 수 있습니다. 위 그림은 입력과 출력의 길이에 따라서 달라지는 RNN의 다양한 형태를 보여줍니다. 위 구조가 자연어 처리에서 어떻게 사용될 수 있는지 예를 들어봅시다. RNN 셀의 각 시점의 입, 출력의 단위는 사용자가 정의하기 나름이지만 가장 보편적인 단위는 '단어 벡터'입니다.\n",
        "\n",
        "- 일대다\n",
        "\n",
        " 하나의 입력에 대해서 여러개의 출력을 의미하는 일 대 다(one-to-many) 구조의 모델은 하나의 이미지 입력에 대해서 사진의 제목을 출력하는 이미지 캡셔닝(Image Captioning) 작업에 사용할 수 있습니다. 사진의 제목은 단어들의 나열이므로 시퀀스 출력입니다.\n",
        "\n",
        "- 다대일\n",
        "\n",
        " 단어 시퀀스에 대해서 하나의 출력을 하는 다 대 일(many-to-one) 구조의 모델은 입력 문서가 긍정적인지 부정적인지를 판별하는 감성 분류(sentiment classification), 또는 메일이 정상 메일인지 스팸 메일인지 판별하는 스팸 메일 분류(spam detection) 등에 사용할 수 있습니다. 위 그림은 RNN으로 스팸 메일을 분류할 때의 아키텍처를 보여줍니다. 이러한 예제들은 'RNN을 이용한 텍스트 분류' 챕터에서 배웁니다.\n",
        "\n",
        "- 다대다\n",
        " \n",
        " 다 대 다(many-to-many) 구조의 모델의 경우에는 사용자가 문장을 입력하면 대답 문장을 출력하는 챗봇과 입력 문장으로부터 번역된 문장을 출력하는 번역기, 또는 '태깅 작업' 챕터에서 배우는 개체명 인식이나 품사 태깅과 같은 작업이 속합니다. 위 그림은 개체명 인식을 수행할 때의 RNN 아키텍처를 보여줍니다."
      ],
      "metadata": {
        "id": "IiNJGzg8DOky"
      }
    },
    {
      "cell_type": "markdown",
      "source": [
        "https://wikidocs.net/22886"
      ],
      "metadata": {
        "id": "ToI99hL9D1e4"
      }
    },
    {
      "cell_type": "markdown",
      "source": [
        "# 2.케라스로 RNN 구현\n",
        "\n"
      ],
      "metadata": {
        "id": "qFGhWZvnD3bI"
      }
    },
    {
      "cell_type": "markdown",
      "source": [
        "케라스로 RNN층을 추가하는 코드는 다음과 같다. "
      ],
      "metadata": {
        "id": "ZA3RZSUqEBex"
      }
    },
    {
      "cell_type": "code",
      "execution_count": null,
      "metadata": {
        "id": "gPD5JjDQ6oU4"
      },
      "outputs": [],
      "source": [
        "from tensorflow.keras.layers import SimpleRNN\n",
        "\n",
        "model.add(SimpleRNN(hidden_units))"
      ]
    },
    {
      "cell_type": "code",
      "source": [
        "#인자를 사용할 때를 보겠다.\n",
        "model.add(SimpleRNN(hidden_units,input_shape=(timesteps,input_dim)))\n",
        "\n",
        "#다른 표기\n",
        "model.add(SimpleRNN(hidden_units,input_length=M,input_dim=N))"
      ],
      "metadata": {
        "id": "ENbeSnAGaRWR"
      },
      "execution_count": null,
      "outputs": []
    },
    {
      "cell_type": "markdown",
      "source": [
        "- hidden_units = 은닉 상태의 크기를 정의. 메모리 셀이 다음 시점의 메모리 셀과 출력층으로 보내는 값의 크기(output_dim)와도 동일. RNN의 용량(capacity)을 늘린다고 보면 되며, 중소형 모델의 경우 보통 128, 256, 512, 1024 등의 값을 가진다.\n",
        "- timesteps = 입력 시퀀스의 길이(input_length)라고 표현하기도 함. 시점의 수.\n",
        "- input_dim = 입력의 크기.\n",
        "\n",
        "RNN층은 (batch_size,timesteps,input_dim)크기의 3D 텐서를 입력으로 받는다. batch_size는 한번에 학습하는 데이터의 개수를 말한다. \n"
      ],
      "metadata": {
        "id": "g-YfVHClar-w"
      }
    },
    {
      "cell_type": "code",
      "source": [
        "from tensorflow.keras.models import Sequential\n",
        "from tensorflow.keras.layers import SimpleRNN\n",
        "\n",
        "model=Sequential()\n",
        "model.add(SimpleRNN(3,input_shape=(2,10)))\n",
        "model.summary()"
      ],
      "metadata": {
        "colab": {
          "base_uri": "https://localhost:8080/"
        },
        "id": "v9oxJAJiarbC",
        "outputId": "481da341-a410-4497-bf14-5831d43b1dd9"
      },
      "execution_count": null,
      "outputs": [
        {
          "output_type": "stream",
          "name": "stdout",
          "text": [
            "Model: \"sequential_5\"\n",
            "_________________________________________________________________\n",
            " Layer (type)                Output Shape              Param #   \n",
            "=================================================================\n",
            " simple_rnn_3 (SimpleRNN)    (None, 3)                 42        \n",
            "                                                                 \n",
            "=================================================================\n",
            "Total params: 42\n",
            "Trainable params: 42\n",
            "Non-trainable params: 0\n",
            "_________________________________________________________________\n"
          ]
        }
      ]
    },
    {
      "cell_type": "markdown",
      "source": [
        "출력값이 (batch_size, output_dim) 크기의 2D 텐서일 때, output_dim은 hidden_units의 값인 3입니다. 이 경우 batch_size를 현 단계에서는 알 수 없으므로 (None, 3)이 됩니다. 이번에는 batch_size를 미리 정의해보겠습니다."
      ],
      "metadata": {
        "id": "gJ6gjEhghk96"
      }
    },
    {
      "cell_type": "code",
      "source": [
        "model=Sequential()\n",
        "model.add(SimpleRNN(3,batch_input_shape=(8,2,10)))\n",
        "model.summary()"
      ],
      "metadata": {
        "colab": {
          "base_uri": "https://localhost:8080/"
        },
        "id": "QE7cJ5xIhcJZ",
        "outputId": "8248ffb7-d561-498e-d3c2-e20065ec9ac0"
      },
      "execution_count": null,
      "outputs": [
        {
          "output_type": "stream",
          "name": "stdout",
          "text": [
            "Model: \"sequential_6\"\n",
            "_________________________________________________________________\n",
            " Layer (type)                Output Shape              Param #   \n",
            "=================================================================\n",
            " simple_rnn_4 (SimpleRNN)    (8, 3)                    42        \n",
            "                                                                 \n",
            "=================================================================\n",
            "Total params: 42\n",
            "Trainable params: 42\n",
            "Non-trainable params: 0\n",
            "_________________________________________________________________\n"
          ]
        }
      ]
    },
    {
      "cell_type": "markdown",
      "source": [
        "batch_size를 8로 기재하면 출력의 크기가 (8, 3)이 됩니다. return_sequences 매개 변수에 True를 기재하여 출력값으로 (batch_size, timesteps, output_dim) 크기의 3D 텐서를 리턴하도록 모델을 만들어 보겠습니다."
      ],
      "metadata": {
        "id": "8bGjOs7JjydR"
      }
    },
    {
      "cell_type": "code",
      "source": [
        "model=Sequential()\n",
        "model.add(SimpleRNN(3,batch_input_shape=(8,2,10),return_sequences=True))\n",
        "model.summary()"
      ],
      "metadata": {
        "colab": {
          "base_uri": "https://localhost:8080/"
        },
        "id": "UZQ1a7amjGyn",
        "outputId": "bd7bea1f-afed-42fe-e707-afe13d75d602"
      },
      "execution_count": null,
      "outputs": [
        {
          "output_type": "stream",
          "name": "stdout",
          "text": [
            "Model: \"sequential_7\"\n",
            "_________________________________________________________________\n",
            " Layer (type)                Output Shape              Param #   \n",
            "=================================================================\n",
            " simple_rnn_5 (SimpleRNN)    (8, 2, 3)                 42        \n",
            "                                                                 \n",
            "=================================================================\n",
            "Total params: 42\n",
            "Trainable params: 42\n",
            "Non-trainable params: 0\n",
            "_________________________________________________________________\n"
          ]
        }
      ]
    },
    {
      "cell_type": "markdown",
      "source": [
        "출력의 크기가 (8, 2, 3)이 됩니다."
      ],
      "metadata": {
        "id": "yEyFL4Mbj2S4"
      }
    },
    {
      "cell_type": "markdown",
      "source": [
        "# 4. 깊은 순환 신경망(Deep Recurrent Neural Network) \n",
        "\n",
        "RNN도 다수의 은닉층을 가질 수 있다. \n",
        "![image.png](data:image/png;base64,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)"
      ],
      "metadata": {
        "id": "MiqH3INWlQ8c"
      }
    },
    {
      "cell_type": "code",
      "source": [
        "model=Sequential()\n",
        "model.add(SimpleRNN(hidden_units,input_length=10,input_dim=5,return_sequences=True))\n",
        "model.add(SimpleRNN(hidden_units,return_sequences=True))"
      ],
      "metadata": {
        "id": "oOQ62kEdlpdP"
      },
      "execution_count": null,
      "outputs": []
    },
    {
      "cell_type": "markdown",
      "source": [
        "## 5. 양방향 순환 신경망(Bidirectional Recurrent Neural Network)"
      ],
      "metadata": {
        "id": "ISvWqI53lyhS"
      }
    },
    {
      "cell_type": "markdown",
      "source": [
        "\n",
        "\n",
        "```\n",
        "운동을 열심히 하는 것은 [        ]을 늘리는데 효과적이다.\n",
        "\n",
        "1) 근육\n",
        "2) 지방\n",
        "3) 스트레스\n",
        "```\n",
        "\n"
      ],
      "metadata": {
        "id": "v5CAX2cyl4tM"
      }
    },
    {
      "cell_type": "markdown",
      "source": [
        "운동을 열심히 하는 것은 [ ]을 늘리는데 효과적이다.' 라는 문장에서 문맥 상으로 정답은 '근육'입니다. 위의 빈 칸 채우기 문제를 풀 때 이전에 나온 단어들만으로 빈 칸을 채우려고 시도해보면 정보가 부족합니다. '운동을 열심히 하는 것은' 까지만 주고 뒤의 단어들은 가린 채 빈 칸의 정답이 될 수 있는 세 개의 선택지 중 고르는 것은 뒤의 단어들까지 알고있는 상태보다 명백히 정답을 결정하기가 어렵습니다.\n",
        "\n",
        "RNN이 풀고자 하는 문제 중에서는 과거 시점의 입력 뿐만 아니라 미래 시점의 입력에 힌트가 있는 경우도 많습니다. 그래서 이전과 이후의 시점 모두를 고려해서 현재 시점의 예측을 더욱 정확하게 할 수 있도록 고안된 것이 양방향 RNN입니다."
      ],
      "metadata": {
        "id": "giwPZofwl7Y7"
      }
    },
    {
      "cell_type": "markdown",
      "source": [
        "![image.png](data:image/png;base64,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)"
      ],
      "metadata": {
        "id": "wSCA6jt9nt_k"
      }
    },
    {
      "cell_type": "markdown",
      "source": [
        "양방향 RNN은 하나의 출력값을 예측하기 위해 기본적으로 두 개의 메모리 셀을 사용합니다. 첫번째 메모리 셀은 앞에서 배운 것처럼 앞 시점의 은닉 상태(Forward States) 를 전달받아 현재의 은닉 상태를 계산합니다. 위의 그림에서는 주황색 메모리 셀에 해당됩니다. 두번째 메모리 셀은 앞에서 배운 것과는 다릅니다. 앞 시점의 은닉 상태가 아니라 뒤 시점의 은닉 상태(Backward States) 를 전달 받아 현재의 은닉 상태를 계산합니다. 입력 시퀀스를 반대 방향으로 읽는 것입니다. 위의 그림에서는 초록색 메모리 셀에 해당됩니다. 그리고 이 두 개의 값 모두가 현재 시점의 출력층에서 출력값을 예측하기 위해 사용됩니다."
      ],
      "metadata": {
        "id": "7hMgDsJUoZ1B"
      }
    },
    {
      "cell_type": "code",
      "source": [
        "from tensorflow.keras.models import Bidirectional\n",
        "\n",
        "timesteps=10\n",
        "input_dim=5\n",
        "\n",
        "model=Sequential()\n",
        "model.add(Bidirectional(SimpleRNN(hidden_units,return_sequences=True),input_shape=(timesteps,input_dim)))"
      ],
      "metadata": {
        "id": "irnj2ATulr7L"
      },
      "execution_count": null,
      "outputs": []
    },
    {
      "cell_type": "markdown",
      "source": [
        "양방향 RNN도 다수의 은닉층을 가질 수 있다. 아래의 그림은 양방향 순환신경망에서 은닉층이 1개 더 추가되어 은닉층이 2개인 깊은 양방향 순환 신경망의 모습을 보여준다.\n",
        "\n",
        "![image.png](data:image/png;base64,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)"
      ],
      "metadata": {
        "id": "yFz1AtR_4HoO"
      }
    },
    {
      "cell_type": "code",
      "source": [
        "model=Sequential()\n",
        "model.add(Bidirectional(SimpleRNN(hidden_units,return_sequences=True),input_shape=(timesteps,input_dim)))\n",
        "model.add(Bidirectional(SimpleRNN(hidden_units,return_sequences=True)))\n",
        "model.add(Bidirectional(SimpleRNN(hidden_units,return_sequences=True)))"
      ],
      "metadata": {
        "id": "rbM4w7CVo2zq"
      },
      "execution_count": null,
      "outputs": []
    },
    {
      "cell_type": "code",
      "source": [
        ""
      ],
      "metadata": {
        "id": "rpre9I3y4jZS"
      },
      "execution_count": null,
      "outputs": []
    }
  ]
}