{
  "nbformat": 4,
  "nbformat_minor": 0,
  "metadata": {
    "colab": {
      "name": "2_여러가지 유사도 기법",
      "provenance": [],
      "authorship_tag": "ABX9TyNd8bu/HgYhRj77BouSAWSE"
    },
    "kernelspec": {
      "name": "python3",
      "display_name": "Python 3"
    },
    "language_info": {
      "name": "python"
    }
  },
  "cells": [
    {
      "cell_type": "markdown",
      "source": [
        "# 1. 자카드 유사도(Jaccard similariry)\n",
        "\n",
        "합집합에서 교집합의 비율을 구한다면 두집합의 유사도를 구할 수 있다는 것. \n",
        "자카드 유사도는 0과 1사이의 값을 가지며, 만약 두 집합일 동일하다면 1의 값을 가지고, 두 집합의 공통원소가 없다면 0의 값을 갖는다. \n",
        "\n"
      ],
      "metadata": {
        "id": "s4LZMLYbgzBL"
      }
    },
    {
      "cell_type": "code",
      "execution_count": 1,
      "metadata": {
        "colab": {
          "base_uri": "https://localhost:8080/"
        },
        "id": "yCtyFVl0gtBj",
        "outputId": "85d89e4d-6084-4183-b654-7b507ba4d53a"
      },
      "outputs": [
        {
          "output_type": "stream",
          "name": "stdout",
          "text": [
            "['apple', 'banana', 'everyone', 'like', 'likey', 'watch', 'card', 'holder']\n",
            "['apple', 'banana', 'coupon', 'passport', 'love', 'you']\n"
          ]
        }
      ],
      "source": [
        "doc1 = \"apple banana everyone like likey watch card holder\"\n",
        "doc2 = \"apple banana coupon passport love you\"\n",
        "\n",
        "#토큰화\n",
        "tokenized_doc1=doc1.split()\n",
        "tokenized_doc2=doc2.split()\n",
        "\n",
        "print(tokenized_doc1)\n",
        "print(tokenized_doc2)"
      ]
    },
    {
      "cell_type": "code",
      "source": [
        "#합집합 구하기\n",
        "\n",
        "union=set(tokenized_doc1).union(set(tokenized_doc2))\n",
        "print(union)"
      ],
      "metadata": {
        "colab": {
          "base_uri": "https://localhost:8080/"
        },
        "id": "H3MSRu3OhTbB",
        "outputId": "def7201f-8909-41ef-8b3b-4cb5147b32c7"
      },
      "execution_count": 2,
      "outputs": [
        {
          "output_type": "stream",
          "name": "stdout",
          "text": [
            "{'holder', 'everyone', 'like', 'watch', 'card', 'coupon', 'love', 'apple', 'you', 'passport', 'likey', 'banana'}\n"
          ]
        }
      ]
    },
    {
      "cell_type": "code",
      "source": [
        "#교집합 구하기\n",
        "intersection=set(tokenized_doc1).intersection(set(tokenized_doc2))\n",
        "intersection"
      ],
      "metadata": {
        "colab": {
          "base_uri": "https://localhost:8080/"
        },
        "id": "0kYc07mjhaMC",
        "outputId": "f9738bff-5e71-4b96-ee36-e512cb60223f"
      },
      "execution_count": 3,
      "outputs": [
        {
          "output_type": "execute_result",
          "data": {
            "text/plain": [
              "{'apple', 'banana'}"
            ]
          },
          "metadata": {},
          "execution_count": 3
        }
      ]
    },
    {
      "cell_type": "code",
      "source": [
        "#자카드 유사도\n",
        "\n",
        "len(intersection)/len(union)"
      ],
      "metadata": {
        "colab": {
          "base_uri": "https://localhost:8080/"
        },
        "id": "ECSyDndRhhgL",
        "outputId": "3a6bcbe6-d84d-4089-f247-c7115c72e2f2"
      },
      "execution_count": 4,
      "outputs": [
        {
          "output_type": "execute_result",
          "data": {
            "text/plain": [
              "0.16666666666666666"
            ]
          },
          "metadata": {},
          "execution_count": 4
        }
      ]
    },
    {
      "cell_type": "code",
      "source": [
        ""
      ],
      "metadata": {
        "id": "SVLZqssOhnDK"
      },
      "execution_count": null,
      "outputs": []
    }
  ]
}