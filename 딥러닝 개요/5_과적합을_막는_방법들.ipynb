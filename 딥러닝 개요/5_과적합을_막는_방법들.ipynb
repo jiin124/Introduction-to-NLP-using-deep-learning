{
  "nbformat": 4,
  "nbformat_minor": 0,
  "metadata": {
    "colab": {
      "name": "5_과적합을 막는 방법들",
      "provenance": [],
      "authorship_tag": "ABX9TyN+IyxtUpPADA++bhfMZc1D"
    },
    "kernelspec": {
      "name": "python3",
      "display_name": "Python 3"
    },
    "language_info": {
      "name": "python"
    }
  },
  "cells": [
    {
      "cell_type": "markdown",
      "source": [
        "학습데이터에 모델이 과적합되는 현상은 모델의 성능을 떨어트리는 주요 이슈. 모델이 과적합되면 훈련데이터에 대한 정확도는 높아도 일반화가 되어있지 않기 때문에 좋지 않음\n",
        "\n",
        "# 1. 데이터의 양을 늘리기\n",
        "\n",
        "데이터의 양을 늘릴수록 모델은 데이터의 일반적인 패턴을 학습하여 과적합을 방지할 수 있다. \n",
        "\n",
        "데이터의 양이 적을 경우 의도적으로 기존의 데이터를 번형하고 추가해 데이터의 양을 늘리는데 이를 데이터 증식 또는 증강이라고 한다. 테스트 데이터의 경우에는 데이터를 증강하는 방법으로 번역 후 재번역을 통해 새로운 데이터를 만드는 역변역등의 방법이 있다. \n",
        "\n",
        "# 2. 모델의 복잡도 줄이기\n",
        "\n",
        "인공 신경망의 복잡도는 은닉층의 수나 매개변수 수 등으로 결정됨. 과적합이 포착되면 인공신경마으이 복잡도를 줄인다. \n",
        "- 인공신경망에서는 모델에 있는 매개변수들의 수를 모델의 수용력이라고 한다. \n",
        "\n",
        "# 3. 가중치 규제 적용\n",
        "\n",
        "복잡한 모델을 좀 더 간단하게 하는 방법으로 가중치 규제가 있다. \n",
        "\n",
        "- L1규제 : 가중치 w들의 절대값 합계를 비용함수에 추가. \n",
        "- L2규제 : 모든 가중치 w들의 제곱합을 비용함수에 추가. \n",
        "\n",
        "# 4. 드롭아웃\n",
        "\n",
        "학습과정에서 신경망의 일부를 사용하지 않는 방법. 드롭아웃의 비율을 0.5라고 한다면 학습 과정마다 랜덤으로 절반의 뉴런을 사용하지 않고, 절반의 뉴런만 사용. "
      ],
      "metadata": {
        "id": "vvQML1lEAyc6"
      }
    },
    {
      "cell_type": "code",
      "execution_count": 1,
      "metadata": {
        "id": "AiWskKYeASsB"
      },
      "outputs": [],
      "source": [
        "from tensorflow.keras.models import Sequential\n",
        "from tensorflow.keras.layers import Dropout,Dense\n",
        "\n",
        "max_words=10000\n",
        "num_classes=46\n",
        "\n",
        "model=Sequential()\n",
        "model.add(Dense(256,input_shape=(max_words,),activation='relu'))\n",
        "model.add(Dropout(0.5))\n",
        "model.add(Dense(128,activation='relu'))\n",
        "model.add(Dropout(0.5))\n",
        "model.add(Dense(num_classes,activation='softmax'))"
      ]
    },
    {
      "cell_type": "code",
      "source": [
        ""
      ],
      "metadata": {
        "id": "7V6Wea87Ek-k"
      },
      "execution_count": null,
      "outputs": []
    }
  ]
}