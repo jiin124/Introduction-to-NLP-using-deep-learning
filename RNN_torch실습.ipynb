{
  "nbformat": 4,
  "nbformat_minor": 0,
  "metadata": {
    "colab": {
      "name": "RNN_torch실습.ipynb",
      "provenance": [],
      "authorship_tag": "ABX9TyNsW+FlQqVwycCSvZZ/oQvd",
      "include_colab_link": true
    },
    "kernelspec": {
      "name": "python3",
      "display_name": "Python 3"
    },
    "language_info": {
      "name": "python"
    }
  },
  "cells": [
    {
      "cell_type": "markdown",
      "metadata": {
        "id": "view-in-github",
        "colab_type": "text"
      },
      "source": [
        "<a href=\"https://colab.research.google.com/github/jiin124/Introduction-to-NLP-using-deep-learning/blob/main/RNN_torch%EC%8B%A4%EC%8A%B5.ipynb\" target=\"_parent\"><img src=\"https://colab.research.google.com/assets/colab-badge.svg\" alt=\"Open In Colab\"/></a>"
      ]
    },
    {
      "cell_type": "markdown",
      "source": [
        "# 파이썬으로 RNN 구현하기\n",
        "\n",
        "의사코드\n",
        "\n",
        "\n",
        "```\n",
        "hidden_state_t=0#초기 은닉상태를 0으로 초기화\n",
        "for input_t in input_length:\n",
        "  #각 시점마다 입력을 받는다. \n",
        "  output_t=tanh(input_t,hidden_state_t)#각시점에 대해서 입력과 은닉상태를 가지고 연산\n",
        "  hidden_state_t=output_t#계산결과는 현재 시점의 은닉상태가 된다. \n",
        "```\n",
        "\n"
      ],
      "metadata": {
        "id": "k_ywCGVpjtlq"
      }
    },
    {
      "cell_type": "code",
      "execution_count": 1,
      "metadata": {
        "id": "9Qop2PyJibJw"
      },
      "outputs": [],
      "source": [
        "import numpy as np\n",
        "\n",
        "timesteps=10#시점의 수, NLP에서는 보통 문장의 길이가 된다. \n",
        "input_size=4#입력의 차원, NLP에서는 보통 단어 벡터의 차원이 된다.\n",
        "hidden_size=8#은닉상태의 크기, 메모리셀의 용량이다.\n",
        "\n",
        "inputs=np.random.random((timesteps,input_size))#입력에 해단되는 2D 텐서\n",
        "\n",
        "hidden_state_t=np.zeros((hidden_size,))#초기 은닉상태는 0으로 초기화"
      ]
    },
    {
      "cell_type": "code",
      "source": [
        "print(hidden_state_t)"
      ],
      "metadata": {
        "colab": {
          "base_uri": "https://localhost:8080/"
        },
        "id": "y4CxtqFymDcL",
        "outputId": "ff20b7eb-5270-470b-8909-5e51c45bf5a3"
      },
      "execution_count": 2,
      "outputs": [
        {
          "output_type": "stream",
          "name": "stdout",
          "text": [
            "[0. 0. 0. 0. 0. 0. 0. 0.]\n"
          ]
        }
      ]
    },
    {
      "cell_type": "code",
      "source": [
        "Wx=np.random.random((hidden_size,input_size))#입력에 대한 가중치\n",
        "Wh=np.random.random((hidden_size,hidden_size))#은닉상태에 대한 가중치\n",
        "\n",
        "b=np.random.random((hidden_size,))#편향"
      ],
      "metadata": {
        "id": "1vXPbNQGmH8c"
      },
      "execution_count": 3,
      "outputs": []
    },
    {
      "cell_type": "code",
      "source": [
        "print(np.shape(Wx))\n",
        "print(np.shape(Wh))\n",
        "print(np.shape(b))"
      ],
      "metadata": {
        "colab": {
          "base_uri": "https://localhost:8080/"
        },
        "id": "1obexKvimfnB",
        "outputId": "bbf9cce7-250e-44f4-de0c-fdb4722526d0"
      },
      "execution_count": 4,
      "outputs": [
        {
          "output_type": "stream",
          "name": "stdout",
          "text": [
            "(8, 4)\n",
            "(8, 8)\n",
            "(8,)\n"
          ]
        }
      ]
    },
    {
      "cell_type": "markdown",
      "source": [
        ". Wx는 (은닉 상태의 크기 × 입력의 차원), Wh는 (은닉 상태의 크기 × 은닉 상태의 크기), b는 (은닉 상태의 크기)의 크기를 가집니다."
      ],
      "metadata": {
        "id": "sAcwlWmVmlXN"
      }
    },
    {
      "cell_type": "code",
      "source": [
        "total_hidden_states=[]\n",
        "\n",
        "for input_t in inputs: # 각 시점에 따라서 입력값이 입력됨.\n",
        "  output_t=np.tanh(np.dot(Wx,input_t)+np.dot(Wh,hidden_state_t)+b)# Wx * Xt + Wh * Ht-1 + b(bias)\n",
        "\n",
        "  total_hidden_states.append(list(output_t))# 각 시점의 은닉 상태의 값을 계속해서 축적\n",
        "  print(np.shape(total_hidden_states)) # 각 시점 t별 메모리 셀의 출력의 크기는 (timestep, output_dim)\n",
        "  hidden_state_t=output_t\n",
        "\n",
        "total_hidden_states=np.stack(total_hidden_states,axis=0)\n",
        "# 출력 시 값을 깔끔하게 해준다.\n",
        "print(total_hidden_states)\n",
        "# (timesteps, output_dim)의 크기. 이 경우 (10, 8)의 크기를 가지는 메모리 셀의 2D 텐서를 출력."
      ],
      "metadata": {
        "colab": {
          "base_uri": "https://localhost:8080/"
        },
        "id": "h4yTZFWmmijB",
        "outputId": "91970f22-6189-4de9-cad3-bf18cd25cca4"
      },
      "execution_count": 5,
      "outputs": [
        {
          "output_type": "stream",
          "name": "stdout",
          "text": [
            "(1, 8)\n",
            "(2, 8)\n",
            "(3, 8)\n",
            "(4, 8)\n",
            "(5, 8)\n",
            "(6, 8)\n",
            "(7, 8)\n",
            "(8, 8)\n",
            "(9, 8)\n",
            "(10, 8)\n",
            "[[0.93017991 0.78437601 0.97660379 0.89874421 0.91869355 0.89362891\n",
            "  0.9112964  0.94711238]\n",
            " [0.99991184 0.99999343 0.99999622 0.99991911 0.99975572 0.99997703\n",
            "  0.99962765 0.99966135]\n",
            " [0.99992185 0.99999867 0.99999869 0.99995654 0.99993473 0.99999232\n",
            "  0.99993231 0.99984824]\n",
            " [0.99997517 0.99999875 0.99999963 0.99998177 0.99997027 0.99999373\n",
            "  0.9999653  0.99993557]\n",
            " [0.99977881 0.99999777 0.99999786 0.999875   0.99987525 0.99998495\n",
            "  0.99989422 0.9997045 ]\n",
            " [0.999899   0.99999891 0.99999887 0.99995578 0.99994892 0.99999413\n",
            "  0.99995736 0.99985544]\n",
            " [0.99997588 0.99999909 0.99999956 0.99998838 0.99997033 0.99999659\n",
            "  0.99996901 0.99992885]\n",
            " [0.99992705 0.99999828 0.9999993  0.99994064 0.99995277 0.99998761\n",
            "  0.99995139 0.99989101]\n",
            " [0.99997156 0.9999984  0.9999994  0.99997995 0.99994654 0.99999268\n",
            "  0.99993317 0.99990007]\n",
            " [0.99997761 0.99999885 0.99999964 0.99998773 0.99996803 0.99999574\n",
            "  0.99996631 0.99992868]]\n"
          ]
        }
      ]
    },
    {
      "cell_type": "markdown",
      "source": [
        "# 파이토치의 RNN"
      ],
      "metadata": {
        "id": "LRZqjMXQqiST"
      }
    },
    {
      "cell_type": "code",
      "source": [
        "import torch\n",
        "import torch.nn as nn"
      ],
      "metadata": {
        "id": "rYiIGkUNqEec"
      },
      "execution_count": 6,
      "outputs": []
    },
    {
      "cell_type": "code",
      "source": [
        "input_size=5#입력의 크기\n",
        "hidden_size=8#은닉상태의 크기"
      ],
      "metadata": {
        "id": "e_kJ10QQqlkT"
      },
      "execution_count": 8,
      "outputs": []
    },
    {
      "cell_type": "code",
      "source": [
        "#입력 텐서 정의\n",
        "inputs=torch.Tensor(1,10,5)#(batchsize,time_steps,input_size)배치크기, 시점의수, 매시점마다 들어가는 입력\n"
      ],
      "metadata": {
        "id": "fLEbVYB5qnQT"
      },
      "execution_count": 9,
      "outputs": []
    },
    {
      "cell_type": "code",
      "source": [
        "#RNN셀 만들기\n",
        "#입력의 크기, 은닉상태의 크기를 정의해주고 \n",
        "#batch_first=True를 통해 입력 텐서의 첫번재 차원이 배치 크기임을 알려준다. \n",
        "cell=nn.RNN(input_size,hidden_size,batch_first=True)"
      ],
      "metadata": {
        "id": "iJhFZENMssf2"
      },
      "execution_count": 10,
      "outputs": []
    },
    {
      "cell_type": "code",
      "source": [
        "outputs,_status=cell(inputs)"
      ],
      "metadata": {
        "id": "3Y0iw_yds4QL"
      },
      "execution_count": 11,
      "outputs": []
    },
    {
      "cell_type": "code",
      "source": [
        "print(outputs.shape)"
      ],
      "metadata": {
        "colab": {
          "base_uri": "https://localhost:8080/"
        },
        "id": "l3m6wwlAtImC",
        "outputId": "9bccd891-9288-4439-fa5c-b627d47c12bc"
      },
      "execution_count": 12,
      "outputs": [
        {
          "output_type": "stream",
          "name": "stdout",
          "text": [
            "torch.Size([1, 10, 8])\n"
          ]
        }
      ]
    },
    {
      "cell_type": "code",
      "source": [
        "print(_status.shape) # 최종 time-step의 hidden_state"
      ],
      "metadata": {
        "colab": {
          "base_uri": "https://localhost:8080/"
        },
        "id": "21uL9mnstO4F",
        "outputId": "06010857-dd9b-4d31-86c1-db6adb1a3f09"
      },
      "execution_count": 13,
      "outputs": [
        {
          "output_type": "stream",
          "name": "stdout",
          "text": [
            "torch.Size([1, 1, 8])\n"
          ]
        }
      ]
    },
    {
      "cell_type": "markdown",
      "source": [
        "#깊은 순환신경망\n",
        "\n",
        "앞서 RNN도 다수의 은닉층을 가질 수 있다고 언급한 바 있습니다. 위의 그림은 순환 신경망에서 은닉층이 1개 더 추가되어 은닉층이 2개인 깊은(deep) 순환 신경망의 모습을 보여줍니다. 위의 코드에서 첫번째 은닉층은 다음 은닉층에 모든 시점에 대해서 은닉 상태 값을 다음 은닉층으로 보내주고 있습니다.\n",
        "\n",
        "깊은 순환 신경망을 파이토치로 구현할 때는 nn.RNN()의 인자인 num_layers에 값을 전달하여 층을 쌓습니다. 층이 2개인 깊은 순환 신경망의 경우, 앞서 실습했던 임의의 입력에 대해서 출력이 어떻게 달라지는지 확인해봅시다."
      ],
      "metadata": {
        "id": "GrYWKlY1tVEr"
      }
    },
    {
      "cell_type": "code",
      "source": [
        "inputs=torch.Tensor(1,10,5)#batchsize,time_step,input_size"
      ],
      "metadata": {
        "id": "OSAEn0UZtSm3"
      },
      "execution_count": 14,
      "outputs": []
    },
    {
      "cell_type": "code",
      "source": [
        "cell=nn.RNN(input_size=5,hidden_size=8,num_layers=2,batch_first=True)"
      ],
      "metadata": {
        "id": "WqBr16hXticJ"
      },
      "execution_count": 15,
      "outputs": []
    },
    {
      "cell_type": "code",
      "source": [
        "outputs,_status=cell(inputs)"
      ],
      "metadata": {
        "id": "Pt0GZf1tuwhN"
      },
      "execution_count": 18,
      "outputs": []
    },
    {
      "cell_type": "code",
      "source": [
        "print(outputs.shape)"
      ],
      "metadata": {
        "colab": {
          "base_uri": "https://localhost:8080/"
        },
        "id": "SSoAbKIBtm3O",
        "outputId": "cac8ae61-fd5f-4026-8ccb-f472cea8d9be"
      },
      "execution_count": 19,
      "outputs": [
        {
          "output_type": "stream",
          "name": "stdout",
          "text": [
            "torch.Size([1, 10, 8])\n"
          ]
        }
      ]
    },
    {
      "cell_type": "code",
      "source": [
        "print(_status.shape)"
      ],
      "metadata": {
        "colab": {
          "base_uri": "https://localhost:8080/"
        },
        "id": "uKaEXZlNuNNB",
        "outputId": "ccf2dd59-0b43-49c4-ff25-41b91e8273cd"
      },
      "execution_count": 20,
      "outputs": [
        {
          "output_type": "stream",
          "name": "stdout",
          "text": [
            "torch.Size([2, 1, 8])\n"
          ]
        }
      ]
    },
    {
      "cell_type": "markdown",
      "source": [
        "두번째 리턴값의 크기는 층이 1개였던 RNN 셀 때와 달라졌는데, 여기서 크기는 (층의 개수, 배치 크기, 은닉 상태의 크기)에 해당됩니다."
      ],
      "metadata": {
        "id": "Q7CEyWtmu22w"
      }
    },
    {
      "cell_type": "markdown",
      "source": [
        "# 양방향 순환 신경망\n",
        "\n",
        "양방향 순환 신경망을 파이토치로 구현할 때는 nn.RNN()의 인자인 bidirectional에 값을 True로 전달하면 됩니다. \n",
        "\n",
        "![image.png](data:image/png;base64,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)\n",
        "\n",
        "양방향 RNN은 하나의 출력값을 예측하기 위해 기본적으로 두 개의 메모리 셀을 사용합니다. 첫번째 메모리 셀은 앞에서 배운 것처럼 앞 시점의 은닉 상태(Forward States)를 전달받아 현재의 은닉 상태를 계산합니다. 위의 그림에서는 주황색 메모리 셀에 해당됩니다. 두번째 메모리 셀은 앞에서 배운 것과는 다릅니다. 앞 시점의 은닉 상태가 아니라 뒤 시점의 은닉 상태(Backward States)를 전달 받아 현재의 은닉 상태를 계산합니다. 위의 그림에서는 초록색 메모리 셀에 해당됩니다. 그리고 이 두 개의 값 모두가 출력층에서 출력값을 예측하기 위해 사용됩니다."
      ],
      "metadata": {
        "id": "EJKMUksIu4PA"
      }
    },
    {
      "cell_type": "code",
      "source": [
        "inputs=torch.Tensor(1,10,5)"
      ],
      "metadata": {
        "id": "EOyNzZceubxl"
      },
      "execution_count": 21,
      "outputs": []
    },
    {
      "cell_type": "code",
      "source": [
        "# bidirectional에 값을 True\n",
        "cell=nn.RNN(input_size=5,hidden_size=8,num_layers=2,batch_first=True,bidirectional=True)"
      ],
      "metadata": {
        "id": "sJHNAyzuvpcw"
      },
      "execution_count": 23,
      "outputs": []
    },
    {
      "cell_type": "code",
      "source": [
        "outputs,_status=cell(inputs)"
      ],
      "metadata": {
        "id": "MM8Ro9iUvwB0"
      },
      "execution_count": 24,
      "outputs": []
    },
    {
      "cell_type": "code",
      "source": [
        "print(outputs.shape)#배치크기, 시퀀스 길이, 은닉상태의 크기*2"
      ],
      "metadata": {
        "colab": {
          "base_uri": "https://localhost:8080/"
        },
        "id": "Xj84bAFOwAlO",
        "outputId": "14a5e3cf-0769-4c1c-e18e-88da308be2b7"
      },
      "execution_count": 26,
      "outputs": [
        {
          "output_type": "stream",
          "name": "stdout",
          "text": [
            "torch.Size([1, 10, 16])\n"
          ]
        }
      ]
    },
    {
      "cell_type": "markdown",
      "source": [
        "첫번째 리턴값의 크기는 단뱡 RNN 셀 때보다 은닉 상태의 크기의 값이 두 배가 되었습니다. 여기서는 (배치 크기, 시퀀스 길이, 은닉 상태의 크기 x 2)의 크기를 가집니다. 이는 양방향의 은닉 상태 값들이 연결(concatenate)되었기 때문입니다."
      ],
      "metadata": {
        "id": "-GWC90eDwJjo"
      }
    },
    {
      "cell_type": "code",
      "source": [
        "print(_status.shape) # (층의 개수 x 2, 배치 크기, 은닉 상태의 크기)"
      ],
      "metadata": {
        "colab": {
          "base_uri": "https://localhost:8080/"
        },
        "id": "qoyDwOPywENe",
        "outputId": "4c92d71e-aa4f-4957-defc-638d0035881c"
      },
      "execution_count": 27,
      "outputs": [
        {
          "output_type": "stream",
          "name": "stdout",
          "text": [
            "torch.Size([4, 1, 8])\n"
          ]
        }
      ]
    },
    {
      "cell_type": "code",
      "source": [
        ""
      ],
      "metadata": {
        "id": "Gxns_t0cwL00"
      },
      "execution_count": null,
      "outputs": []
    }
  ]
}