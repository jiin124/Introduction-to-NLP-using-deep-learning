{
  "nbformat": 4,
  "nbformat_minor": 0,
  "metadata": {
    "colab": {
      "name": "3_문서 단어 행렬(Document-Term Matrix,DTM",
      "provenance": [],
      "authorship_tag": "ABX9TyPm05/1QJpkMhoyr7p4O9vY"
    },
    "kernelspec": {
      "name": "python3",
      "display_name": "Python 3"
    },
    "language_info": {
      "name": "python"
    }
  },
  "cells": [
    {
      "cell_type": "markdown",
      "source": [
        "서로 다른 문서들의 BoW들을 결합한 표현 방법인 문서 단어 행렬(Document-Term Matrix, DTM) 표현 방법을 다뤄보겠다. "
      ],
      "metadata": {
        "id": "gIbHT_STIcMy"
      }
    },
    {
      "cell_type": "markdown",
      "source": [
        "# 1. 문서 단어 행렬(Document-Term Matirix,DTM)의 표기법\n",
        "\n",
        "문서 단어 행렬(Document-Term Matrix, DTM)이란 다수의 문서에서 등장하는 각 단어들의 빈도를 행렬로 표현한 것을 말합니다. 쉽게 생각하면 각 문서에 대한 BoW를 하나의 행렬로 만든 것으로 생각할 수 있으며, BoW와 다른 표현 방법이 아니라 BoW 표현을 다수의 문서에 대해서 행렬로 표현하고 부르는 용어입니다. \n",
        "\n",
        "![image.png](data:image/png;base64,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)"
      ],
      "metadata": {
        "id": "X_d0EkfdIj67"
      }
    },
    {
      "cell_type": "markdown",
      "source": [
        "- 문서1 : 먹고 싶은 사과\n",
        "- 문서2 : 먹고 싶은 바나나\n",
        "- 문서3 : 길고 노란 바나나 바나나\n",
        "- 문서4 : 저는 과일이 좋아요\n",
        "\n",
        "각 문서에서 등장한 단어의 빈도를 행렬의 값으로 표기합니다. 문서 단어 행렬은 문서들을 서로 비교할 수 있도록 수치화할 수 있다는 점에서 의의를 갖습니다. 만약 필요에 따라서는 형태소 분석기로 단어 토큰화를 수행하고, 불용어에 해당되는 조사들 또한 제거하여 더 정제된 DTM을 만들 수도 있을 것입니다.\n"
      ],
      "metadata": {
        "id": "4UwS1N2zI8pB"
      }
    },
    {
      "cell_type": "markdown",
      "source": [
        "# 2. 문서 단어 행렬의 한계\n",
        "\n",
        "## 1) 희소 표현(Sparse representation)\n",
        "\n",
        "원-핫 벡터는 단어 집합의 크기가 벡터의 차원이 되고 대부분의 값이 0이 되는 벡터. 원-핫 벡터는 공간적 낭비와 계산 리소스를 증가시킬 수 있다는 점에서 단점을 가진다. DTM도 마찬가지. \n",
        "\n",
        "원핫벡터나 DTM과 같은 대부분의 값이 0인 표현을 희소 벡터 또는 희소 행렬이라고 부르는데 희소 벡터는 많은 양의 저장공간과 높은 계산 복잡도를 요구한다. \n",
        "\n",
        "## 2) 단순 빈도 수 기반 접근\n",
        "\n",
        "예를 들어 영어에 대해서 DTM을 만들었을 때, 불용어인 the는 어떤 문서이든 자주 등장할 수 밖에 없습니다. 그런데 유사한 문서인지 비교하고 싶은 문서1, 문서2, 문서3에서 동일하게 the가 빈도수가 높다고 해서 이 문서들이 유사한 문서라고 판단해서는 안 됩니다.\n",
        "\n",
        "각 문서에는 중요한 단어와 불필요한 단어들이 혼재되어 있습니다. 앞서 불용어(stopwords)와 같은 단어들은 빈도수가 높더라도 자연어 처리에 있어 의미를 갖지 못하는 단어라고 언급한 바 있습니다. 그렇다면 DTM에 불용어와 중요한 단어에 대해서 가중치를 줄 수 있는 방법은 없을까요? 이러한 아이디어를 적용한 TF-IDF를 이어서 학습해봅시다. 사이킷런의 CountVectorizer를 사용하여 DTM을 만드는 실습 또한 TF-IDF를 설명하면서 진행하겠습니다."
      ],
      "metadata": {
        "id": "831_AVLeJJHj"
      }
    },
    {
      "cell_type": "code",
      "execution_count": null,
      "metadata": {
        "id": "skWfegTVIWCI"
      },
      "outputs": [],
      "source": [
        ""
      ]
    }
  ]
}