{
  "nbformat": 4,
  "nbformat_minor": 0,
  "metadata": {
    "colab": {
      "name": "1. 토큰화",
      "provenance": [],
      "collapsed_sections": [],
      "authorship_tag": "ABX9TyOJFVS7TNHDkOAMZjo5GEXH",
      "include_colab_link": true
    },
    "kernelspec": {
      "name": "python3",
      "display_name": "Python 3"
    },
    "language_info": {
      "name": "python"
    }
  },
  "cells": [
    {
      "cell_type": "markdown",
      "metadata": {
        "id": "view-in-github",
        "colab_type": "text"
      },
      "source": [
        "<a href=\"https://colab.research.google.com/github/jiin124/Introduction-to-NLP-using-deep-learning/blob/main/%ED%85%8D%EC%8A%A4%ED%8A%B8%20%EC%A0%84%EC%B2%98%EB%A6%AC/1_%ED%86%A0%ED%81%B0%ED%99%94.ipynb\" target=\"_parent\"><img src=\"https://colab.research.google.com/assets/colab-badge.svg\" alt=\"Open In Colab\"/></a>"
      ]
    },
    {
      "cell_type": "markdown",
      "source": [
        "자연어처리에서 크롤링 등으로 얻어낸 데이터가 전처리되어있지 않다면 데이터를 사용하고자하는 용도에 맞게 토큰화(tokenization), 정제(cleaning), 정규화(normalization)하는 일을 해야한다. \n",
        "\n",
        "토큰화 : 토큰이라고 불리는 단위로 나눈는 작업.\n",
        "\n",
        "토큰의 단위가 상황에 따라 다르지만 보통 의미있는 단위로 토큰을 정의한다. "
      ],
      "metadata": {
        "id": "vyvtpsL70QCX"
      }
    },
    {
      "cell_type": "markdown",
      "source": [
        "## 1. 단어 토큰화(Word Tokenization)\n",
        "\n",
        "토큰의 기준을 단어로 하는 경우 단어 토큰화라고 한다 다만 여기서 단어는 단어 단위 외에도 단어구, 의미를 갖는 문자열로 간주되기도 한다. \n",
        "\n",
        "구두점과 같은 문자는 제외시키는 간단한 단어 토큰화 작업을 해보자. 구두점(. , ? ; !)\n",
        "\n",
        "입력 : **Time is an illusion. Lunchtime double so!**\n",
        "\n",
        "입력으로부터 구두점을 제외시킨 토큰화 작업 결과는 다음과 같다. \n",
        "\n",
        "출력 : **\"Time\", \"is\", \"an\", \"illustion\", \"Lunchtime\", \"double\", \"so\"**\n",
        "\n",
        "보통 토큰화 작업은 단순히 구두점이나 특수문자를 전부 제거하는 정제작업을 수행하는 것만으로는 해결되지 않는다. 구두점이나 특수문자를 모두 제거하면 토큰이 의미를 잃어버리는 경우가 발생하기도 한다. 심지어 띄어쓰기 단위로 자르면 사실상 단어 토큰이 구분되는 영어와 달리, 한국어는 띄어쓰기 만으로는 단어 토큰을 구분하기 어렵다. "
      ],
      "metadata": {
        "id": "7Tymd_H10nh5"
      }
    },
    {
      "cell_type": "markdown",
      "source": [
        "## 2. 토큰화 중 생기는 선택의 순간\n",
        "\n",
        "토큰화를 하다보면 예상하지 못한 경우가 있어서 토큰화의 기준을 생각해봐야 하는 경우가 발생한다. 영어권 언어에서 ' 가 들어가 있는 단어는 어떻게 분류해야 할까?\n",
        "\n",
        "**Don't be fooled by the dark sounding name, Mr. Jone's Orphanage is as cheery as cheery goes for a pastry shop.**\n",
        "\n",
        "\n",
        "Don't와 Jone's는 어떻게 토큰화할 수 있을까?\n",
        "**Don't\n",
        "Don t\n",
        "Dont\n",
        "Do n't\n",
        "Jone's\n",
        "Jone s\n",
        "Jone\n",
        "Jones**\n",
        "\n",
        "NLTK는 영어 코퍼스를 토큰화하기 위한 도구들을 제공한다. 그중 word_tokenize와 WordPunctTokenizer를 사용해서 ' 를 어떻게 처리하는지 확인해보자. \n",
        "\n"
      ],
      "metadata": {
        "id": "NzcUaxCG2UGJ"
      }
    },
    {
      "cell_type": "code",
      "execution_count": 10,
      "metadata": {
        "id": "4WGRRXZp0AEl"
      },
      "outputs": [],
      "source": [
        "from nltk.tokenize import word_tokenize\n",
        "from nltk.tokenize import WordPunctTokenizer\n",
        "from tensorflow.keras.preprocessing.text import text_to_word_sequence"
      ]
    },
    {
      "cell_type": "code",
      "source": [
        "import nltk\n",
        "nltk.download('punkt')"
      ],
      "metadata": {
        "colab": {
          "base_uri": "https://localhost:8080/"
        },
        "id": "hpWvM45Q4N20",
        "outputId": "e20a9451-1c36-4b2f-b10e-b56af6670e38"
      },
      "execution_count": 11,
      "outputs": [
        {
          "output_type": "stream",
          "name": "stdout",
          "text": [
            "[nltk_data] Downloading package punkt to /root/nltk_data...\n",
            "[nltk_data]   Package punkt is already up-to-date!\n"
          ]
        },
        {
          "output_type": "execute_result",
          "data": {
            "text/plain": [
              "True"
            ]
          },
          "metadata": {},
          "execution_count": 11
        }
      ]
    },
    {
      "cell_type": "markdown",
      "source": [
        "word_tokenize 사용"
      ],
      "metadata": {
        "id": "o3w8mk-R3n6g"
      }
    },
    {
      "cell_type": "code",
      "source": [
        "print('단어 토큰화1 :',word_tokenize(\"Don't be fooled by the dark sounding name, Mr. Jone's Orphanage is as cheery as cheery goes for a pastry shop.\"))\n"
      ],
      "metadata": {
        "colab": {
          "base_uri": "https://localhost:8080/"
        },
        "id": "CKqrAl-f3pSc",
        "outputId": "f7724940-0b32-4ad6-c132-82554fe8c82b"
      },
      "execution_count": null,
      "outputs": [
        {
          "output_type": "stream",
          "name": "stdout",
          "text": [
            "단어 토큰화1 : ['Do', \"n't\", 'be', 'fooled', 'by', 'the', 'dark', 'sounding', 'name', ',', 'Mr.', 'Jone', \"'s\", 'Orphanage', 'is', 'as', 'cheery', 'as', 'cheery', 'goes', 'for', 'a', 'pastry', 'shop', '.']\n"
          ]
        }
      ]
    },
    {
      "cell_type": "markdown",
      "source": [
        "word_tokenize는 Don't를 Do와 n't로 분리. 반면 Jone's는 Jone과 's로 분리한 것을 볼 수 있다. \n",
        "그럼 wordPunctTokenizer는 어떻게 처리할까?"
      ],
      "metadata": {
        "id": "xy0Ivz9r4cC1"
      }
    },
    {
      "cell_type": "code",
      "source": [
        "print('단어 토큰화2 :',WordPunctTokenizer().tokenize(\"Don't be fooled by the dark sounding name, Mr. Jone's Orphanage is as cheery as cheery goes for a pastry shop.\"))"
      ],
      "metadata": {
        "colab": {
          "base_uri": "https://localhost:8080/"
        },
        "id": "dBh2KB1f3sMg",
        "outputId": "0a53a29f-dfb6-421a-b313-e637df1326a8"
      },
      "execution_count": null,
      "outputs": [
        {
          "output_type": "stream",
          "name": "stdout",
          "text": [
            "단어 토큰화2 : ['Don', \"'\", 't', 'be', 'fooled', 'by', 'the', 'dark', 'sounding', 'name', ',', 'Mr', '.', 'Jone', \"'\", 's', 'Orphanage', 'is', 'as', 'cheery', 'as', 'cheery', 'goes', 'for', 'a', 'pastry', 'shop', '.']\n"
          ]
        }
      ]
    },
    {
      "cell_type": "markdown",
      "source": [
        "WordPunctTokenizer는 구두점을 별도로 분류하는 특징을 가지고 있어서 위와 같이 Don과 ', t로 분류하였다.케라스도 토큰화 도구로서 text_to_word_wequence를 지원한다. "
      ],
      "metadata": {
        "id": "wtacfbky4q1J"
      }
    },
    {
      "cell_type": "code",
      "source": [
        "print('단어 토큰화3 :',text_to_word_sequence(\"Don't be fooled by the dark sounding name, Mr. Jone's Orphanage is as cheery as cheery goes for a pastry shop.\"))"
      ],
      "metadata": {
        "colab": {
          "base_uri": "https://localhost:8080/"
        },
        "id": "2S5ReqyY4n5X",
        "outputId": "22a75748-a2b6-4bc1-85fa-a0b0b9d51b80"
      },
      "execution_count": null,
      "outputs": [
        {
          "output_type": "stream",
          "name": "stdout",
          "text": [
            "단어 토큰화3 : [\"don't\", 'be', 'fooled', 'by', 'the', 'dark', 'sounding', 'name', 'mr', \"jone's\", 'orphanage', 'is', 'as', 'cheery', 'as', 'cheery', 'goes', 'for', 'a', 'pastry', 'shop']\n"
          ]
        }
      ]
    },
    {
      "cell_type": "markdown",
      "source": [
        "케라스의 text_to_word_sequence는 기본적으로 모든 알파벳을 소문자로 바꾸면서 마침표나 컴마, 느낌표 등의 구두점을 제거한다. 하지만 don't나 jone's와 같은 경우 보존하고 있다. "
      ],
      "metadata": {
        "id": "v0sVg3On7eez"
      }
    },
    {
      "cell_type": "markdown",
      "source": [
        "## 3. 토큰화에서 고려해야할 사항\n",
        "\n",
        "토큰화 작업을 단순하게 코퍼스에서 구두점을 제외하고 공백 기준으로 잘란는 작업이라고 간주할 수는 없다. 이러한 일은 섬세한 알고리즘이 필요하다. \n",
        "\n",
        "### 1) 구두점이나 특수 문자를 단순 제외해서는 안된다. \n",
        "\n",
        "갖고 있는 코퍼스에서 단어들을 걸러낼때 구두점이나 특수문자를 단순히 제외하는 것은 옳지 않다. 코퍼스에 대한 정제 작업을 진행하다보면 구두점 조차도 하나의 토큰으로 분류하기도 한다. 가장 기본적인 예를 들어보자면, 마침표(.)와 같은 경우는 문장의 경계를 알 수 있는데 도움이 되므로 단어를 뽑아낼 때, 마침표(.)를 제외하지 않을 수 있다.\n",
        "\n",
        "또 다른 예로 단어 자체에 구두점을 갖고 있는 경우도 있는데, m.p.h나 Ph.D나 AT&T 같은 경우가 있다. $45.55와 같은 가격을 의미 하기도 하고, 01/02/06은 날짜를 의미하기도 합니다. 보통 이런 경우 45.55를 하나로 취급하고 45와 55로 따로 분류하고 싶지는 않을 수 있다.\n",
        "\n",
        "숫자 사이에 컴마(,)가 들어가는 경우도 있습니다. 보통 수치를 표현할 때는 123,456,789와 같이 세 자리 단위로 컴마가 있다.\n",
        "\n",
        "### 2) 줄임말이나 단어 내에 띄어쓰기가 있는 경우\n",
        "\n",
        "whar're = whar are\n",
        "we're = we are \n",
        "위의 예에서 re를 접어라고 한다. 단어가 줄임말로 쓰일 때 생기는 형태를 말한다. \n",
        "\n",
        "New York 이라는 단어나 rock 'n'roll 이라는 단어는 하나의 단어이지만 중간에 띄어쓰기가 존재한다. 토큰화 작업은 저러한 단어를 하나로 인식할 수 있는 능력도 가져야 한다. \n",
        "\n",
        "### 3)  표준 토큰화 예제\n",
        "\n",
        "표준으로 쓰이고 있는 토큰화 방법 중 하나인 Penn Treebank Tokenizetion의 규칙에 대해 설명하겠다. \n",
        "\n",
        " 규칙 1 : 하이픈으로 구성된 단어는 하나로 유지\n",
        "\n",
        "규칙 2 : doesn't 와 같이 아포스트로피로 접어가 함께하는 단어는 분리.\n",
        "\n",
        "해당 표준에 아래의 문장을 입력으로 넣어보자.\n",
        "\"Starting a home-based restaurant may be an ideal. it doesn't have a food chain or restaurant of their own.\"\n",
        "\n"
      ],
      "metadata": {
        "id": "88hWWFBg7v8y"
      }
    },
    {
      "cell_type": "code",
      "source": [
        "from nltk.tokenize import TreebankWordTokenizer\n",
        "\n",
        "tokenizer=TreebankWordTokenizer()\n",
        "\n",
        "text = \"Starting a home-based restaurant may be an ideal. it doesn't have a food chain or restaurant of their own.\"\n",
        "print(tokenizer.tokenize(text))"
      ],
      "metadata": {
        "colab": {
          "base_uri": "https://localhost:8080/"
        },
        "id": "dkfldMcJ6EcC",
        "outputId": "3ed04729-bfa2-45be-e439-6101f226bdf6"
      },
      "execution_count": null,
      "outputs": [
        {
          "output_type": "stream",
          "name": "stdout",
          "text": [
            "['Starting', 'a', 'home-based', 'restaurant', 'may', 'be', 'an', 'ideal.', 'it', 'does', \"n't\", 'have', 'a', 'food', 'chain', 'or', 'restaurant', 'of', 'their', 'own', '.']\n"
          ]
        }
      ]
    },
    {
      "cell_type": "markdown",
      "source": [
        "home-based는 하나의 토큰으로 취급하고 있고,dosen't의 경우 does와 n't는 분리되었다. "
      ],
      "metadata": {
        "id": "qLfROgB0-DBF"
      }
    },
    {
      "cell_type": "markdown",
      "source": [
        "## 4. 문장 토큰화(Sentence Tokenization)\n",
        "\n",
        "토큰의 단위가 문장일 경우.\n",
        "\n",
        "어떻게 분리할까? 마침표를 기준으로? 하지만 마침표는 문장의 끝이 아니더라도 등장이 가능.\n",
        "\n",
        "예시문장 : Since I'm actively looking for Ph.D. students, I get the same question a dozen times every year.\n",
        "이런경우에는 마침표가 기준이라면 이상한 곳에서 끊기게 된다. \n",
        "\n",
        "nltk에서는 영어 문장의 토큰화를 수행하는 sent_tokenize를 지원하고 있다. "
      ],
      "metadata": {
        "id": "Y6xxkpO2-KBe"
      }
    },
    {
      "cell_type": "code",
      "source": [
        "from nltk.tokenize import sent_tokenize\n",
        "text=\"His barber kept his word. But keeping such a huge secret to himself was driving him crazy. Finally, the barber went up a mountain and almost to the edge of a cliff. He dug a hole in the midst of some reeds. He looked about, to make sure no one was near.\"\n",
        "\n",
        "print(sent_tokenize(text))"
      ],
      "metadata": {
        "colab": {
          "base_uri": "https://localhost:8080/"
        },
        "id": "pAjGoCgx9-RV",
        "outputId": "0b70404c-4c2b-4307-9523-dcc6b7b1a3e4"
      },
      "execution_count": null,
      "outputs": [
        {
          "output_type": "stream",
          "name": "stdout",
          "text": [
            "['His barber kept his word.', 'But keeping such a huge secret to himself was driving him crazy.', 'Finally, the barber went up a mountain and almost to the edge of a cliff.', 'He dug a hole in the midst of some reeds.', 'He looked about, to make sure no one was near.']\n"
          ]
        }
      ]
    },
    {
      "cell_type": "markdown",
      "source": [
        "잘 된 것 같다. 그러면 이제는 문장 중간에 마침표가 다수 등장하는 경우는 어떨까?"
      ],
      "metadata": {
        "id": "ahrgiB9f-8ce"
      }
    },
    {
      "cell_type": "code",
      "source": [
        "text = \"I am actively looking for Ph.D. students. and you are a Ph.D student.\"\n",
        "print(sent_tokenize(text))"
      ],
      "metadata": {
        "colab": {
          "base_uri": "https://localhost:8080/"
        },
        "id": "7cUnBKnI-3zx",
        "outputId": "bee8d9f4-ca8c-4641-ecd4-e752c3c0389a"
      },
      "execution_count": null,
      "outputs": [
        {
          "output_type": "stream",
          "name": "stdout",
          "text": [
            "['I am actively looking for Ph.D. students.', 'and you are a Ph.D student.']\n"
          ]
        }
      ]
    },
    {
      "cell_type": "markdown",
      "source": [
        "nltk는 단순히 마침표를 구분자로 하여 문장을 구분하지 않기 떄문에 ph.d.를 문장내의 단어로 인식해 성공적으로 인식한다. 한국어에 대한 문장 토큰화 도구도 존재한다. 한국어의 경우 KSS를 설치한다. "
      ],
      "metadata": {
        "id": "C-eEnHHK_aDY"
      }
    },
    {
      "cell_type": "code",
      "source": [
        "pip install kss"
      ],
      "metadata": {
        "colab": {
          "base_uri": "https://localhost:8080/"
        },
        "id": "lZKcj6wQABBN",
        "outputId": "6fbe79a1-1e58-47eb-b3c9-01a906cf64c5"
      },
      "execution_count": 12,
      "outputs": [
        {
          "output_type": "stream",
          "name": "stdout",
          "text": [
            "Collecting kss\n",
            "  Downloading kss-3.3.1.1.tar.gz (42.4 MB)\n",
            "\u001b[K     |████████████████████████████████| 42.4 MB 1.8 MB/s \n",
            "\u001b[?25hCollecting emoji\n",
            "  Downloading emoji-1.6.1.tar.gz (170 kB)\n",
            "\u001b[K     |████████████████████████████████| 170 kB 39.2 MB/s \n",
            "\u001b[?25hBuilding wheels for collected packages: kss, emoji\n",
            "  Building wheel for kss (setup.py) ... \u001b[?25l\u001b[?25hdone\n",
            "  Created wheel for kss: filename=kss-3.3.1.1-py3-none-any.whl size=42449241 sha256=e80cee4bda07e20cf4dd77303eb1bc15d4a8e7c553359f0eec752cada8473ebe\n",
            "  Stored in directory: /root/.cache/pip/wheels/6e/9d/1d/52871154eff5273abb86b96f4f984c1cd67c5bde64239b060a\n",
            "  Building wheel for emoji (setup.py) ... \u001b[?25l\u001b[?25hdone\n",
            "  Created wheel for emoji: filename=emoji-1.6.1-py3-none-any.whl size=169313 sha256=809535171d3e3571a5b0ba92ecc7a477ae01eec31f1513c6c473ef126df93e77\n",
            "  Stored in directory: /root/.cache/pip/wheels/ea/5f/d3/03d313ddb3c2a1a427bb4690f1621eea60fe6f2a30cc95940f\n",
            "Successfully built kss emoji\n",
            "Installing collected packages: emoji, kss\n",
            "Successfully installed emoji-1.6.1 kss-3.3.1.1\n"
          ]
        }
      ]
    },
    {
      "cell_type": "code",
      "source": [
        "import kss\n",
        "\n",
        "text = '딥 러닝 자연어 처리가 재미있기는 합니다. 그런데 문제는 영어보다 한국어로 할 때 너무 어렵습니다. 이제 해보면 알걸요?'\n",
        "print('한국어 문장 토큰화 :',kss.split_sentences(text))"
      ],
      "metadata": {
        "colab": {
          "base_uri": "https://localhost:8080/"
        },
        "id": "xK8I4gZ8_CZ2",
        "outputId": "b5a5c539-4e4c-46ff-c6c2-c0b32a8e2f0a"
      },
      "execution_count": 13,
      "outputs": [
        {
          "output_type": "stream",
          "name": "stderr",
          "text": [
            "[Korean Sentence Splitter]: Initializing Pynori...\n"
          ]
        },
        {
          "output_type": "stream",
          "name": "stdout",
          "text": [
            "한국어 문장 토큰화 : ['딥 러닝 자연어 처리가 재미있기는 합니다.', '그런데 문제는 영어보다 한국어로 할 때 너무 어렵습니다.', '이제 해보면 알걸요?']\n"
          ]
        }
      ]
    },
    {
      "cell_type": "markdown",
      "source": [
        "## 5. 한국어에서의 토큰화의 어려움\n",
        "\n",
        "영어는 New York과 같은 합성어나 he's와 같이 줄임말에 대한 예외 처리만 한다면 띄어쓰기 토큰화를 수행해도 단어 토큰화가 잘 작동한다. \n",
        "\n",
        "하지만 한국어는 영어와 달리 띄어쓰기만으로는 토큰화를 하기 부족하다. \n",
        "\n",
        "### 1) 교착어의 특성\n",
        "\n",
        "조사가 붙게되면 띄어쓰기 없이 바로 붙기 때문에 자연어 처리가 힘들고 번거로워진다. 그래서 대부분의 한국어 NLP에서는 조사는 분리해줄 필요가 있다. \n",
        "즉, 독립적인 단어로 구성되는 것이 아니라 조사 등의 무언가가 붙어있는 경우가 많아 이를 전부 분리해줘야 한다는 뜻이다. \n",
        "\n",
        "또 한국어 토큰화는 형태소라는 개념을 반드시 이해해야 한다. \n",
        "- 자립형태소 : 접사, 어미, 조사와 상관없이 자립해서 사용할 수있는 형태소 그 자체로 단어가 된다. 체언(명사, 대명사, 수사), 수식언(관형사, 부사), 감탄사 등이 있음\n",
        "- 의존 형태소 : 다른 형태소와 결합해, 사용되는 형태소, 접사, 어미, 조사, 어간을 말한다. \n",
        "\n",
        "\n",
        "문장 : 에디가 책을 읽었다.\n",
        "\n",
        "띄어쓰기 토큰화 : 에디가, 책을, 읽었다.\n",
        "\n",
        "형태소 분해 : \n",
        "- 에디, 책\n",
        "- -가,-을,읽-,-었-,-다\n",
        "\n",
        "한국어에서 단어 토큰화와 유사한 형태를 얻으려면 어절 토큰화가 아니라 형태소 토큰화를 수행해야 한다는 것이다. \n",
        "\n",
        "\n",
        "### 2) 한국어는 띄어쓰기가 영어보다 잘 지켜지지 않는다. \n",
        "\n",
        "영어는 띄어쓰기를 안하면 잘 해석이 안되지만 한국어는 띄어쓰기를 잘 안해도 해석이 된다. 그래서 코퍼스에서 띄어쓰기가 무시되는 경우가 많아서 자연어 처리가 어려워졌다. \n",
        "\n"
      ],
      "metadata": {
        "id": "4CeuEdMBAgk8"
      }
    },
    {
      "cell_type": "markdown",
      "source": [
        "# 6. 품사 태깅(Part-of-speech tagging)\n",
        "\n",
        "단어는 표기는 같지만 품사에 따라서 단어의 의미가 달라지기도 함. \n",
        "예를들어 fly는 동사로는 '날다' 지만 명사로는 '파리'가진다. 한국어도 '못'은 명사로는 망치로 박는 못이지만 부사로는 동사를 할 수 없다는 의미로 쓰인다. \n",
        "\n",
        "-> 즉 단어의 의미를 제대로 파악하기 위해서 해당단어가 어떤 품사로 쓰였지는 보는 것이 주요 지표가 될 수 있다. 그에 따라 단어 토큰화 과정에서 각 단어가 어떤 품사로 쓰였는지를 구분해놓기도 하는데 이 작업을 품사 태깅이라고 한다. NTLK와 KoNLPy를 통해 품사 태깅 실습을 진행"
      ],
      "metadata": {
        "id": "n05WuCf9ZJcg"
      }
    },
    {
      "cell_type": "markdown",
      "source": [
        "# 7. NLTK와 KoNLPy를 이용한 영어, 한국어 토큰화 실습\n",
        "\n",
        "nltk에서는 Penn Treebank POS Tags라는 기준을 사용해 품사를 태깅한다. "
      ],
      "metadata": {
        "id": "WGf8DwpUcFdl"
      }
    },
    {
      "cell_type": "code",
      "source": [
        "import nltk\n",
        "nltk.download('averaged_perceptron_tagger')"
      ],
      "metadata": {
        "colab": {
          "base_uri": "https://localhost:8080/"
        },
        "id": "fU7WF_Q3c32V",
        "outputId": "a22e9b49-1d67-48fa-b23b-8685ea947a2b"
      },
      "execution_count": 14,
      "outputs": [
        {
          "output_type": "stream",
          "name": "stdout",
          "text": [
            "[nltk_data] Downloading package averaged_perceptron_tagger to\n",
            "[nltk_data]     /root/nltk_data...\n",
            "[nltk_data]   Package averaged_perceptron_tagger is already up-to-\n",
            "[nltk_data]       date!\n"
          ]
        },
        {
          "output_type": "execute_result",
          "data": {
            "text/plain": [
              "True"
            ]
          },
          "metadata": {},
          "execution_count": 14
        }
      ]
    },
    {
      "cell_type": "code",
      "source": [
        "\n",
        "from nltk.tokenize import word_tokenize\n",
        "from nltk.tag import pos_tag\n",
        "\n",
        "text = \"I am actively looking for Ph.D. students. and you are a Ph.D. student.\"\n",
        "tokenized_sentence=word_tokenize(text)\n",
        "\n",
        "print('단어 토큰화:',tokenized_sentence)\n",
        "print('품사 태깅:',pos_tag(tokenized_sentence))"
      ],
      "metadata": {
        "id": "vVJkWNyS_-kI",
        "colab": {
          "base_uri": "https://localhost:8080/"
        },
        "outputId": "05d41280-f808-4035-a5c3-d2d2678a470a"
      },
      "execution_count": 8,
      "outputs": [
        {
          "output_type": "stream",
          "name": "stdout",
          "text": [
            "단어 토큰화: ['I', 'am', 'actively', 'looking', 'for', 'Ph.D.', 'students', '.', 'and', 'you', 'are', 'a', 'Ph.D.', 'student', '.']\n",
            "품사 태깅: [('I', 'PRP'), ('am', 'VBP'), ('actively', 'RB'), ('looking', 'VBG'), ('for', 'IN'), ('Ph.D.', 'NNP'), ('students', 'NNS'), ('.', '.'), ('and', 'CC'), ('you', 'PRP'), ('are', 'VBP'), ('a', 'DT'), ('Ph.D.', 'NNP'), ('student', 'NN'), ('.', '.')]\n"
          ]
        }
      ]
    },
    {
      "cell_type": "markdown",
      "source": [
        "- PRP는 인칭 대명사\n",
        "- VBP는 동사\n",
        "- RB는 부사\n",
        "- VBG는 현재부사\n",
        "- IN은 전치사\n",
        "- NNP는 고유 명사\n",
        "- NNS는 복수형 명사\n",
        "- CC는 접속사\n",
        "- DT는 관사\n",
        "\n",
        "\n",
        "한국어 자연어 처리를 위해서는 KoNLPy(코엔엘파이)라는 파이썬 패키지를 사용할 수 있습니다. 코엔엘파이를 통해서 사용할 수 있는 형태소 분석기로 Okt(Open Korea Text), 메캅(Mecab), 코모란(Komoran), 한나눔(Hannanum), 꼬꼬마(Kkma)가 있습니다.\n",
        "\n",
        "한국어 NLP에서 형태소 분석기를 사용하여 단어 토큰화. 더 정확히는 형태소 토큰화(morpheme tokenization)를 수행해보겠습니다. 여기서는 Okt와 꼬꼬마 두 개의 형태소 분석기를 사용하여 토큰화를 수행"
      ],
      "metadata": {
        "id": "14pBAlxcdSJH"
      }
    },
    {
      "cell_type": "code",
      "source": [
        "pip install konlpy "
      ],
      "metadata": {
        "colab": {
          "base_uri": "https://localhost:8080/"
        },
        "id": "HfX_MzpXe6Kn",
        "outputId": "17d68b51-a149-4dc8-f511-10fb87edb8f7"
      },
      "execution_count": 16,
      "outputs": [
        {
          "output_type": "stream",
          "name": "stdout",
          "text": [
            "Collecting konlpy\n",
            "  Downloading konlpy-0.6.0-py2.py3-none-any.whl (19.4 MB)\n",
            "\u001b[K     |████████████████████████████████| 19.4 MB 1.2 MB/s \n",
            "\u001b[?25hRequirement already satisfied: lxml>=4.1.0 in /usr/local/lib/python3.7/dist-packages (from konlpy) (4.2.6)\n",
            "Requirement already satisfied: numpy>=1.6 in /usr/local/lib/python3.7/dist-packages (from konlpy) (1.19.5)\n",
            "Collecting JPype1>=0.7.0\n",
            "  Downloading JPype1-1.3.0-cp37-cp37m-manylinux_2_5_x86_64.manylinux1_x86_64.whl (448 kB)\n",
            "\u001b[K     |████████████████████████████████| 448 kB 61.3 MB/s \n",
            "\u001b[?25hRequirement already satisfied: typing-extensions in /usr/local/lib/python3.7/dist-packages (from JPype1>=0.7.0->konlpy) (3.10.0.2)\n",
            "Installing collected packages: JPype1, konlpy\n",
            "Successfully installed JPype1-1.3.0 konlpy-0.6.0\n"
          ]
        }
      ]
    },
    {
      "cell_type": "code",
      "source": [
        "from konlpy.tag import Okt\n",
        "from konlpy.tag import Kkma\n",
        "\n",
        "okt=Okt()\n",
        "kkma=Kkma()\n",
        "\n",
        "print('OKT 형태소 분석 :',okt.morphs(\"열심히 코딩한 당신, 연휴에는 여행을 가봐요\"))\n",
        "print('OKT 품사 태깅 :',okt.pos(\"열심히 코딩한 당신, 연휴에는 여행을 가봐요\"))\n",
        "print(\"OKT 명사 추출:\",okt.nouns(\"열심히 코딩한 당신, 연휴에는 여행을 가봐요\"))"
      ],
      "metadata": {
        "colab": {
          "base_uri": "https://localhost:8080/"
        },
        "id": "pKObUPZQch7W",
        "outputId": "38939d5d-972d-4666-d986-784485ba2d47"
      },
      "execution_count": 17,
      "outputs": [
        {
          "output_type": "stream",
          "name": "stdout",
          "text": [
            "OKT 형태소 분석 : ['열심히', '코딩', '한', '당신', ',', '연휴', '에는', '여행', '을', '가봐요']\n",
            "OKT 품사 태깅 : [('열심히', 'Adverb'), ('코딩', 'Noun'), ('한', 'Josa'), ('당신', 'Noun'), (',', 'Punctuation'), ('연휴', 'Noun'), ('에는', 'Josa'), ('여행', 'Noun'), ('을', 'Josa'), ('가봐요', 'Verb')]\n",
            "OKT 명사 추출: ['코딩', '당신', '연휴', '여행']\n"
          ]
        }
      ]
    },
    {
      "cell_type": "markdown",
      "source": [
        "Okt 형태소 분석기로 토큰화를 시도해본 예제. 각각의 메소드는 아래와 같은 기능을 가지고 있다. \n",
        "morphs : 형태소 추출\n",
        "pos : 품사 태깅\n",
        "nouns : 명사 추출\n",
        "\n"
      ],
      "metadata": {
        "id": "2nJeqP5BgU3p"
      }
    },
    {
      "cell_type": "code",
      "source": [
        "#꼬꼬마 형태소 분석기를 사용해 같은 문장에 대해 토큰화 진행하기\n",
        "\n",
        "print('꼬꼬마 형태소 분석 :',kkma.morphs(\"열심히 코딩한 당신, 연휴에는 여행을 가봐요\"))\n",
        "print('꼬꼬마 품사 태깅 :',kkma.pos(\"열심히 코딩한 당신, 연휴에는 여행을 가봐요\"))\n",
        "print('꼬꼬마 명사 추출 :',kkma.nouns(\"열심히 코딩한 당신, 연휴에는 여행을 가봐요\"))  "
      ],
      "metadata": {
        "colab": {
          "base_uri": "https://localhost:8080/"
        },
        "id": "nIHVxqkBee0S",
        "outputId": "7990f17e-e4a0-474d-ae5f-aa8f7125b34c"
      },
      "execution_count": 18,
      "outputs": [
        {
          "output_type": "stream",
          "name": "stdout",
          "text": [
            "꼬꼬마 형태소 분석 : ['열심히', '코딩', '하', 'ㄴ', '당신', ',', '연휴', '에', '는', '여행', '을', '가보', '아요']\n",
            "꼬꼬마 품사 태깅 : [('열심히', 'MAG'), ('코딩', 'NNG'), ('하', 'XSV'), ('ㄴ', 'ETD'), ('당신', 'NP'), (',', 'SP'), ('연휴', 'NNG'), ('에', 'JKM'), ('는', 'JX'), ('여행', 'NNG'), ('을', 'JKO'), ('가보', 'VV'), ('아요', 'EFN')]\n",
            "꼬꼬마 명사 추출 : ['코딩', '당신', '연휴', '여행']\n"
          ]
        }
      ]
    },
    {
      "cell_type": "code",
      "source": [
        ""
      ],
      "metadata": {
        "id": "bsMSh3Dugpbr"
      },
      "execution_count": null,
      "outputs": []
    }
  ]
}