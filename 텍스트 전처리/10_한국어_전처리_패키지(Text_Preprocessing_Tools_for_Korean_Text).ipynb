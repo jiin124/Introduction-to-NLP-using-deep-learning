{
  "nbformat": 4,
  "nbformat_minor": 0,
  "metadata": {
    "colab": {
      "name": "10_한국어 전처리 패키지(Text Preprocessing Tools for Korean Text)",
      "provenance": [],
      "authorship_tag": "ABX9TyM+eYdl2nxQsolD4Jvl5eKM"
    },
    "kernelspec": {
      "name": "python3",
      "display_name": "Python 3"
    },
    "language_info": {
      "name": "python"
    }
  },
  "cells": [
    {
      "cell_type": "markdown",
      "source": [
        "유용한 한국어 전처리 패키지를 정리해봅시다. 앞서 소개한 형태소와 문장 토크나이징 도구들인 KoNLPy와 KSS(Korean Sentence Splitter)와 함께 유용하게 사용할 수 있는 패키지들입니다."
      ],
      "metadata": {
        "id": "UaO2qfn2xkwq"
      }
    },
    {
      "cell_type": "markdown",
      "source": [
        "# 1. PyKoSpacing\n",
        "\n",
        "띄어쓰기가 되어있지 않은 문장을 한문장으로 변환해주는 패키지. 딥러닝 모델로 준수한 성능을 가짐. "
      ],
      "metadata": {
        "id": "ghZc_ButxmRF"
      }
    },
    {
      "cell_type": "code",
      "execution_count": 1,
      "metadata": {
        "colab": {
          "base_uri": "https://localhost:8080/",
          "height": 999
        },
        "id": "gPbOcWqIxhwb",
        "outputId": "a76c14f8-ca8c-433e-d942-8094caa2e07a"
      },
      "outputs": [
        {
          "output_type": "stream",
          "name": "stdout",
          "text": [
            "Collecting git+https://github.com/haven-jeon/PyKoSpacing.git\n",
            "  Cloning https://github.com/haven-jeon/PyKoSpacing.git to /tmp/pip-req-build-3mm06t0v\n",
            "  Running command git clone -q https://github.com/haven-jeon/PyKoSpacing.git /tmp/pip-req-build-3mm06t0v\n",
            "Requirement already satisfied: tensorflow==2.5.2 in /usr/local/lib/python3.7/dist-packages (from pykospacing==0.5) (2.5.2)\n",
            "Requirement already satisfied: h5py==3.1.0 in /usr/local/lib/python3.7/dist-packages (from pykospacing==0.5) (3.1.0)\n",
            "Collecting argparse>=1.4.0\n",
            "  Using cached argparse-1.4.0-py2.py3-none-any.whl (23 kB)\n",
            "Requirement already satisfied: cached-property in /usr/local/lib/python3.7/dist-packages (from h5py==3.1.0->pykospacing==0.5) (1.5.2)\n",
            "Requirement already satisfied: numpy>=1.14.5 in /usr/local/lib/python3.7/dist-packages (from h5py==3.1.0->pykospacing==0.5) (1.19.5)\n",
            "Requirement already satisfied: google-pasta~=0.2 in /usr/local/lib/python3.7/dist-packages (from tensorflow==2.5.2->pykospacing==0.5) (0.2.0)\n",
            "Requirement already satisfied: opt-einsum~=3.3.0 in /usr/local/lib/python3.7/dist-packages (from tensorflow==2.5.2->pykospacing==0.5) (3.3.0)\n",
            "Requirement already satisfied: gast==0.4.0 in /usr/local/lib/python3.7/dist-packages (from tensorflow==2.5.2->pykospacing==0.5) (0.4.0)\n",
            "Requirement already satisfied: astunparse~=1.6.3 in /usr/local/lib/python3.7/dist-packages (from tensorflow==2.5.2->pykospacing==0.5) (1.6.3)\n",
            "Requirement already satisfied: six~=1.15.0 in /usr/local/lib/python3.7/dist-packages (from tensorflow==2.5.2->pykospacing==0.5) (1.15.0)\n",
            "Requirement already satisfied: tensorflow-estimator<2.6.0,>=2.5.0 in /usr/local/lib/python3.7/dist-packages (from tensorflow==2.5.2->pykospacing==0.5) (2.5.0)\n",
            "Requirement already satisfied: flatbuffers~=1.12.0 in /usr/local/lib/python3.7/dist-packages (from tensorflow==2.5.2->pykospacing==0.5) (1.12)\n",
            "Requirement already satisfied: keras-preprocessing~=1.1.2 in /usr/local/lib/python3.7/dist-packages (from tensorflow==2.5.2->pykospacing==0.5) (1.1.2)\n",
            "Requirement already satisfied: wrapt~=1.12.1 in /usr/local/lib/python3.7/dist-packages (from tensorflow==2.5.2->pykospacing==0.5) (1.12.1)\n",
            "Requirement already satisfied: keras-nightly~=2.5.0.dev in /usr/local/lib/python3.7/dist-packages (from tensorflow==2.5.2->pykospacing==0.5) (2.5.0.dev2021032900)\n",
            "Requirement already satisfied: wheel~=0.35 in /usr/local/lib/python3.7/dist-packages (from tensorflow==2.5.2->pykospacing==0.5) (0.37.1)\n",
            "Requirement already satisfied: tensorboard~=2.5 in /usr/local/lib/python3.7/dist-packages (from tensorflow==2.5.2->pykospacing==0.5) (2.7.0)\n",
            "Requirement already satisfied: grpcio~=1.34.0 in /usr/local/lib/python3.7/dist-packages (from tensorflow==2.5.2->pykospacing==0.5) (1.34.1)\n",
            "Requirement already satisfied: protobuf>=3.9.2 in /usr/local/lib/python3.7/dist-packages (from tensorflow==2.5.2->pykospacing==0.5) (3.17.3)\n",
            "Requirement already satisfied: typing-extensions~=3.7.4 in /usr/local/lib/python3.7/dist-packages (from tensorflow==2.5.2->pykospacing==0.5) (3.7.4.3)\n",
            "Requirement already satisfied: absl-py~=0.10 in /usr/local/lib/python3.7/dist-packages (from tensorflow==2.5.2->pykospacing==0.5) (0.12.0)\n",
            "Requirement already satisfied: termcolor~=1.1.0 in /usr/local/lib/python3.7/dist-packages (from tensorflow==2.5.2->pykospacing==0.5) (1.1.0)\n",
            "Requirement already satisfied: tensorboard-data-server<0.7.0,>=0.6.0 in /usr/local/lib/python3.7/dist-packages (from tensorboard~=2.5->tensorflow==2.5.2->pykospacing==0.5) (0.6.1)\n",
            "Requirement already satisfied: werkzeug>=0.11.15 in /usr/local/lib/python3.7/dist-packages (from tensorboard~=2.5->tensorflow==2.5.2->pykospacing==0.5) (1.0.1)\n",
            "Requirement already satisfied: tensorboard-plugin-wit>=1.6.0 in /usr/local/lib/python3.7/dist-packages (from tensorboard~=2.5->tensorflow==2.5.2->pykospacing==0.5) (1.8.1)\n",
            "Requirement already satisfied: requests<3,>=2.21.0 in /usr/local/lib/python3.7/dist-packages (from tensorboard~=2.5->tensorflow==2.5.2->pykospacing==0.5) (2.23.0)\n",
            "Requirement already satisfied: setuptools>=41.0.0 in /usr/local/lib/python3.7/dist-packages (from tensorboard~=2.5->tensorflow==2.5.2->pykospacing==0.5) (57.4.0)\n",
            "Requirement already satisfied: markdown>=2.6.8 in /usr/local/lib/python3.7/dist-packages (from tensorboard~=2.5->tensorflow==2.5.2->pykospacing==0.5) (3.3.6)\n",
            "Requirement already satisfied: google-auth-oauthlib<0.5,>=0.4.1 in /usr/local/lib/python3.7/dist-packages (from tensorboard~=2.5->tensorflow==2.5.2->pykospacing==0.5) (0.4.6)\n",
            "Requirement already satisfied: google-auth<3,>=1.6.3 in /usr/local/lib/python3.7/dist-packages (from tensorboard~=2.5->tensorflow==2.5.2->pykospacing==0.5) (1.35.0)\n",
            "Requirement already satisfied: rsa<5,>=3.1.4 in /usr/local/lib/python3.7/dist-packages (from google-auth<3,>=1.6.3->tensorboard~=2.5->tensorflow==2.5.2->pykospacing==0.5) (4.8)\n",
            "Requirement already satisfied: pyasn1-modules>=0.2.1 in /usr/local/lib/python3.7/dist-packages (from google-auth<3,>=1.6.3->tensorboard~=2.5->tensorflow==2.5.2->pykospacing==0.5) (0.2.8)\n",
            "Requirement already satisfied: cachetools<5.0,>=2.0.0 in /usr/local/lib/python3.7/dist-packages (from google-auth<3,>=1.6.3->tensorboard~=2.5->tensorflow==2.5.2->pykospacing==0.5) (4.2.4)\n",
            "Requirement already satisfied: requests-oauthlib>=0.7.0 in /usr/local/lib/python3.7/dist-packages (from google-auth-oauthlib<0.5,>=0.4.1->tensorboard~=2.5->tensorflow==2.5.2->pykospacing==0.5) (1.3.0)\n",
            "Requirement already satisfied: importlib-metadata>=4.4 in /usr/local/lib/python3.7/dist-packages (from markdown>=2.6.8->tensorboard~=2.5->tensorflow==2.5.2->pykospacing==0.5) (4.10.0)\n",
            "Requirement already satisfied: zipp>=0.5 in /usr/local/lib/python3.7/dist-packages (from importlib-metadata>=4.4->markdown>=2.6.8->tensorboard~=2.5->tensorflow==2.5.2->pykospacing==0.5) (3.7.0)\n",
            "Requirement already satisfied: pyasn1<0.5.0,>=0.4.6 in /usr/local/lib/python3.7/dist-packages (from pyasn1-modules>=0.2.1->google-auth<3,>=1.6.3->tensorboard~=2.5->tensorflow==2.5.2->pykospacing==0.5) (0.4.8)\n",
            "Requirement already satisfied: chardet<4,>=3.0.2 in /usr/local/lib/python3.7/dist-packages (from requests<3,>=2.21.0->tensorboard~=2.5->tensorflow==2.5.2->pykospacing==0.5) (3.0.4)\n",
            "Requirement already satisfied: idna<3,>=2.5 in /usr/local/lib/python3.7/dist-packages (from requests<3,>=2.21.0->tensorboard~=2.5->tensorflow==2.5.2->pykospacing==0.5) (2.10)\n",
            "Requirement already satisfied: urllib3!=1.25.0,!=1.25.1,<1.26,>=1.21.1 in /usr/local/lib/python3.7/dist-packages (from requests<3,>=2.21.0->tensorboard~=2.5->tensorflow==2.5.2->pykospacing==0.5) (1.24.3)\n",
            "Requirement already satisfied: certifi>=2017.4.17 in /usr/local/lib/python3.7/dist-packages (from requests<3,>=2.21.0->tensorboard~=2.5->tensorflow==2.5.2->pykospacing==0.5) (2021.10.8)\n",
            "Requirement already satisfied: oauthlib>=3.0.0 in /usr/local/lib/python3.7/dist-packages (from requests-oauthlib>=0.7.0->google-auth-oauthlib<0.5,>=0.4.1->tensorboard~=2.5->tensorflow==2.5.2->pykospacing==0.5) (3.1.1)\n",
            "Installing collected packages: argparse\n",
            "Successfully installed argparse-1.4.0\n"
          ]
        },
        {
          "output_type": "display_data",
          "data": {
            "application/vnd.colab-display-data+json": {
              "pip_warning": {
                "packages": [
                  "argparse"
                ]
              }
            }
          },
          "metadata": {}
        }
      ],
      "source": [
        "pip install git+https://github.com/haven-jeon/PyKoSpacing.git"
      ]
    },
    {
      "cell_type": "code",
      "source": [
        "sent = '김철수는 극중 두 인격의 사나이 이광수 역을 맡았다. 철수는 한국 유일의 태권도 전승자를 가리는 결전의 날을 앞두고 10년간 함께 훈련한 사형인 유연재(김광수 분)를 찾으러 속세로 내려온 인물이다.'"
      ],
      "metadata": {
        "id": "ouOMn1R0xw_W"
      },
      "execution_count": 2,
      "outputs": []
    },
    {
      "cell_type": "code",
      "source": [
        "new_sent=sent.replace(\" \",\"\")\n",
        "print(new_sent)"
      ],
      "metadata": {
        "colab": {
          "base_uri": "https://localhost:8080/"
        },
        "id": "L5ZN7UmXyLqk",
        "outputId": "fb4a8d99-3072-408c-8de5-c5046f49636c"
      },
      "execution_count": 3,
      "outputs": [
        {
          "output_type": "stream",
          "name": "stdout",
          "text": [
            "김철수는극중두인격의사나이이광수역을맡았다.철수는한국유일의태권도전승자를가리는결전의날을앞두고10년간함께훈련한사형인유연재(김광수분)를찾으러속세로내려온인물이다.\n"
          ]
        }
      ]
    },
    {
      "cell_type": "markdown",
      "source": [
        "원본과 PyKoSapcing을 비교"
      ],
      "metadata": {
        "id": "7t9320JRyoba"
      }
    },
    {
      "cell_type": "code",
      "source": [
        "from pykospacing import Spacing\n",
        "\n",
        "spacing=Spacing()\n",
        "kospacing_sent=spacing(new_sent)\n",
        "\n",
        "print(sent)\n",
        "print(kospacing_sent)"
      ],
      "metadata": {
        "colab": {
          "base_uri": "https://localhost:8080/"
        },
        "id": "tBecCZoHyWDQ",
        "outputId": "6a0f085b-213d-465e-d9f0-43ab6caad141"
      },
      "execution_count": 4,
      "outputs": [
        {
          "output_type": "stream",
          "name": "stdout",
          "text": [
            "김철수는 극중 두 인격의 사나이 이광수 역을 맡았다. 철수는 한국 유일의 태권도 전승자를 가리는 결전의 날을 앞두고 10년간 함께 훈련한 사형인 유연재(김광수 분)를 찾으러 속세로 내려온 인물이다.\n",
            "김철수는 극중 두 인격의 사나이 이광수 역을 맡았다. 철수는 한국 유일의 태권도 전승자를 가리는 결전의 날을 앞두고 10년간 함께 훈련한 사형인 유연재(김광수 분)를 찾으러 속세로 내려온 인물이다.\n"
          ]
        }
      ]
    },
    {
      "cell_type": "markdown",
      "source": [
        "일치!"
      ],
      "metadata": {
        "id": "aRA92M5oys9e"
      }
    },
    {
      "cell_type": "markdown",
      "source": [
        "# 2. Py-Hanspell\n",
        "\n",
        "네이버 한글 맞춤범 검사기를 바탕으로 만들어진 패키지"
      ],
      "metadata": {
        "id": "e0bRWZvEyuyp"
      }
    },
    {
      "cell_type": "code",
      "source": [
        "pip install git+https://github.com/ssut/py-hanspell.git"
      ],
      "metadata": {
        "colab": {
          "base_uri": "https://localhost:8080/"
        },
        "id": "hoisgEOiyiVZ",
        "outputId": "8ed6253d-a213-4f68-b494-693a0a65f904"
      },
      "execution_count": 5,
      "outputs": [
        {
          "output_type": "stream",
          "name": "stdout",
          "text": [
            "Collecting git+https://github.com/ssut/py-hanspell.git\n",
            "  Cloning https://github.com/ssut/py-hanspell.git to /tmp/pip-req-build-5o_tla8d\n",
            "  Running command git clone -q https://github.com/ssut/py-hanspell.git /tmp/pip-req-build-5o_tla8d\n",
            "Requirement already satisfied: requests in /usr/local/lib/python3.7/dist-packages (from py-hanspell==1.1) (2.23.0)\n",
            "Requirement already satisfied: chardet<4,>=3.0.2 in /usr/local/lib/python3.7/dist-packages (from requests->py-hanspell==1.1) (3.0.4)\n",
            "Requirement already satisfied: idna<3,>=2.5 in /usr/local/lib/python3.7/dist-packages (from requests->py-hanspell==1.1) (2.10)\n",
            "Requirement already satisfied: urllib3!=1.25.0,!=1.25.1,<1.26,>=1.21.1 in /usr/local/lib/python3.7/dist-packages (from requests->py-hanspell==1.1) (1.24.3)\n",
            "Requirement already satisfied: certifi>=2017.4.17 in /usr/local/lib/python3.7/dist-packages (from requests->py-hanspell==1.1) (2021.10.8)\n",
            "Building wheels for collected packages: py-hanspell\n",
            "  Building wheel for py-hanspell (setup.py) ... \u001b[?25l\u001b[?25hdone\n",
            "  Created wheel for py-hanspell: filename=py_hanspell-1.1-py3-none-any.whl size=4868 sha256=314e75d12c7569111ef878c8bfa3bc21319d32317ee7ce8a051833b46755892a\n",
            "  Stored in directory: /tmp/pip-ephem-wheel-cache-r2bndav9/wheels/ab/f5/7b/d4124bb329c905301baed80e2ae45aa14e824f62ebc3ec2cc4\n",
            "Successfully built py-hanspell\n",
            "Installing collected packages: py-hanspell\n",
            "Successfully installed py-hanspell-1.1\n"
          ]
        }
      ]
    },
    {
      "cell_type": "code",
      "source": [
        "from hanspell import spell_checker\n",
        "\n",
        "sent = \"맞춤법 틀리면 외 않되? 쓰고싶은대로쓰면돼지 \"\n",
        "spelled_sent=spell_checker.check(sent)\n",
        "\n",
        "hanspell_sent=spelled_sent.checked\n",
        "print(hanspell_sent)"
      ],
      "metadata": {
        "colab": {
          "base_uri": "https://localhost:8080/"
        },
        "id": "-SkEcXG1y2S9",
        "outputId": "382ce3a4-9eba-48f8-f37b-ac385c80bf3c"
      },
      "execution_count": 6,
      "outputs": [
        {
          "output_type": "stream",
          "name": "stdout",
          "text": [
            "맞춤법 틀리면 왜 안돼? 쓰고 싶은 대로 쓰면 되지\n"
          ]
        }
      ]
    },
    {
      "cell_type": "markdown",
      "source": [
        "이 패키지는 띄어쓰기 또한 보정한다. PyKoSpacing에 사용한 예제를 그대로 사용해보자. "
      ],
      "metadata": {
        "id": "wxwg4UIrzjSN"
      }
    },
    {
      "cell_type": "code",
      "source": [
        "spelled_sent=spell_checker.check(new_sent)\n",
        "\n",
        "hanspell_sent=spelled_sent.checked\n",
        "print(hanspell_sent)\n",
        "print(kospacing_sent)#Kospacing 패키지에서 얻은 결과"
      ],
      "metadata": {
        "colab": {
          "base_uri": "https://localhost:8080/"
        },
        "id": "W70JdEeEzZx-",
        "outputId": "76857990-4e0d-4238-ea8d-82e798df3fa6"
      },
      "execution_count": 7,
      "outputs": [
        {
          "output_type": "stream",
          "name": "stdout",
          "text": [
            "김철수는 극 중 두 인격의 사나이 이광수 역을 맡았다. 철수는 한국 유일의 태권도 전승자를 가리는 결전의 날을 앞두고 10년간 함께 훈련한 사형인 유연제(김광수 분)를 찾으러 속세로 내려온 인물이다.\n",
            "김철수는 극중 두 인격의 사나이 이광수 역을 맡았다. 철수는 한국 유일의 태권도 전승자를 가리는 결전의 날을 앞두고 10년간 함께 훈련한 사형인 유연재(김광수 분)를 찾으러 속세로 내려온 인물이다.\n"
          ]
        }
      ]
    },
    {
      "cell_type": "markdown",
      "source": [
        "PyKoSpacing과 결과가 거의 비슷하지만 조금 다릅니다."
      ],
      "metadata": {
        "id": "Rrrg3eu101A8"
      }
    },
    {
      "cell_type": "markdown",
      "source": [
        "# 3. SOYNLP를 이용한 단어 토큰화\n",
        "\n",
        "soynlp는 품사 태깅, 단어 토큰화 등을 지원하는 단어 토크나이저, 비지도 학습으로 단어 토큰화를 한다는 특징을 갖고 있으며, 데이터에 자주 등장하는 단어들을 단어로 분석한다. soynlp 단어 토크나이저는 내부적으로 단어 점수표로 동작한다. 이 점수는 응집확률(cohesion probability)와 브랜칭 엔트로피(branching entropy)를 활용한다. "
      ],
      "metadata": {
        "id": "829BstKZHDew"
      }
    },
    {
      "cell_type": "code",
      "source": [
        "pip install soynlp"
      ],
      "metadata": {
        "colab": {
          "base_uri": "https://localhost:8080/"
        },
        "id": "rmJ7nlPV01Oe",
        "outputId": "a46afa96-2679-4bab-abe8-1e428c427b5f"
      },
      "execution_count": 1,
      "outputs": [
        {
          "output_type": "stream",
          "name": "stdout",
          "text": [
            "Collecting soynlp\n",
            "  Downloading soynlp-0.0.493-py3-none-any.whl (416 kB)\n",
            "\u001b[?25l\r\u001b[K     |▉                               | 10 kB 23.5 MB/s eta 0:00:01\r\u001b[K     |█▋                              | 20 kB 10.7 MB/s eta 0:00:01\r\u001b[K     |██▍                             | 30 kB 8.6 MB/s eta 0:00:01\r\u001b[K     |███▏                            | 40 kB 7.7 MB/s eta 0:00:01\r\u001b[K     |████                            | 51 kB 5.2 MB/s eta 0:00:01\r\u001b[K     |████▊                           | 61 kB 5.3 MB/s eta 0:00:01\r\u001b[K     |█████▌                          | 71 kB 5.2 MB/s eta 0:00:01\r\u001b[K     |██████▎                         | 81 kB 5.8 MB/s eta 0:00:01\r\u001b[K     |███████                         | 92 kB 5.9 MB/s eta 0:00:01\r\u001b[K     |███████▉                        | 102 kB 5.0 MB/s eta 0:00:01\r\u001b[K     |████████▋                       | 112 kB 5.0 MB/s eta 0:00:01\r\u001b[K     |█████████▍                      | 122 kB 5.0 MB/s eta 0:00:01\r\u001b[K     |██████████▏                     | 133 kB 5.0 MB/s eta 0:00:01\r\u001b[K     |███████████                     | 143 kB 5.0 MB/s eta 0:00:01\r\u001b[K     |███████████▉                    | 153 kB 5.0 MB/s eta 0:00:01\r\u001b[K     |████████████▋                   | 163 kB 5.0 MB/s eta 0:00:01\r\u001b[K     |█████████████▍                  | 174 kB 5.0 MB/s eta 0:00:01\r\u001b[K     |██████████████▏                 | 184 kB 5.0 MB/s eta 0:00:01\r\u001b[K     |███████████████                 | 194 kB 5.0 MB/s eta 0:00:01\r\u001b[K     |███████████████▊                | 204 kB 5.0 MB/s eta 0:00:01\r\u001b[K     |████████████████▌               | 215 kB 5.0 MB/s eta 0:00:01\r\u001b[K     |█████████████████▎              | 225 kB 5.0 MB/s eta 0:00:01\r\u001b[K     |██████████████████              | 235 kB 5.0 MB/s eta 0:00:01\r\u001b[K     |██████████████████▉             | 245 kB 5.0 MB/s eta 0:00:01\r\u001b[K     |███████████████████▋            | 256 kB 5.0 MB/s eta 0:00:01\r\u001b[K     |████████████████████▍           | 266 kB 5.0 MB/s eta 0:00:01\r\u001b[K     |█████████████████████▎          | 276 kB 5.0 MB/s eta 0:00:01\r\u001b[K     |██████████████████████          | 286 kB 5.0 MB/s eta 0:00:01\r\u001b[K     |██████████████████████▉         | 296 kB 5.0 MB/s eta 0:00:01\r\u001b[K     |███████████████████████▋        | 307 kB 5.0 MB/s eta 0:00:01\r\u001b[K     |████████████████████████▍       | 317 kB 5.0 MB/s eta 0:00:01\r\u001b[K     |█████████████████████████▏      | 327 kB 5.0 MB/s eta 0:00:01\r\u001b[K     |██████████████████████████      | 337 kB 5.0 MB/s eta 0:00:01\r\u001b[K     |██████████████████████████▊     | 348 kB 5.0 MB/s eta 0:00:01\r\u001b[K     |███████████████████████████▌    | 358 kB 5.0 MB/s eta 0:00:01\r\u001b[K     |████████████████████████████▎   | 368 kB 5.0 MB/s eta 0:00:01\r\u001b[K     |█████████████████████████████   | 378 kB 5.0 MB/s eta 0:00:01\r\u001b[K     |█████████████████████████████▉  | 389 kB 5.0 MB/s eta 0:00:01\r\u001b[K     |██████████████████████████████▋ | 399 kB 5.0 MB/s eta 0:00:01\r\u001b[K     |███████████████████████████████▌| 409 kB 5.0 MB/s eta 0:00:01\r\u001b[K     |████████████████████████████████| 416 kB 5.0 MB/s \n",
            "\u001b[?25hRequirement already satisfied: psutil>=5.0.1 in /usr/local/lib/python3.7/dist-packages (from soynlp) (5.4.8)\n",
            "Requirement already satisfied: numpy>=1.12.1 in /usr/local/lib/python3.7/dist-packages (from soynlp) (1.19.5)\n",
            "Requirement already satisfied: scikit-learn>=0.20.0 in /usr/local/lib/python3.7/dist-packages (from soynlp) (1.0.2)\n",
            "Requirement already satisfied: scipy>=1.1.0 in /usr/local/lib/python3.7/dist-packages (from soynlp) (1.4.1)\n",
            "Requirement already satisfied: joblib>=0.11 in /usr/local/lib/python3.7/dist-packages (from scikit-learn>=0.20.0->soynlp) (1.1.0)\n",
            "Requirement already satisfied: threadpoolctl>=2.0.0 in /usr/local/lib/python3.7/dist-packages (from scikit-learn>=0.20.0->soynlp) (3.0.0)\n",
            "Installing collected packages: soynlp\n",
            "Successfully installed soynlp-0.0.493\n"
          ]
        }
      ]
    },
    {
      "cell_type": "markdown",
      "source": [
        "## 1. 신조어 문제\n",
        "\n",
        "기존의 형태소 분석기가 가진 문제는 무엇이었는지, SOYNLP가 어떤 점에서 유용한지 정리해보자. 기존의 형태소 분석기는 신조어나 형태소 분석기에 등록되지 않은 단어 같은 경우 제대로 구분하지 못하는 단점이 있었다. "
      ],
      "metadata": {
        "id": "faMfD5i1HwYq"
      }
    },
    {
      "cell_type": "code",
      "source": [
        "pip install konlpy"
      ],
      "metadata": {
        "colab": {
          "base_uri": "https://localhost:8080/"
        },
        "id": "AVZArwSgIP20",
        "outputId": "f5de37f1-c9e9-4720-92d6-71a0c9b7371f"
      },
      "execution_count": 4,
      "outputs": [
        {
          "output_type": "stream",
          "name": "stdout",
          "text": [
            "Collecting konlpy\n",
            "  Downloading konlpy-0.6.0-py2.py3-none-any.whl (19.4 MB)\n",
            "\u001b[K     |████████████████████████████████| 19.4 MB 1.2 MB/s \n",
            "\u001b[?25hCollecting JPype1>=0.7.0\n",
            "  Downloading JPype1-1.3.0-cp37-cp37m-manylinux_2_5_x86_64.manylinux1_x86_64.whl (448 kB)\n",
            "\u001b[K     |████████████████████████████████| 448 kB 47.3 MB/s \n",
            "\u001b[?25hRequirement already satisfied: numpy>=1.6 in /usr/local/lib/python3.7/dist-packages (from konlpy) (1.19.5)\n",
            "Requirement already satisfied: lxml>=4.1.0 in /usr/local/lib/python3.7/dist-packages (from konlpy) (4.2.6)\n",
            "Requirement already satisfied: typing-extensions in /usr/local/lib/python3.7/dist-packages (from JPype1>=0.7.0->konlpy) (3.10.0.2)\n",
            "Installing collected packages: JPype1, konlpy\n",
            "Successfully installed JPype1-1.3.0 konlpy-0.6.0\n"
          ]
        }
      ]
    },
    {
      "cell_type": "code",
      "source": [
        "from konlpy.tag import Okt\n",
        "\n",
        "tokenizer=Okt()\n",
        "print(tokenizer.morphs('에이비식스 이대휘 1월 최애돌 기부 요정'))"
      ],
      "metadata": {
        "colab": {
          "base_uri": "https://localhost:8080/"
        },
        "id": "QhqB1_n_HsJW",
        "outputId": "4616cf44-371c-4222-855e-b9a03868ff76"
      },
      "execution_count": 6,
      "outputs": [
        {
          "output_type": "stream",
          "name": "stdout",
          "text": [
            "['에이', '비식스', '이대', '휘', '1월', '최애', '돌', '기부', '요정']\n"
          ]
        }
      ]
    },
    {
      "cell_type": "markdown",
      "source": [
        " 텍스트 데이터에서 특정 문자 시퀀스가 함께 자주 등장하는 빈도가 높고, 앞 뒤로 조사 또는 완전히 다른 단어가 등장하는 것을 고려해서 해당 문자 시퀀스를 형태소라고 판단하는 단어 토크나이저라면 어떨까요?\n",
        "\n",
        " 예를 들어 에이비식스라는 문자열이 자주 연결되어 등장한다면 한 단어라고 판단하고, 또한 에이비식스라는 단어 앞, 뒤에 '최고', '가수', '실력'과 같은 독립된 다른 단어들이 계속해서 등장한다면 에이비식스를 한 단어로 파악하는 식이지요. 그리고 이런 아이디어를 가진 단어 토크나이저가 soynlp입니다."
      ],
      "metadata": {
        "id": "ICAIG9pnJXHI"
      }
    },
    {
      "cell_type": "markdown",
      "source": [
        "## 2. 학습하기\n",
        "\n",
        "soynlp는 기본적으로 학습에 기반한 토크나이저이므로 학습에 필요한 한국어 문서를 다운로드 한다. "
      ],
      "metadata": {
        "id": "4zZi5zjsJa4d"
      }
    },
    {
      "cell_type": "code",
      "source": [
        "import urllib.request\n",
        "from soynlp import DoublespaceLineCorpus\n",
        "from soynlp.word import WordExtractor"
      ],
      "metadata": {
        "id": "PVa_bb-NIDtf"
      },
      "execution_count": 8,
      "outputs": []
    },
    {
      "cell_type": "code",
      "source": [
        "urllib.request.urlretrieve(\"https://raw.githubusercontent.com/lovit/soynlp/master/tutorials/2016-10-20.txt\", filename=\"2016-10-20.txt\")"
      ],
      "metadata": {
        "colab": {
          "base_uri": "https://localhost:8080/"
        },
        "id": "ixR2jRTuJm52",
        "outputId": "76246bf1-b9cb-453f-bc8f-6a81512aa2aa"
      },
      "execution_count": 9,
      "outputs": [
        {
          "output_type": "execute_result",
          "data": {
            "text/plain": [
              "('2016-10-20.txt', <http.client.HTTPMessage at 0x7efdfac656d0>)"
            ]
          },
          "metadata": {},
          "execution_count": 9
        }
      ]
    },
    {
      "cell_type": "code",
      "source": [
        "#훈련데이터를 다수의 문서로 분리\n",
        "\n",
        "corpus=DoublespaceLineCorpus(\"2016-10-20.txt\")\n",
        "len(corpus)"
      ],
      "metadata": {
        "colab": {
          "base_uri": "https://localhost:8080/"
        },
        "id": "_Z2jS3e7JqhN",
        "outputId": "8e585d1c-99ee-409a-ff1a-bad3eb3a6793"
      },
      "execution_count": 10,
      "outputs": [
        {
          "output_type": "execute_result",
          "data": {
            "text/plain": [
              "30091"
            ]
          },
          "metadata": {},
          "execution_count": 10
        }
      ]
    },
    {
      "cell_type": "markdown",
      "source": [
        "총 3만 91개의 문서가 존재한다 상위 3개의 문서만 출력해보자. "
      ],
      "metadata": {
        "id": "DRVPrZGbJ0zD"
      }
    },
    {
      "cell_type": "code",
      "source": [
        "i=0\n",
        "for document in corpus:\n",
        "  if len(document)>0:\n",
        "    print(document)\n",
        "    i+=1\n",
        "  if i==3:\n",
        "    break"
      ],
      "metadata": {
        "colab": {
          "base_uri": "https://localhost:8080/"
        },
        "id": "LYWEb9r8Jyp_",
        "outputId": "01975d06-8190-4469-dd1c-a0f3af789720"
      },
      "execution_count": 11,
      "outputs": [
        {
          "output_type": "stream",
          "name": "stdout",
          "text": [
            "19  1990  52 1 22\n",
            "오패산터널 총격전 용의자 검거 서울 연합뉴스 경찰 관계자들이 19일 오후 서울 강북구 오패산 터널 인근에서 사제 총기를 발사해 경찰을 살해한 용의자 성모씨를 검거하고 있다 성씨는 검거 당시 서바이벌 게임에서 쓰는 방탄조끼에 헬멧까지 착용한 상태였다 독자제공 영상 캡처 연합뉴스  서울 연합뉴스 김은경 기자 사제 총기로 경찰을 살해한 범인 성모 46 씨는 주도면밀했다  경찰에 따르면 성씨는 19일 오후 강북경찰서 인근 부동산 업소 밖에서 부동산업자 이모 67 씨가 나오기를 기다렸다 이씨와는 평소에도 말다툼을 자주 한 것으로 알려졌다  이씨가 나와 걷기 시작하자 성씨는 따라가면서 미리 준비해온 사제 총기를 이씨에게 발사했다 총알이 빗나가면서 이씨는 도망갔다 그 빗나간 총알은 지나가던 행인 71 씨의 배를 스쳤다  성씨는 강북서 인근 치킨집까지 이씨 뒤를 쫓으며 실랑이하다 쓰러뜨린 후 총기와 함께 가져온 망치로 이씨 머리를 때렸다  이 과정에서 오후 6시 20분께 강북구 번동 길 위에서 사람들이 싸우고 있다 총소리가 났다 는 등의 신고가 여러건 들어왔다  5분 후에 성씨의 전자발찌가 훼손됐다는 신고가 보호관찰소 시스템을 통해 들어왔다 성범죄자로 전자발찌를 차고 있던 성씨는 부엌칼로 직접 자신의 발찌를 끊었다  용의자 소지 사제총기 2정 서울 연합뉴스 임헌정 기자 서울 시내에서 폭행 용의자가 현장 조사를 벌이던 경찰관에게 사제총기를 발사해 경찰관이 숨졌다 19일 오후 6시28분 강북구 번동에서 둔기로 맞았다 는 폭행 피해 신고가 접수돼 현장에서 조사하던 강북경찰서 번동파출소 소속 김모 54 경위가 폭행 용의자 성모 45 씨가 쏜 사제총기에 맞고 쓰러진 뒤 병원에 옮겨졌으나 숨졌다 사진은 용의자가 소지한 사제총기  신고를 받고 번동파출소에서 김창호 54 경위 등 경찰들이 오후 6시 29분께 현장으로 출동했다 성씨는 그사이 부동산 앞에 놓아뒀던 가방을 챙겨 오패산 쪽으로 도망간 후였다  김 경위는 오패산 터널 입구 오른쪽의 급경사에서 성씨에게 접근하다가 오후 6시 33분께 풀숲에 숨은 성씨가 허공에 난사한 10여발의 총알 중 일부를 왼쪽 어깨 뒷부분에 맞고 쓰러졌다  김 경위는 구급차가 도착했을 때 이미 의식이 없었고 심폐소생술을 하며 병원으로 옮겨졌으나 총알이 폐를 훼손해 오후 7시 40분께 사망했다  김 경위는 외근용 조끼를 입고 있었으나 총알을 막기에는 역부족이었다  머리에 부상을 입은 이씨도 함께 병원으로 이송됐으나 생명에는 지장이 없는 것으로 알려졌다  성씨는 오패산 터널 밑쪽 숲에서 오후 6시 45분께 잡혔다  총격현장 수색하는 경찰들 서울 연합뉴스 이효석 기자 19일 오후 서울 강북구 오패산 터널 인근에서 경찰들이 폭행 용의자가 사제총기를 발사해 경찰관이 사망한 사건을 조사 하고 있다  총 때문에 쫓던 경관들과 민간인들이 몸을 숨겼는데 인근 신발가게 직원 이모씨가 다가가 성씨를 덮쳤고 이어 현장에 있던 다른 상인들과 경찰이 가세해 체포했다  성씨는 경찰에 붙잡힌 직후 나 자살하려고 한 거다 맞아 죽어도 괜찮다 고 말한 것으로 전해졌다  성씨 자신도 경찰이 발사한 공포탄 1발 실탄 3발 중 실탄 1발을 배에 맞았으나 방탄조끼를 입은 상태여서 부상하지는 않았다  경찰은 인근을 수색해 성씨가 만든 사제총 16정과 칼 7개를 압수했다 실제 폭발할지는 알 수 없는 요구르트병에 무언가를 채워두고 심지를 꽂은 사제 폭탄도 발견됐다  일부는 숲에서 발견됐고 일부는 성씨가 소지한 가방 안에 있었다\n",
            "테헤란 연합뉴스 강훈상 특파원 이용 승객수 기준 세계 최대 공항인 아랍에미리트 두바이국제공항은 19일 현지시간 이 공항을 이륙하는 모든 항공기의 탑승객은 삼성전자의 갤럭시노트7을 휴대하면 안 된다고 밝혔다  두바이국제공항은 여러 항공 관련 기구의 권고에 따라 안전성에 우려가 있는 스마트폰 갤럭시노트7을 휴대하고 비행기를 타면 안 된다 며 탑승 전 검색 중 발견되면 압수할 계획 이라고 발표했다  공항 측은 갤럭시노트7의 배터리가 폭발 우려가 제기된 만큼 이 제품을 갖고 공항 안으로 들어오지 말라고 이용객에 당부했다  이런 조치는 두바이국제공항 뿐 아니라 신공항인 두바이월드센터에도 적용된다  배터리 폭발문제로 회수된 갤럭시노트7 연합뉴스자료사진\n"
          ]
        }
      ]
    },
    {
      "cell_type": "markdown",
      "source": [
        "정상 출력되는 것을 확인하였습니다. soynlp는 학습 기반의 단어 토크나이저이므로 기존의 KoNLPy에서 제공하는 형태소 분석기들과는 달리 학습 과정을 거쳐야 합니다. 이는 전체 코퍼스로부터 응집 확률과 브랜칭 엔트로피 단어 점수표를 만드는 과정입니다. WordExtractor.extract()를 통해서 전체 코퍼스에 대해 단어 점수표를 계산합니다."
      ],
      "metadata": {
        "id": "T8LJrFWPK-vn"
      }
    },
    {
      "cell_type": "code",
      "source": [
        "word_extractor=WordExtractor()\n",
        "word_extractor.train(corpus)\n",
        "word_score_table=word_extractor.extract()"
      ],
      "metadata": {
        "colab": {
          "base_uri": "https://localhost:8080/"
        },
        "id": "KLqtlnU1K6Md",
        "outputId": "76df6539-c157-482c-9f32-0bdf1fe7688f"
      },
      "execution_count": 12,
      "outputs": [
        {
          "output_type": "stream",
          "name": "stdout",
          "text": [
            "training was done. used memory 1.446 Gb\n",
            "all cohesion probabilities was computed. # words = 223348\n",
            "all branching entropies was computed # words = 361598\n",
            "all accessor variety was computed # words = 361598\n"
          ]
        }
      ]
    },
    {
      "cell_type": "markdown",
      "source": [
        "학습 완료\n",
        "\n",
        "## 3. SOYNLP의 응집확률(cohesion probability)\n",
        "\n",
        "응집 확률은 내부 문자열이 얼마나 응집하여 자주 등장하는지를 판단하는 척도이다. 응집 확률은 문자열을 문자 단위로 분리하여 내부 문자열을 만드는 과정에서 왼쪽부터 순서대로 문자를 추가하면서 각 문자열이 주어졌을 떄 그 다음 문자가 나올 확률을 계산해 누적곱을 한 값. "
      ],
      "metadata": {
        "id": "z-ZiefYhMMCF"
      }
    },
    {
      "cell_type": "code",
      "source": [
        "word_score_table[\"반포한\"].cohesion_forward"
      ],
      "metadata": {
        "colab": {
          "base_uri": "https://localhost:8080/"
        },
        "id": "vE8LxqsZLZ5n",
        "outputId": "b54a32fd-9eae-4609-f84d-58b7b0d80194"
      },
      "execution_count": 13,
      "outputs": [
        {
          "output_type": "execute_result",
          "data": {
            "text/plain": [
              "0.08838002913645132"
            ]
          },
          "metadata": {},
          "execution_count": 13
        }
      ]
    },
    {
      "cell_type": "code",
      "source": [
        "word_score_table[\"반포한강\"].cohesion_forward"
      ],
      "metadata": {
        "colab": {
          "base_uri": "https://localhost:8080/"
        },
        "id": "c1TH-CLWMlVM",
        "outputId": "3b7b1ddb-c740-48e7-8a58-dc7431388f46"
      },
      "execution_count": 14,
      "outputs": [
        {
          "output_type": "execute_result",
          "data": {
            "text/plain": [
              "0.19841268168224552"
            ]
          },
          "metadata": {},
          "execution_count": 14
        }
      ]
    },
    {
      "cell_type": "code",
      "source": [
        "word_score_table[\"반포한강공\"].cohesion_forward"
      ],
      "metadata": {
        "colab": {
          "base_uri": "https://localhost:8080/"
        },
        "id": "5NmlT4TfMoDF",
        "outputId": "a4efe411-0696-4c7d-c14a-7141860098dc"
      },
      "execution_count": 15,
      "outputs": [
        {
          "output_type": "execute_result",
          "data": {
            "text/plain": [
              "0.2972877884078849"
            ]
          },
          "metadata": {},
          "execution_count": 15
        }
      ]
    },
    {
      "cell_type": "code",
      "source": [
        "word_score_table[\"반포한강공원\"].cohesion_forward"
      ],
      "metadata": {
        "colab": {
          "base_uri": "https://localhost:8080/"
        },
        "id": "1rB8lJVCMpyt",
        "outputId": "ef52836a-45d0-454c-c20d-b3d2cc7e49bf"
      },
      "execution_count": 16,
      "outputs": [
        {
          "output_type": "execute_result",
          "data": {
            "text/plain": [
              "0.37891487632839754"
            ]
          },
          "metadata": {},
          "execution_count": 16
        }
      ]
    },
    {
      "cell_type": "code",
      "source": [
        "word_score_table[\"반포한강공원에\"].cohesion_forward"
      ],
      "metadata": {
        "colab": {
          "base_uri": "https://localhost:8080/"
        },
        "id": "2LXB-tddMrxr",
        "outputId": "3bd916a3-6c7e-41ce-955f-db4056b2f953"
      },
      "execution_count": 17,
      "outputs": [
        {
          "output_type": "execute_result",
          "data": {
            "text/plain": [
              "0.33492963377557666"
            ]
          },
          "metadata": {},
          "execution_count": 17
        }
      ]
    },
    {
      "cell_type": "markdown",
      "source": [
        "오히려 '반포한강공원'보다 응집도가 낮아집니다. 결국 결합도는 '반포한강공원'일 때가 가장 높았습니다. 응집도를 통해 판단하기에 하나의 단어로 판단하기에 가장 적합한 문자열은 '반포한강공원'이라고 볼 수 있겠습니다."
      ],
      "metadata": {
        "id": "K9zsv8-pMuvT"
      }
    },
    {
      "cell_type": "markdown",
      "source": [
        "# 4. SOYNLP의 브랜칭 엔트로피(branching entropy)\n",
        "\n",
        "Branching Entropy는 확률 분포의 엔트로피 값을 사용한다. 이는 주어진 문자열에서 얼마나 다음 문자가 등장 할 수 있는지를 판단하는 척도. "
      ],
      "metadata": {
        "id": "_63qLzLMNTht"
      }
    },
    {
      "cell_type": "code",
      "source": [
        "word_score_table[\"디스\"].right_branching_entropy"
      ],
      "metadata": {
        "colab": {
          "base_uri": "https://localhost:8080/"
        },
        "id": "Su_NZ1M2MtHc",
        "outputId": "4ebee41f-ca6f-49b2-a5bd-e6125ea933af"
      },
      "execution_count": 18,
      "outputs": [
        {
          "output_type": "execute_result",
          "data": {
            "text/plain": [
              "1.6371694761537934"
            ]
          },
          "metadata": {},
          "execution_count": 18
        }
      ]
    },
    {
      "cell_type": "code",
      "source": [
        "word_score_table[\"디스플\"].right_branching_entropy"
      ],
      "metadata": {
        "colab": {
          "base_uri": "https://localhost:8080/"
        },
        "id": "vzNU3Rv-OIqF",
        "outputId": "505db270-a256-4f49-bd84-998eaed63c4b"
      },
      "execution_count": 19,
      "outputs": [
        {
          "output_type": "execute_result",
          "data": {
            "text/plain": [
              "-0.0"
            ]
          },
          "metadata": {},
          "execution_count": 19
        }
      ]
    },
    {
      "cell_type": "markdown",
      "source": [
        "'디스' 다음에는 다양한 문자가 올 수 있으니까 1.63이라는 값을 가지는 반면, '디스플'이라는 문자열 다음에는 다음 문자로 '레'가 오는 것이 너무나 명백하기 때문에 0이란 값을 가집니다."
      ],
      "metadata": {
        "id": "vJriDcUPOOyO"
      }
    },
    {
      "cell_type": "code",
      "source": [
        "word_score_table[\"디스플레이\"].right_branching_entropy"
      ],
      "metadata": {
        "colab": {
          "base_uri": "https://localhost:8080/"
        },
        "id": "JmeZ0CPeOM_F",
        "outputId": "93d28028-fd46-446d-8d77-5bdf75163a83"
      },
      "execution_count": 20,
      "outputs": [
        {
          "output_type": "execute_result",
          "data": {
            "text/plain": [
              "3.1400392861792916"
            ]
          },
          "metadata": {},
          "execution_count": 20
        }
      ]
    },
    {
      "cell_type": "markdown",
      "source": [
        "갑자기 값이 증가합니다. 그 이유는 문자 시퀀스 '디스플레이'라는 문자 시퀀스 다음에는 조사나 다른 단어와 같은 다양한 경우가 있을 수 있기 때문입니다. 이는 하나의 단어가 끝나면 그 경계 부분부터 다시 브랜칭 엔트로피 값이 증가하게 됨을 의미합니다. 그리고 이 값으로 단어를 판단하는 것이 가능하겠죠?"
      ],
      "metadata": {
        "id": "buYJZi6_ORXU"
      }
    },
    {
      "cell_type": "markdown",
      "source": [
        "## 5. SOYNLP의 L tokenizer\n",
        "\n",
        "한국어는 띄어쓰기 단위로 나눈 어절 토큰은 주로 L 토큰 + R 토큰의 형식을 가질 때가 많습니다. 예를 들어서 '공원에'는 '공원 + 에'로 나눌 수 있겠지요. 또는 '공부하는'은 '공부 + 하는'으로 나눌 수도 있을 것입니다. L 토크나이저는 L 토큰 + R 토큰으로 나누되, 분리 기준을 점수가 가장 높은 L 토큰을 찾아내는 원리를 가지고 있습니다."
      ],
      "metadata": {
        "id": "PkR75u6fOVP3"
      }
    },
    {
      "cell_type": "code",
      "source": [
        "from soynlp.tokenizer import LTokenizer\n",
        "\n",
        "scores={word:score.cohesion_forward for word,score in word_score_table.items()}\n",
        "l_tokenizer=LTokenizer(scores=scores)\n",
        "l_tokenizer.tokenize(\"국제사회와 우리의 노력들로 범죄를 척결하자\", flatten=False)"
      ],
      "metadata": {
        "colab": {
          "base_uri": "https://localhost:8080/"
        },
        "id": "6Qy-5jNiOQwQ",
        "outputId": "d1b2e210-bfc2-49c1-e12a-96ad4c31c7eb"
      },
      "execution_count": 21,
      "outputs": [
        {
          "output_type": "execute_result",
          "data": {
            "text/plain": [
              "[('국제사회', '와'), ('우리', '의'), ('노력', '들로'), ('범죄', '를'), ('척결', '하자')]"
            ]
          },
          "metadata": {},
          "execution_count": 21
        }
      ]
    },
    {
      "cell_type": "markdown",
      "source": [
        "## 6. 최대 점수 토크나이저\n",
        "\n",
        "최대 점수 토크나이저는 띄어쓰기가 되지 않는 문장에서 점수가 높은 글자 시퀀스를 순차적으로 찾아내는 토크나이저이다. 띄어쓰기가 되어 있지 않은 문장을 넣어 점수를 통해 토큰화 된 결과를 보겠다. "
      ],
      "metadata": {
        "id": "3Y7cQND-PaSG"
      }
    },
    {
      "cell_type": "code",
      "source": [
        "from soynlp.tokenizer import MaxScoreTokenizer\n",
        "\n",
        "maxscore_tokenizer=MaxScoreTokenizer(scores=scores)\n",
        "maxscore_tokenizer.tokenize('국제사회와우리의노력들로범죄를척결하자')"
      ],
      "metadata": {
        "colab": {
          "base_uri": "https://localhost:8080/"
        },
        "id": "1JimNT1gO-yk",
        "outputId": "edaae1b4-6a2a-462b-8087-8765079df71a"
      },
      "execution_count": 23,
      "outputs": [
        {
          "output_type": "execute_result",
          "data": {
            "text/plain": [
              "['국제사회', '와', '우리', '의', '노력', '들로', '범죄', '를', '척결', '하자']"
            ]
          },
          "metadata": {},
          "execution_count": 23
        }
      ]
    },
    {
      "cell_type": "markdown",
      "source": [
        "# 4. SOYNLP를 이용한 반복되는 문자 정제\n",
        "\n",
        "SNS나 채팅 데이터와 같은 한국어 데이터의 경우에는 ㅋㅋ, ㅎㅎ 등의 이모티콘의 경우 불필요하게 연속되는 경우가 많은데 ㅋㅋ, ㅋㅋㅋ, ㅋㅋㅋㅋ와 같은 경우를 모두 서로 다른 단어로 처리하는 것은 불필요합니다. 이에 반복되는 것은 하나로 정규화시켜줍니다."
      ],
      "metadata": {
        "id": "5BjRwKi-QUde"
      }
    },
    {
      "cell_type": "code",
      "source": [
        "from soynlp.normalizer import *"
      ],
      "metadata": {
        "id": "HIGaneLbPte3"
      },
      "execution_count": 24,
      "outputs": []
    },
    {
      "cell_type": "code",
      "source": [
        "print(emoticon_normalize('앜ㅋㅋㅋㅋ이영화존잼쓰ㅠㅠㅠㅠㅠ', num_repeats=2))\n",
        "print(emoticon_normalize('앜ㅋㅋㅋㅋㅋㅋㅋㅋㅋ이영화존잼쓰ㅠㅠㅠㅠ', num_repeats=2))\n",
        "print(emoticon_normalize('앜ㅋㅋㅋㅋㅋㅋㅋㅋㅋㅋㅋㅋ이영화존잼쓰ㅠㅠㅠㅠㅠㅠ', num_repeats=2))\n",
        "print(emoticon_normalize('앜ㅋㅋㅋㅋㅋㅋㅋㅋㅋㅋㅋㅋㅋㅋㅋㅋㅋ이영화존잼쓰ㅠㅠㅠㅠㅠㅠㅠㅠ', num_repeats=2))"
      ],
      "metadata": {
        "colab": {
          "base_uri": "https://localhost:8080/"
        },
        "id": "VBXtBVFyQcv0",
        "outputId": "fcdd3736-f0e0-4ddd-bb8e-e3f4f6d0b6b0"
      },
      "execution_count": 25,
      "outputs": [
        {
          "output_type": "stream",
          "name": "stdout",
          "text": [
            "아ㅋㅋ영화존잼쓰ㅠㅠ\n",
            "아ㅋㅋ영화존잼쓰ㅠㅠ\n",
            "아ㅋㅋ영화존잼쓰ㅠㅠ\n",
            "아ㅋㅋ영화존잼쓰ㅠㅠ\n"
          ]
        }
      ]
    },
    {
      "cell_type": "code",
      "source": [
        "print(repeat_normalize('와하하하하하하하하하핫', num_repeats=2))\n",
        "print(repeat_normalize('와하하하하하하핫', num_repeats=2))\n",
        "print(repeat_normalize('와하하하하핫', num_repeats=2))"
      ],
      "metadata": {
        "colab": {
          "base_uri": "https://localhost:8080/"
        },
        "id": "tkNojNNGQinT",
        "outputId": "b4028cd1-cd8d-42d3-c89e-bcd3a3f9e33a"
      },
      "execution_count": 26,
      "outputs": [
        {
          "output_type": "stream",
          "name": "stdout",
          "text": [
            "와하하핫\n",
            "와하하핫\n",
            "와하하핫\n"
          ]
        }
      ]
    },
    {
      "cell_type": "markdown",
      "source": [
        "# 5. Customized KoNLPy\n",
        "\n",
        "영어권 언어는 띄어쓰기만해도 단어들이 잘 분리되지만, 한국어는 그렇지 않다고 앞에서 몇 차례 언급했었습니다. 한국어 데이터를 사용하여 모델을 구현하는 것만큼 이번에는 형태소 분석기를 사용해서 단어 토큰화를 해보겠습니다. 그런데 형태소 분석기를 사용할 때, 이런 상황에 봉착한다면 어떻게 해야할까요?\n",
        "\n",
        "형태소 분석 입력 : '은경이는 사무실로 갔습니다.'\n",
        "형태소 분석 결과 : ['은', '경이', '는', '사무실', '로', '갔습니다', '.']\n",
        "\n",
        "사실 위 문장에서 '은경이'는 사람 이름이므로 제대로 된 결과를 얻기 위해서는 '은', '경이'와 같이 글자가 분리되는 것이 아니라 '은경이' 또는 최소한 '은경'이라는 단어 토큰을 얻어야만 합니다. 이런 경우에는 형태소 분석기에 사용자 사전을 추가해줄 수 있습니다. '은경이'는 하나의 단어이기 때문에 분리하지말라고 형태소 분석기에 알려주는 것입니다.\n",
        "\n",
        "사용자 사전을 추가하는 방법은 형태소 분석기마다 다른데, 생각보다 복잡한 경우들이 많습니다. 이번 실습에서는 `Customized Konlpy`라는 사용자 사전 추가가 매우 쉬운 패키지를 사용합니다."
      ],
      "metadata": {
        "id": "3bZo7s4PQnqN"
      }
    },
    {
      "cell_type": "code",
      "source": [
        "pip install customized_konlpy"
      ],
      "metadata": {
        "colab": {
          "base_uri": "https://localhost:8080/"
        },
        "id": "IP1DKJPyQlQu",
        "outputId": "42c9bd9f-5f4f-41bd-fa8b-ea584e6b45eb"
      },
      "execution_count": 27,
      "outputs": [
        {
          "output_type": "stream",
          "name": "stdout",
          "text": [
            "Collecting customized_konlpy\n",
            "  Downloading customized_konlpy-0.0.64-py3-none-any.whl (881 kB)\n",
            "\u001b[?25l\r\u001b[K     |▍                               | 10 kB 26.4 MB/s eta 0:00:01\r\u001b[K     |▊                               | 20 kB 11.5 MB/s eta 0:00:01\r\u001b[K     |█▏                              | 30 kB 9.1 MB/s eta 0:00:01\r\u001b[K     |█▌                              | 40 kB 7.2 MB/s eta 0:00:01\r\u001b[K     |█▉                              | 51 kB 5.0 MB/s eta 0:00:01\r\u001b[K     |██▎                             | 61 kB 5.1 MB/s eta 0:00:01\r\u001b[K     |██▋                             | 71 kB 5.3 MB/s eta 0:00:01\r\u001b[K     |███                             | 81 kB 5.9 MB/s eta 0:00:01\r\u001b[K     |███▍                            | 92 kB 4.5 MB/s eta 0:00:01\r\u001b[K     |███▊                            | 102 kB 4.9 MB/s eta 0:00:01\r\u001b[K     |████                            | 112 kB 4.9 MB/s eta 0:00:01\r\u001b[K     |████▌                           | 122 kB 4.9 MB/s eta 0:00:01\r\u001b[K     |████▉                           | 133 kB 4.9 MB/s eta 0:00:01\r\u001b[K     |█████▏                          | 143 kB 4.9 MB/s eta 0:00:01\r\u001b[K     |█████▋                          | 153 kB 4.9 MB/s eta 0:00:01\r\u001b[K     |██████                          | 163 kB 4.9 MB/s eta 0:00:01\r\u001b[K     |██████▎                         | 174 kB 4.9 MB/s eta 0:00:01\r\u001b[K     |██████▊                         | 184 kB 4.9 MB/s eta 0:00:01\r\u001b[K     |███████                         | 194 kB 4.9 MB/s eta 0:00:01\r\u001b[K     |███████▍                        | 204 kB 4.9 MB/s eta 0:00:01\r\u001b[K     |███████▉                        | 215 kB 4.9 MB/s eta 0:00:01\r\u001b[K     |████████▏                       | 225 kB 4.9 MB/s eta 0:00:01\r\u001b[K     |████████▌                       | 235 kB 4.9 MB/s eta 0:00:01\r\u001b[K     |█████████                       | 245 kB 4.9 MB/s eta 0:00:01\r\u001b[K     |█████████▎                      | 256 kB 4.9 MB/s eta 0:00:01\r\u001b[K     |█████████▋                      | 266 kB 4.9 MB/s eta 0:00:01\r\u001b[K     |██████████                      | 276 kB 4.9 MB/s eta 0:00:01\r\u001b[K     |██████████▍                     | 286 kB 4.9 MB/s eta 0:00:01\r\u001b[K     |██████████▉                     | 296 kB 4.9 MB/s eta 0:00:01\r\u001b[K     |███████████▏                    | 307 kB 4.9 MB/s eta 0:00:01\r\u001b[K     |███████████▌                    | 317 kB 4.9 MB/s eta 0:00:01\r\u001b[K     |████████████                    | 327 kB 4.9 MB/s eta 0:00:01\r\u001b[K     |████████████▎                   | 337 kB 4.9 MB/s eta 0:00:01\r\u001b[K     |████████████▋                   | 348 kB 4.9 MB/s eta 0:00:01\r\u001b[K     |█████████████                   | 358 kB 4.9 MB/s eta 0:00:01\r\u001b[K     |█████████████▍                  | 368 kB 4.9 MB/s eta 0:00:01\r\u001b[K     |█████████████▊                  | 378 kB 4.9 MB/s eta 0:00:01\r\u001b[K     |██████████████▏                 | 389 kB 4.9 MB/s eta 0:00:01\r\u001b[K     |██████████████▌                 | 399 kB 4.9 MB/s eta 0:00:01\r\u001b[K     |██████████████▉                 | 409 kB 4.9 MB/s eta 0:00:01\r\u001b[K     |███████████████▎                | 419 kB 4.9 MB/s eta 0:00:01\r\u001b[K     |███████████████▋                | 430 kB 4.9 MB/s eta 0:00:01\r\u001b[K     |████████████████                | 440 kB 4.9 MB/s eta 0:00:01\r\u001b[K     |████████████████▍               | 450 kB 4.9 MB/s eta 0:00:01\r\u001b[K     |████████████████▊               | 460 kB 4.9 MB/s eta 0:00:01\r\u001b[K     |█████████████████               | 471 kB 4.9 MB/s eta 0:00:01\r\u001b[K     |█████████████████▌              | 481 kB 4.9 MB/s eta 0:00:01\r\u001b[K     |█████████████████▉              | 491 kB 4.9 MB/s eta 0:00:01\r\u001b[K     |██████████████████▏             | 501 kB 4.9 MB/s eta 0:00:01\r\u001b[K     |██████████████████▋             | 512 kB 4.9 MB/s eta 0:00:01\r\u001b[K     |███████████████████             | 522 kB 4.9 MB/s eta 0:00:01\r\u001b[K     |███████████████████▎            | 532 kB 4.9 MB/s eta 0:00:01\r\u001b[K     |███████████████████▊            | 542 kB 4.9 MB/s eta 0:00:01\r\u001b[K     |████████████████████            | 552 kB 4.9 MB/s eta 0:00:01\r\u001b[K     |████████████████████▌           | 563 kB 4.9 MB/s eta 0:00:01\r\u001b[K     |████████████████████▉           | 573 kB 4.9 MB/s eta 0:00:01\r\u001b[K     |█████████████████████▏          | 583 kB 4.9 MB/s eta 0:00:01\r\u001b[K     |█████████████████████▋          | 593 kB 4.9 MB/s eta 0:00:01\r\u001b[K     |██████████████████████          | 604 kB 4.9 MB/s eta 0:00:01\r\u001b[K     |██████████████████████▎         | 614 kB 4.9 MB/s eta 0:00:01\r\u001b[K     |██████████████████████▊         | 624 kB 4.9 MB/s eta 0:00:01\r\u001b[K     |███████████████████████         | 634 kB 4.9 MB/s eta 0:00:01\r\u001b[K     |███████████████████████▍        | 645 kB 4.9 MB/s eta 0:00:01\r\u001b[K     |███████████████████████▉        | 655 kB 4.9 MB/s eta 0:00:01\r\u001b[K     |████████████████████████▏       | 665 kB 4.9 MB/s eta 0:00:01\r\u001b[K     |████████████████████████▌       | 675 kB 4.9 MB/s eta 0:00:01\r\u001b[K     |█████████████████████████       | 686 kB 4.9 MB/s eta 0:00:01\r\u001b[K     |█████████████████████████▎      | 696 kB 4.9 MB/s eta 0:00:01\r\u001b[K     |█████████████████████████▋      | 706 kB 4.9 MB/s eta 0:00:01\r\u001b[K     |██████████████████████████      | 716 kB 4.9 MB/s eta 0:00:01\r\u001b[K     |██████████████████████████▍     | 727 kB 4.9 MB/s eta 0:00:01\r\u001b[K     |██████████████████████████▊     | 737 kB 4.9 MB/s eta 0:00:01\r\u001b[K     |███████████████████████████▏    | 747 kB 4.9 MB/s eta 0:00:01\r\u001b[K     |███████████████████████████▌    | 757 kB 4.9 MB/s eta 0:00:01\r\u001b[K     |███████████████████████████▉    | 768 kB 4.9 MB/s eta 0:00:01\r\u001b[K     |████████████████████████████▎   | 778 kB 4.9 MB/s eta 0:00:01\r\u001b[K     |████████████████████████████▋   | 788 kB 4.9 MB/s eta 0:00:01\r\u001b[K     |█████████████████████████████   | 798 kB 4.9 MB/s eta 0:00:01\r\u001b[K     |█████████████████████████████▍  | 808 kB 4.9 MB/s eta 0:00:01\r\u001b[K     |█████████████████████████████▊  | 819 kB 4.9 MB/s eta 0:00:01\r\u001b[K     |██████████████████████████████▏ | 829 kB 4.9 MB/s eta 0:00:01\r\u001b[K     |██████████████████████████████▌ | 839 kB 4.9 MB/s eta 0:00:01\r\u001b[K     |██████████████████████████████▉ | 849 kB 4.9 MB/s eta 0:00:01\r\u001b[K     |███████████████████████████████▎| 860 kB 4.9 MB/s eta 0:00:01\r\u001b[K     |███████████████████████████████▋| 870 kB 4.9 MB/s eta 0:00:01\r\u001b[K     |████████████████████████████████| 880 kB 4.9 MB/s eta 0:00:01\r\u001b[K     |████████████████████████████████| 881 kB 4.9 MB/s \n",
            "\u001b[?25hRequirement already satisfied: konlpy>=0.4.4 in /usr/local/lib/python3.7/dist-packages (from customized_konlpy) (0.6.0)\n",
            "Requirement already satisfied: Jpype1>=0.6.1 in /usr/local/lib/python3.7/dist-packages (from customized_konlpy) (1.3.0)\n",
            "Requirement already satisfied: typing-extensions in /usr/local/lib/python3.7/dist-packages (from Jpype1>=0.6.1->customized_konlpy) (3.10.0.2)\n",
            "Requirement already satisfied: numpy>=1.6 in /usr/local/lib/python3.7/dist-packages (from konlpy>=0.4.4->customized_konlpy) (1.19.5)\n",
            "Requirement already satisfied: lxml>=4.1.0 in /usr/local/lib/python3.7/dist-packages (from konlpy>=0.4.4->customized_konlpy) (4.2.6)\n",
            "Installing collected packages: customized-konlpy\n",
            "Successfully installed customized-konlpy-0.0.64\n"
          ]
        }
      ]
    },
    {
      "cell_type": "markdown",
      "source": [
        "customized_konlpy에서 제공하는 형태소 분석기 Twitter를 사용하여 앞서 소개했던 예문을 단어 토큰화해봅시다."
      ],
      "metadata": {
        "id": "1JQdVxShRlDf"
      }
    },
    {
      "cell_type": "code",
      "source": [
        "from ckonlpy.tag import Twitter\n",
        "\n",
        "twitter=Twitter()\n",
        "twitter.morphs('은경이는 사무실로 갔습니다.')"
      ],
      "metadata": {
        "colab": {
          "base_uri": "https://localhost:8080/"
        },
        "id": "cDJPp47QRPCq",
        "outputId": "6133757a-54e2-457e-dde9-7dd9914dfb9e"
      },
      "execution_count": 29,
      "outputs": [
        {
          "output_type": "stream",
          "name": "stderr",
          "text": [
            "/usr/local/lib/python3.7/dist-packages/konlpy/tag/_okt.py:17: UserWarning: \"Twitter\" has changed to \"Okt\" since KoNLPy v0.4.5.\n",
            "  warn('\"Twitter\" has changed to \"Okt\" since KoNLPy v0.4.5.')\n"
          ]
        },
        {
          "output_type": "execute_result",
          "data": {
            "text/plain": [
              "['은', '경이', '는', '사무실', '로', '갔습니다', '.']"
            ]
          },
          "metadata": {},
          "execution_count": 29
        }
      ]
    },
    {
      "cell_type": "markdown",
      "source": [
        " '은경이'라는 단어가 '은', '경이'와 같이 분리됩니다. 이때, 형태소 분석기 Twitter에 add_dictionary('단어', '품사')와 같은 형식으로 사전 추가를 해줄 수 있습니다."
      ],
      "metadata": {
        "id": "Rfow7AVlRtet"
      }
    },
    {
      "cell_type": "code",
      "source": [
        "twitter.add_dictionary('은경이','Noun')"
      ],
      "metadata": {
        "id": "uqOhQ0rDRpB2"
      },
      "execution_count": 30,
      "outputs": []
    },
    {
      "cell_type": "code",
      "source": [
        "twitter.morphs('은경이는 사무실로 갔습니다.')"
      ],
      "metadata": {
        "colab": {
          "base_uri": "https://localhost:8080/"
        },
        "id": "BIk5BJ97RxjH",
        "outputId": "7162f68f-8892-4fa2-cd52-2b74543a3a31"
      },
      "execution_count": 31,
      "outputs": [
        {
          "output_type": "execute_result",
          "data": {
            "text/plain": [
              "['은경이', '는', '사무실', '로', '갔습니다', '.']"
            ]
          },
          "metadata": {},
          "execution_count": 31
        }
      ]
    },
    {
      "cell_type": "code",
      "source": [
        ""
      ],
      "metadata": {
        "id": "dKcjonMfR0b1"
      },
      "execution_count": null,
      "outputs": []
    }
  ]
}