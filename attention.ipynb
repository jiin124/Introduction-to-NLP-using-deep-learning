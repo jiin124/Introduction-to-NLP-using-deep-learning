{
  "nbformat": 4,
  "nbformat_minor": 0,
  "metadata": {
    "colab": {
      "provenance": [],
      "authorship_tag": "ABX9TyOcbv9ZESBLfv8kDE++dNjn",
      "include_colab_link": true
    },
    "kernelspec": {
      "name": "python3",
      "display_name": "Python 3"
    },
    "language_info": {
      "name": "python"
    }
  },
  "cells": [
    {
      "cell_type": "markdown",
      "metadata": {
        "id": "view-in-github",
        "colab_type": "text"
      },
      "source": [
        "<a href=\"https://colab.research.google.com/github/jiin124/Introduction-to-NLP-using-deep-learning/blob/main/attention.ipynb\" target=\"_parent\"><img src=\"https://colab.research.google.com/assets/colab-badge.svg\" alt=\"Open In Colab\"/></a>"
      ]
    },
    {
      "cell_type": "markdown",
      "source": [
        "# Attention 구현\n",
        "\n",
        "https://github.com/lunaB/Pytorch-Study/blob/master/14_seq2se1_attention.ipynb"
      ],
      "metadata": {
        "id": "cM-5g3YlbuW3"
      }
    },
    {
      "cell_type": "code",
      "execution_count": null,
      "metadata": {
        "id": "Mf7dLpyvZmTL"
      },
      "outputs": [],
      "source": [
        "!sudo apt-get install -y fonts-nanum\n",
        "!sudo fc-cache -fv\n",
        "!rm ~/.cache/matplotlib -rf\n",
        "# 실행후 런타임 다시시작\n",
        "     "
      ]
    },
    {
      "cell_type": "code",
      "source": [
        "import torch\n",
        "import torch.nn as nn\n",
        "import torch.optim as optim\n",
        "import torch.nn.functional as F\n",
        "\n",
        "import numpy as np\n",
        "import pandas as pd\n",
        "\n",
        "import matplotlib.pyplot as plt\n",
        "\n",
        "plt.rc('font', family='NanumBarunGothic') "
      ],
      "metadata": {
        "id": "7G9CuGxUZ2IT"
      },
      "execution_count": null,
      "outputs": []
    },
    {
      "cell_type": "markdown",
      "source": [
        "## 데이터"
      ],
      "metadata": {
        "id": "h3csAI5JdiLj"
      }
    },
    {
      "cell_type": "code",
      "source": [
        "df = pd.DataFrame([[\"i love you\", \"ich liebe dich\"],\n",
        "                    [\"i love myself\", \"ich liebe mich\"],\n",
        "                    [\"i like you\", \"ich mag dich\"],\n",
        "                    [\"he love you\", \"er liebt dich\"]], columns=['src', 'tar'])\n",
        "df"
      ],
      "metadata": {
        "colab": {
          "base_uri": "https://localhost:8080/",
          "height": 175
        },
        "id": "vk4npjMgblMW",
        "outputId": "cf1d2e18-0a13-45ae-d1a7-b92feef4b71f"
      },
      "execution_count": null,
      "outputs": [
        {
          "output_type": "execute_result",
          "data": {
            "text/plain": [
              "             src             tar\n",
              "0     i love you  ich liebe dich\n",
              "1  i love myself  ich liebe mich\n",
              "2     i like you    ich mag dich\n",
              "3    he love you   er liebt dich"
            ],
            "text/html": [
              "\n",
              "  <div id=\"df-a80bb6fb-2c25-467c-8fe5-732c63bd23a8\">\n",
              "    <div class=\"colab-df-container\">\n",
              "      <div>\n",
              "<style scoped>\n",
              "    .dataframe tbody tr th:only-of-type {\n",
              "        vertical-align: middle;\n",
              "    }\n",
              "\n",
              "    .dataframe tbody tr th {\n",
              "        vertical-align: top;\n",
              "    }\n",
              "\n",
              "    .dataframe thead th {\n",
              "        text-align: right;\n",
              "    }\n",
              "</style>\n",
              "<table border=\"1\" class=\"dataframe\">\n",
              "  <thead>\n",
              "    <tr style=\"text-align: right;\">\n",
              "      <th></th>\n",
              "      <th>src</th>\n",
              "      <th>tar</th>\n",
              "    </tr>\n",
              "  </thead>\n",
              "  <tbody>\n",
              "    <tr>\n",
              "      <th>0</th>\n",
              "      <td>i love you</td>\n",
              "      <td>ich liebe dich</td>\n",
              "    </tr>\n",
              "    <tr>\n",
              "      <th>1</th>\n",
              "      <td>i love myself</td>\n",
              "      <td>ich liebe mich</td>\n",
              "    </tr>\n",
              "    <tr>\n",
              "      <th>2</th>\n",
              "      <td>i like you</td>\n",
              "      <td>ich mag dich</td>\n",
              "    </tr>\n",
              "    <tr>\n",
              "      <th>3</th>\n",
              "      <td>he love you</td>\n",
              "      <td>er liebt dich</td>\n",
              "    </tr>\n",
              "  </tbody>\n",
              "</table>\n",
              "</div>\n",
              "      <button class=\"colab-df-convert\" onclick=\"convertToInteractive('df-a80bb6fb-2c25-467c-8fe5-732c63bd23a8')\"\n",
              "              title=\"Convert this dataframe to an interactive table.\"\n",
              "              style=\"display:none;\">\n",
              "        \n",
              "  <svg xmlns=\"http://www.w3.org/2000/svg\" height=\"24px\"viewBox=\"0 0 24 24\"\n",
              "       width=\"24px\">\n",
              "    <path d=\"M0 0h24v24H0V0z\" fill=\"none\"/>\n",
              "    <path d=\"M18.56 5.44l.94 2.06.94-2.06 2.06-.94-2.06-.94-.94-2.06-.94 2.06-2.06.94zm-11 1L8.5 8.5l.94-2.06 2.06-.94-2.06-.94L8.5 2.5l-.94 2.06-2.06.94zm10 10l.94 2.06.94-2.06 2.06-.94-2.06-.94-.94-2.06-.94 2.06-2.06.94z\"/><path d=\"M17.41 7.96l-1.37-1.37c-.4-.4-.92-.59-1.43-.59-.52 0-1.04.2-1.43.59L10.3 9.45l-7.72 7.72c-.78.78-.78 2.05 0 2.83L4 21.41c.39.39.9.59 1.41.59.51 0 1.02-.2 1.41-.59l7.78-7.78 2.81-2.81c.8-.78.8-2.07 0-2.86zM5.41 20L4 18.59l7.72-7.72 1.47 1.35L5.41 20z\"/>\n",
              "  </svg>\n",
              "      </button>\n",
              "      \n",
              "  <style>\n",
              "    .colab-df-container {\n",
              "      display:flex;\n",
              "      flex-wrap:wrap;\n",
              "      gap: 12px;\n",
              "    }\n",
              "\n",
              "    .colab-df-convert {\n",
              "      background-color: #E8F0FE;\n",
              "      border: none;\n",
              "      border-radius: 50%;\n",
              "      cursor: pointer;\n",
              "      display: none;\n",
              "      fill: #1967D2;\n",
              "      height: 32px;\n",
              "      padding: 0 0 0 0;\n",
              "      width: 32px;\n",
              "    }\n",
              "\n",
              "    .colab-df-convert:hover {\n",
              "      background-color: #E2EBFA;\n",
              "      box-shadow: 0px 1px 2px rgba(60, 64, 67, 0.3), 0px 1px 3px 1px rgba(60, 64, 67, 0.15);\n",
              "      fill: #174EA6;\n",
              "    }\n",
              "\n",
              "    [theme=dark] .colab-df-convert {\n",
              "      background-color: #3B4455;\n",
              "      fill: #D2E3FC;\n",
              "    }\n",
              "\n",
              "    [theme=dark] .colab-df-convert:hover {\n",
              "      background-color: #434B5C;\n",
              "      box-shadow: 0px 1px 3px 1px rgba(0, 0, 0, 0.15);\n",
              "      filter: drop-shadow(0px 1px 2px rgba(0, 0, 0, 0.3));\n",
              "      fill: #FFFFFF;\n",
              "    }\n",
              "  </style>\n",
              "\n",
              "      <script>\n",
              "        const buttonEl =\n",
              "          document.querySelector('#df-a80bb6fb-2c25-467c-8fe5-732c63bd23a8 button.colab-df-convert');\n",
              "        buttonEl.style.display =\n",
              "          google.colab.kernel.accessAllowed ? 'block' : 'none';\n",
              "\n",
              "        async function convertToInteractive(key) {\n",
              "          const element = document.querySelector('#df-a80bb6fb-2c25-467c-8fe5-732c63bd23a8');\n",
              "          const dataTable =\n",
              "            await google.colab.kernel.invokeFunction('convertToInteractive',\n",
              "                                                     [key], {});\n",
              "          if (!dataTable) return;\n",
              "\n",
              "          const docLinkHtml = 'Like what you see? Visit the ' +\n",
              "            '<a target=\"_blank\" href=https://colab.research.google.com/notebooks/data_table.ipynb>data table notebook</a>'\n",
              "            + ' to learn more about interactive tables.';\n",
              "          element.innerHTML = '';\n",
              "          dataTable['output_type'] = 'display_data';\n",
              "          await google.colab.output.renderOutput(dataTable, element);\n",
              "          const docLink = document.createElement('div');\n",
              "          docLink.innerHTML = docLinkHtml;\n",
              "          element.appendChild(docLink);\n",
              "        }\n",
              "      </script>\n",
              "    </div>\n",
              "  </div>\n",
              "  "
            ]
          },
          "metadata": {},
          "execution_count": 2
        }
      ]
    },
    {
      "cell_type": "markdown",
      "source": [
        "## Preprocessing\n",
        "\n",
        "Encoder, Decoder의 단어 사전을 구축한다. 단어사전에는 SOS, EOS 같은 특수 토큰들이 포함되는데, SOS는 문장의 시작, EOS는 문장의 끝을 알리는 토큰이다. "
      ],
      "metadata": {
        "id": "20vL9djSdjTb"
      }
    },
    {
      "cell_type": "code",
      "source": [
        "SOS_token=0\n",
        "EOS_token=1\n",
        "\n",
        "class Tokenizer:\n",
        "  def __init__(self):\n",
        "    self.vocab2index={\"\":SOS_token,\"\":EOS_token}#단어를 index로 \n",
        "    self.index2vocab={SOS_token:\"\",EOS_token:\"\"}#index를 단어로\n",
        "    self.n_vocab=len(self.vocab2index)#단어사전의 길이(인덱스 사전)->순서대로 단어 인덱스 부여\n",
        "\n",
        "  def add_vocab(self,sentence):\n",
        "    for word in sentence.split(\" \"):#문장에서 단어 나누기\n",
        "      if word not in self.vocab2index:#단어사전에 없다면\n",
        "        self.vocab2index[word]=self.n_vocab#단어사전에 단어 넣어주기, 순서에 맞게 인덱스 부여\n",
        "        self.index2vocab[self.n_vocab]=word#인덱스 별 단어 사전에는 단어 넣어주기\n",
        "        self.n_vocab+=1#순서 늘려주기\n",
        "  \n",
        "  def to_seq(self,sentence):\n",
        "    l=[]\n",
        "    for s in sentence.split(\" \"):#공백을 기준으로 문장 나누기\n",
        "      l.append(self.vocab2index[s])#단어사전 리스트에 추가\n",
        "    return l\n"
      ],
      "metadata": {
        "id": "rOdjtFjTbsxt"
      },
      "execution_count": null,
      "outputs": []
    },
    {
      "cell_type": "markdown",
      "source": [
        "## embedding\n",
        "\n",
        "word_embedding에 대해서 간단하게 설명하면 단어들의 유사성 대비성 등의 유기적인 특성들을 고려하기 위해 단어들을 벡터화하여 학습시키고 표현하는 기법이다. \n",
        "\n",
        "- n_vocab = (encoder 일대 7 decoder 일때 8)\n",
        "\n",
        "![image.png](data:image/png;base64,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)"
      ],
      "metadata": {
        "id": "qiGVPUn7y1TA"
      }
    },
    {
      "cell_type": "code",
      "source": [
        "src_tok=Tokenizer()\n",
        "\n",
        "for s in df['src'].values:\n",
        "  #for v in s.split(' '):#공백을 기준으로 문장 나누기, 단어됨\n",
        "    src_tok.add_vocab(s)\n",
        "\n",
        "tar_tok=Tokenizer()\n",
        "\n",
        "for s in df['tar'].values:\n",
        "  #for v in s.split(' '):\n",
        "    tar_tok.add_vocab(s)\n",
        "\n",
        "\n",
        "print(src_tok.vocab2index)\n",
        "print(tar_tok.vocab2index)\n"
      ],
      "metadata": {
        "colab": {
          "base_uri": "https://localhost:8080/"
        },
        "id": "Abuy2cTnmNCq",
        "outputId": "c4ede81b-595c-4087-fe22-951b4c9de435"
      },
      "execution_count": null,
      "outputs": [
        {
          "output_type": "stream",
          "name": "stdout",
          "text": [
            "{'': 1, 'i': 1, 'love': 2, 'you': 3, 'myself': 4, 'like': 5, 'he': 6}\n",
            "{'': 1, 'ich': 1, 'liebe': 2, 'dich': 3, 'mich': 4, 'mag': 5, 'er': 6, 'liebt': 7}\n"
          ]
        }
      ]
    },
    {
      "cell_type": "code",
      "source": [
        "print(src_tok.index2vocab)\n",
        "print(tar_tok.index2vocab)"
      ],
      "metadata": {
        "colab": {
          "base_uri": "https://localhost:8080/"
        },
        "id": "ks-iHKZppLGG",
        "outputId": "a78e1690-71c6-4bb6-a2f2-343fcfe82724"
      },
      "execution_count": null,
      "outputs": [
        {
          "output_type": "stream",
          "name": "stdout",
          "text": [
            "{0: '', 1: 'i', 2: 'love', 3: 'you', 4: 'myself', 5: 'like', 6: 'he'}\n",
            "{0: '', 1: 'ich', 2: 'liebe', 3: 'dich', 4: 'mich', 5: 'mag', 6: 'er', 7: 'liebt'}\n"
          ]
        }
      ]
    },
    {
      "cell_type": "code",
      "source": [
        "src_data=[src_tok.to_seq(s) for s in df['src'].values]\n",
        "tar_data=[[SOS_token]+tar_tok.to_seq(s)+[EOS_token] for s in df['tar'].values]\n",
        "#왜 타겟 문장에만 sos와 eos를 붙여주는 걸까?\n",
        "\n",
        "print(src_data)\n",
        "print(tar_data)"
      ],
      "metadata": {
        "colab": {
          "base_uri": "https://localhost:8080/"
        },
        "id": "nv4T2Io9qc2w",
        "outputId": "41d2dd3e-caf6-460e-dde1-f9b700bbe5f7"
      },
      "execution_count": null,
      "outputs": [
        {
          "output_type": "stream",
          "name": "stdout",
          "text": [
            "[[1, 2, 3], [1, 2, 4], [1, 5, 3], [6, 2, 3]]\n",
            "[[0, 1, 2, 3, 1], [0, 1, 2, 4, 1], [0, 1, 5, 3, 1], [0, 6, 7, 3, 1]]\n"
          ]
        }
      ]
    },
    {
      "cell_type": "code",
      "source": [
        "#하이퍼파라미터\n",
        "\n",
        "hparam={}\n",
        "hparam['embed_size']=8\n",
        "\n",
        "#여기서는 embedding size를 8로\n"
      ],
      "metadata": {
        "id": "qbqCjMfrtEA1"
      },
      "execution_count": null,
      "outputs": []
    },
    {
      "cell_type": "markdown",
      "source": [
        "# Encoder\n",
        "\n",
        "Encoder의 내부는 Embedding 레이어와 LSTM 레이어로 이루어져 있다. \n",
        "\n",
        "\n",
        "\n",
        "```\n",
        "torch.nn.Embedding(src_n_vocab,embed_size)\n",
        "torch.nn.LSTM(input_size=embed_size,hidden_size=embed_size)\n",
        "```\n",
        "\n"
      ],
      "metadata": {
        "id": "jRKtYZTXzuEn"
      }
    },
    {
      "cell_type": "code",
      "source": [
        "class Encoder(nn.Module):\n",
        "  def __init__(self):\n",
        "    super(Encoder,self).__init__()\n",
        "    self.embed=nn.Embedding(src_tok.n_vocab,hparam['embed_size'])#(7,8)\n",
        "    self.rnn=nn.LSTM(input_size=hparam['embed_size'],hidden_size=hparam['embed_size'])#(8,8)\n",
        "\n",
        "  def forward(self,x,h,c):\n",
        "    #(1)\n",
        "    x=self.embed(x)\n",
        "    #(embed_size)\n",
        "    x=x.view((1,1,-1))\n",
        "    #(1,1,embed_size)\n",
        "    x,(h,c)=self.rnn(x,(h,c))\n",
        "    #(1,1,embed_size) (1,1,embed_size) (1,1,embed_size)\n",
        "    return h,c"
      ],
      "metadata": {
        "id": "R-ZH71Z3wS1m"
      },
      "execution_count": null,
      "outputs": []
    },
    {
      "cell_type": "markdown",
      "source": [
        "![image.png](data:image/png;base64,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)"
      ],
      "metadata": {
        "id": "r0xiy8pR1M0V"
      }
    },
    {
      "cell_type": "markdown",
      "source": [
        "이렇게 하면 Encoder의 LSTM은 i,love,you 3 단어를 입력받고 3개의 값을 출력한다. 그리고 Decoder의 LSTM에게 hidden state와 cell state를 넘겨준다. \n",
        "\n",
        "Encoder에서 넘긴 state들은 encoder에서 압축된 \"i love you\"의 문맥과 의미정보를 Decoder에 제공한다. "
      ],
      "metadata": {
        "id": "Sp91Xuic1OS0"
      }
    },
    {
      "cell_type": "markdown",
      "source": [
        "## Decoder\n",
        "\n",
        "Decoder 또한 embedding 레이어와 LSTM 레이어로 이루어져있다. \n",
        "\n",
        "그 뒤에 decoder는 처음으로 sos 토큰을 입력받고, 전달받은 state를 기반으로 출력을 만든다. "
      ],
      "metadata": {
        "id": "4kjl8ndv5RgF"
      }
    },
    {
      "cell_type": "markdown",
      "source": [
        "\n",
        "\n",
        "```\n",
        "torch.nn.Embedding(tar_n_vocab,embed_size)\n",
        "torch.nn.LSTM(input_size=embed_sizem,hidden_size=embed_size)\n",
        "\n",
        "```\n",
        "\n",
        "\n",
        "\n",
        "여기서 단어 리스트 사이즈랑 임베딩 사이즈를 입력한다. "
      ],
      "metadata": {
        "id": "niY8O99mBQEt"
      }
    },
    {
      "cell_type": "code",
      "source": [
        "class Decoder(nn.Module):\n",
        "  def __init__(self):\n",
        "    super(Decoder,self).__init__()\n",
        "    self.embed=nn.Embedding(tar_tok.n_vocab,hparam['embed_size'])\n",
        "    self.rnn=nn.LSTM(input_size=hparam['embed_size'],hidden_size=hparam['embed_size'])\n",
        "\n",
        "  def forward(self,x,h,c):\n",
        "    x=self.embed(x)\n",
        "    x=x.view((1,1,-1))\n",
        "    x,(h,c)=self.rnn(x,(h,c))\n",
        "    return h,c"
      ],
      "metadata": {
        "id": "xW2ieYhf0v4A"
      },
      "execution_count": null,
      "outputs": []
    },
    {
      "cell_type": "markdown",
      "source": [
        "## attention score\n",
        "\n",
        "Decoder는 다음 단어를 생성하기 위해 Encoder에 입력된 단어중 어떤 단어에 집중해야할지 점수를 매긴다. \n",
        "*논문에서는 단어+단어 주변에 focus한 정보라고 함. \n"
      ],
      "metadata": {
        "id": "bMvWxsPF5dyQ"
      }
    },
    {
      "cell_type": "code",
      "source": [
        "class Attention(nn.Module):\n",
        "  def __init__(self):\n",
        "    super(Attention,self).__init__()\n",
        "    self.wc=nn.Linear(hparam['embed_size']*2,hparam['embed_size'])\n",
        "    self.tanh=nn.Tanh()\n",
        "    self.wy=nn.Linear(hparam['embed_size'],tar_tok.n_vocab)\n",
        "\n",
        "  def forward(self,x):\n",
        "    x=self.wc(x)\n",
        "    x=self.tanh(x)\n",
        "    x=self.wy(x)\n",
        "    x=F.log_softmax(x,dim=2)\n",
        "\n",
        "    return x\n"
      ],
      "metadata": {
        "id": "SQAqVHe50wJ8"
      },
      "execution_count": null,
      "outputs": []
    },
    {
      "cell_type": "markdown",
      "source": [
        "\n",
        "Attention 기법은 여러가지 방법이 있는데 그 중 dot_product attention을 이용해보았따. \n",
        "t 시점의 decoder의 출력과 모든 시점의 encoder를 각기 dot연산하여 score를 구한다. \n",
        "\n",
        "\n",
        "\n",
        "```\n",
        "# (src_len, 1, embed_size) (1,embed_size,1) \n",
        "score = enc_out.matmul(dec_out.view((1,embed_size,1)))\n",
        "# t 시점 state의 encoder h attention score\n",
        "# (src_len, 1, 1) = score(hn, stT)\n",
        "```\n",
        "\n"
      ],
      "metadata": {
        "id": "x5VfSjc77OaI"
      }
    },
    {
      "cell_type": "markdown",
      "source": [
        "LSTM에서 나온 출력은 각 단어의 의미를 함유하고 있는 벡터이다. 이러한 의미를 attention score로 어떤 출력 시점에 어떤 입력을 참고하면 좋을지 점수를 부여한다. \n",
        "\n",
        "그렇게 점수 매겨진 attention score를 가중치로서 곱할 수 있도록 값을 softmax로 조정한 것이 attention distribution이였다. \n",
        "\n",
        "이것을 다시 LSTM에서 나온 출력인 의미 벡터와 곱하는 것은 어떤 의미를 증폭시키겠다. 즉 다음 출력을 만들어 내는데 있어 이 단어에 초점을 어떤 비율만큼 두겠다라는 것이다. \n",
        "\n",
        "\"I love you\"fmf \"ich liebe dich\"로 번역하는 작업을 할 떄는 Decoder에 ich를 입력받은 시점에서는 liebe를 출력해야 하기에 love에 대하여 높은 가중치로 집중해야할 것이다. \n",
        "\n",
        "또한 번역이라는게 \"sweet potato\"를 \"고구마\"로 번역해야한다면 \"고구마\"를 출력해야하는 시점에서 \"sweet\"와 \"potato\"에 모두 적당한 가중치가 부여될 것이다. \n",
        "\n",
        "\"그렇다면 attention value로 만들기 위해 sum 연산으로 합쳐버리면 의미가 소실되는 것이 아닌가에 대한 답변으로는 위의 의미 데이터는 벡터값이라 더한다고 소실되지 않으니 문제가 없다. "
      ],
      "metadata": {
        "id": "bEdlKJUxHj9Y"
      }
    },
    {
      "cell_type": "markdown",
      "source": [
        "### decoder hidden state\n",
        "\n",
        "집중해야할 의미를 압축해놓은 attention value를 decoder의 현재 step의 출력과 붙여서 신경망 연산을 수행하여 시점정보돠 attention 정보를 해석한 decoder hidden state를 만든다. "
      ],
      "metadata": {
        "id": "ioXgZpoFMRxI"
      }
    },
    {
      "cell_type": "code",
      "source": [
        "encoder=Encoder()\n",
        "decoder=Decoder()\n",
        "attention=Attention()\n",
        "\n",
        "enc_optimizer=optim.RMSprop(encoder.parameters(),lr=0.01)\n",
        "dec_optimizer=optim.RMSprop(decoder.parameters(),lr=0.01)\n",
        "att_optimizer=optim.RMSprop(attention.parameters(),lr=0.01)\n",
        "criterion=nn.NLLLoss()\n",
        "\n",
        "loss_hist=[]\n",
        "\n",
        "for epoch in range(500):\n",
        "  loss_avg=[]\n",
        "\n",
        "  for batch in range(len(src_data)):#데이터 크기만큼 반복\n",
        "    loss=0\n",
        "    src_train=torch.LongTensor(src_data[batch])\n",
        "\n",
        "    h,c=torch.zeros((1,1,hparam['embed_size'])),torch.zeros((1,1,hparam['embed_size']))\n",
        "    #hidden state, cell state\n",
        "    # (1,1,embed_size) (1,1,embed_size)\n",
        "\n",
        "    enc_out=torch.Tensor([])\n",
        "    #(src_len,1,embed_size)\n",
        "    for i in range(len(src_train)):\n",
        "      h,c=encoder(src_train[i],h,c)\n",
        "      enc_out=torch.cat((enc_out,h))\n",
        "\n",
        "    tar_train=torch.LongTensor(tar_data[batch])\n",
        "#======================================================================================================\n",
        "    sent=[]\n",
        "\n",
        "    #teaching force rate\n",
        "    rate=0.5\n",
        "\n",
        "    #teaching force\n",
        "    if rate>np.random.rand():\n",
        "      for i in range(len(tar_train[:-1])):\n",
        "        h,c=decoder(tar_train[i],h,c)\n",
        "        #(1,1,embed_size) (1,1,embed_size)\n",
        "\n",
        "        score=enc_out.matmul(h.view((1,hparam['embed_size'],1)))\n",
        "        #dot product attention\n",
        "        #t 시점 state의 encoder h attention score\n",
        "        # (src_len, 1, 1) = score(hn, stT)\n",
        " \n",
        "        att_dis=F.softmax(score,dim=0)\n",
        "        #Attention Distribution\n",
        "        #각 입력에 대해 얼마나 집중할지 비율 값으로 만드는 과정.\n",
        "        #(src_len,1,1)\n",
        "\n",
        "        att_v=torch.sum(enc_out*att_dis,dim=0).view(1,1,hparam['embed_size'])\n",
        "        #attention value\n",
        "        #encoder의 LSTM에서 각 단어들의 출력을 attention distribution을 가중치로 하여 곱하고 곱해진 값을 더하여 하나의 벡터로 합친다.\n",
        "        #(1,1,embed_size)\n",
        "        \n",
        "        #decoder hidden state\n",
        "        con=torch.cat((att_v,h),dim=2)\n",
        "        #concatinate\n",
        "        #(1,1,embed_size)\n",
        "        out=attention(con)\n",
        "        #(1,1,word_cnt)\n",
        "        loss+=criterion(out.view((1,-1)),tar_train[i+1].view(1))\n",
        "\n",
        "        sent.append(tar_tok.index2vocab[out.argmax().detach().item()]) \n",
        "\n",
        "\n",
        "    #without teaching force\n",
        "    else:\n",
        "      dec_in=tar_train[0]\n",
        "      #scalar\n",
        "      for i in range(len(tar_train[:-1])):\n",
        "        h,c=decoder(dec_in,h,c)\n",
        "        score=enc_out.matmul(h.view((1,hparam['embed_size'],1)))\n",
        "\n",
        "        att_dis = F.softmax(score, dim=0)\n",
        "        att_v = torch.sum(enc_out * att_dis, dim=0).view(1,1,hparam['embed_size'])\n",
        "        con = torch.cat((att_v, h), dim=2)\n",
        "        topv,topi=out.squeeze().topk(1)\n",
        "\n",
        "        dec_in=topi[0].detach()\n",
        "        #scalar\n",
        "        loss+=criterion(out.view((1,-1)),tar_train[i+1].view(1))\n",
        "\n",
        "        sent.append(tar_tok.index2vocab[out.argmax().detach().item()])\n",
        "\n",
        "        if dec_in==EOS_token:\n",
        "          break\n",
        "\n",
        "      if (epoch+1)%50==0:\n",
        "        print(epoch + 1, batch, loss.item())\n",
        "        print(' '.join([tar_tok.index2vocab[t] for t in tar_train.detach().numpy()[1: ]]))\n",
        "        print(' '.join(sent))\n",
        "\n",
        "      enc_optimizer.zero_grad()\n",
        "      dec_optimizer.zero_grad()\n",
        "      att_optimizer.zero_grad()\n",
        "\n",
        "      loss = loss / len(df)\n",
        "      loss.backward()\n",
        "\n",
        "      enc_optimizer.step()\n",
        "      dec_optimizer.step()\n",
        "      att_optimizer.step()\n",
        "\n",
        "      loss_avg.append(loss.item())\n",
        "\n",
        "    loss_hist.append(sum(loss_avg))\n",
        "\n",
        "    if (epoch + 1) % 50 == 0:\n",
        "        print('avg loss', loss_hist[-1])\n",
        "        print('=============================')    \n",
        "\n",
        "\n",
        "      \n",
        "\n",
        "\n"
      ],
      "metadata": {
        "colab": {
          "base_uri": "https://localhost:8080/",
          "height": 492
        },
        "id": "HjMfDBbB0x6G",
        "outputId": "a9d6d5da-4c8b-41a7-bf10-71d63ff6c925"
      },
      "execution_count": null,
      "outputs": [
        {
          "output_type": "error",
          "ename": "RuntimeError",
          "evalue": "ignored",
          "traceback": [
            "\u001b[0;31m---------------------------------------------------------------------------\u001b[0m",
            "\u001b[0;31mRuntimeError\u001b[0m                              Traceback (most recent call last)",
            "\u001b[0;32m<ipython-input-19-f9769dd9da28>\u001b[0m in \u001b[0;36m<module>\u001b[0;34m\u001b[0m\n\u001b[1;32m     98\u001b[0m \u001b[0;34m\u001b[0m\u001b[0m\n\u001b[1;32m     99\u001b[0m       \u001b[0mloss\u001b[0m \u001b[0;34m=\u001b[0m \u001b[0mloss\u001b[0m \u001b[0;34m/\u001b[0m \u001b[0mlen\u001b[0m\u001b[0;34m(\u001b[0m\u001b[0mdf\u001b[0m\u001b[0;34m)\u001b[0m\u001b[0;34m\u001b[0m\u001b[0;34m\u001b[0m\u001b[0m\n\u001b[0;32m--> 100\u001b[0;31m       \u001b[0mloss\u001b[0m\u001b[0;34m.\u001b[0m\u001b[0mbackward\u001b[0m\u001b[0;34m(\u001b[0m\u001b[0;34m)\u001b[0m\u001b[0;34m\u001b[0m\u001b[0;34m\u001b[0m\u001b[0m\n\u001b[0m\u001b[1;32m    101\u001b[0m \u001b[0;34m\u001b[0m\u001b[0m\n\u001b[1;32m    102\u001b[0m       \u001b[0menc_optimizer\u001b[0m\u001b[0;34m.\u001b[0m\u001b[0mstep\u001b[0m\u001b[0;34m(\u001b[0m\u001b[0;34m)\u001b[0m\u001b[0;34m\u001b[0m\u001b[0;34m\u001b[0m\u001b[0m\n",
            "\u001b[0;32m/usr/local/lib/python3.8/dist-packages/torch/_tensor.py\u001b[0m in \u001b[0;36mbackward\u001b[0;34m(self, gradient, retain_graph, create_graph, inputs)\u001b[0m\n\u001b[1;32m    485\u001b[0m                 \u001b[0minputs\u001b[0m\u001b[0;34m=\u001b[0m\u001b[0minputs\u001b[0m\u001b[0;34m,\u001b[0m\u001b[0;34m\u001b[0m\u001b[0;34m\u001b[0m\u001b[0m\n\u001b[1;32m    486\u001b[0m             )\n\u001b[0;32m--> 487\u001b[0;31m         torch.autograd.backward(\n\u001b[0m\u001b[1;32m    488\u001b[0m             \u001b[0mself\u001b[0m\u001b[0;34m,\u001b[0m \u001b[0mgradient\u001b[0m\u001b[0;34m,\u001b[0m \u001b[0mretain_graph\u001b[0m\u001b[0;34m,\u001b[0m \u001b[0mcreate_graph\u001b[0m\u001b[0;34m,\u001b[0m \u001b[0minputs\u001b[0m\u001b[0;34m=\u001b[0m\u001b[0minputs\u001b[0m\u001b[0;34m\u001b[0m\u001b[0;34m\u001b[0m\u001b[0m\n\u001b[1;32m    489\u001b[0m         )\n",
            "\u001b[0;32m/usr/local/lib/python3.8/dist-packages/torch/autograd/__init__.py\u001b[0m in \u001b[0;36mbackward\u001b[0;34m(tensors, grad_tensors, retain_graph, create_graph, grad_variables, inputs)\u001b[0m\n\u001b[1;32m    195\u001b[0m     \u001b[0;31m# some Python versions print out the first line of a multi-line function\u001b[0m\u001b[0;34m\u001b[0m\u001b[0;34m\u001b[0m\u001b[0;34m\u001b[0m\u001b[0m\n\u001b[1;32m    196\u001b[0m     \u001b[0;31m# calls in the traceback and some print out the last line\u001b[0m\u001b[0;34m\u001b[0m\u001b[0;34m\u001b[0m\u001b[0;34m\u001b[0m\u001b[0m\n\u001b[0;32m--> 197\u001b[0;31m     Variable._execution_engine.run_backward(  # Calls into the C++ engine to run the backward pass\n\u001b[0m\u001b[1;32m    198\u001b[0m         \u001b[0mtensors\u001b[0m\u001b[0;34m,\u001b[0m \u001b[0mgrad_tensors_\u001b[0m\u001b[0;34m,\u001b[0m \u001b[0mretain_graph\u001b[0m\u001b[0;34m,\u001b[0m \u001b[0mcreate_graph\u001b[0m\u001b[0;34m,\u001b[0m \u001b[0minputs\u001b[0m\u001b[0;34m,\u001b[0m\u001b[0;34m\u001b[0m\u001b[0;34m\u001b[0m\u001b[0m\n\u001b[1;32m    199\u001b[0m         allow_unreachable=True, accumulate_grad=True)  # Calls into the C++ engine to run the backward pass\n",
            "\u001b[0;31mRuntimeError\u001b[0m: Trying to backward through the graph a second time (or directly access saved tensors after they have already been freed). Saved intermediate values of the graph are freed when you call .backward() or autograd.grad(). Specify retain_graph=True if you need to backward through the graph a second time or if you need to access saved tensors after calling backward."
          ]
        }
      ]
    },
    {
      "cell_type": "code",
      "source": [
        "\n",
        "encoder = Encoder()\n",
        "decoder = Decoder()\n",
        "attention = Attention()\n",
        "\n",
        "enc_optimizer = optim.RMSprop(encoder.parameters(), lr=0.01)\n",
        "dec_optimizer = optim.RMSprop(decoder.parameters(), lr=0.01)\n",
        "att_optimizer = optim.RMSprop(attention.parameters(), lr=0.01)\n",
        "criterion = nn.NLLLoss()\n",
        "\n",
        "loss_hist = []\n",
        "for epoch in range(500):\n",
        "    loss_avg = []\n",
        "\n",
        "    for batch in range(len(src_data)):\n",
        "\n",
        "        loss = 0\n",
        "\n",
        "        src_train = torch.LongTensor(src_data[batch])\n",
        "\n",
        "        h, c = torch.zeros((1, 1, hparam['embed_size'])), torch.zeros((1, 1, hparam['embed_size']))\n",
        "        # (1,1,embed_size) (1,1,embed_size)\n",
        "\n",
        "        enc_out = torch.Tensor([])\n",
        "        # (src_len, 1, embed_size)\n",
        "        for i in range(len(src_train)):\n",
        "            # x = (1)\n",
        "            h, c = encoder(src_train[i], h, c)\n",
        "            # (1,1,embed_size) (1,1,embed_size)\n",
        "            enc_out = torch.cat((enc_out, h))\n",
        "\n",
        "        tar_train = torch.LongTensor(tar_data[batch])\n",
        "\n",
        "        sent = []\n",
        "\n",
        "        # teaching force rate\n",
        "        rate = 0.5\n",
        "\n",
        "        # teaching force\n",
        "        if rate > np.random.rand():\n",
        "            for i in range(len(tar_train[:-1])):\n",
        "                h, c = decoder(tar_train[i], h, c)\n",
        "                # (1,1,embed_size) (1,1,embed_size)\n",
        "                score = enc_out.matmul(h.view((1,hparam['embed_size'],1)))\n",
        "                # t 시점 state의 encoder h attention score\n",
        "                # (src_len, 1, 1) = score(hn, stT)\n",
        "                att_dis = F.softmax(score, dim=0)\n",
        "                # Attention Distribution\n",
        "                # (src_len,1,1)\n",
        "                att_v = torch.sum(enc_out * att_dis, dim=0).view(1,1,hparam['embed_size'])\n",
        "                # Attention Value\n",
        "                # (1,1,embed_size)\n",
        "                con = torch.cat((att_v, h), dim=2)\n",
        "                # Concatinate\n",
        "                out = attention(con)\n",
        "                # (1,1,word_cnt)\n",
        "                loss += criterion(out.view((1, -1)), tar_train[i+1].view(1))\n",
        "\n",
        "                sent.append(tar_tok.index2vocab[out.argmax().detach().item()])\n",
        "\n",
        "        # without teaching force\n",
        "        else:\n",
        "            dec_in = tar_train[0]\n",
        "            # skalar\n",
        "            for i in range(len(tar_train[:-1])):\n",
        "                h, c = decoder(dec_in, h, c)\n",
        "                score = enc_out.matmul(h.view((1,hparam['embed_size'],1)))\n",
        "                att_dis = F.softmax(score, dim=0)\n",
        "                att_v = torch.sum(enc_out * att_dis, dim=0).view(1,1,hparam['embed_size'])\n",
        "                con = torch.cat((att_v, h), dim=2)\n",
        "                out = attention(con)\n",
        "                topv, topi = out.squeeze().topk(1) # detach!\n",
        "                # (1), (1)\n",
        "                dec_in = topi[0].detach()\n",
        "                # skalar\n",
        "                loss += criterion(out.view((1, -1)), tar_train[i+1].view(1))\n",
        "                \n",
        "                sent.append(tar_tok.index2vocab[out.argmax().detach().item()])\n",
        "                if dec_in == EOS_token:\n",
        "                    break\n",
        "        \n",
        "        if (epoch + 1) % 50 == 0:\n",
        "            print(epoch + 1, batch, loss.item())\n",
        "            print(' '.join([tar_tok.index2vocab[t] for t in tar_train.detach().numpy()[1: ]]))\n",
        "            print(' '.join(sent))\n",
        "        \n",
        "        enc_optimizer.zero_grad()\n",
        "        dec_optimizer.zero_grad()\n",
        "        att_optimizer.zero_grad()\n",
        "\n",
        "        loss = loss / len(df)\n",
        "        loss.backward()\n",
        "\n",
        "        enc_optimizer.step()\n",
        "        dec_optimizer.step()\n",
        "        att_optimizer.step()\n",
        "\n",
        "        loss_avg.append(loss.item())\n",
        "\n",
        "    loss_hist.append(sum(loss_avg))\n",
        "\n",
        "    if (epoch + 1) % 50 == 0:\n",
        "        print('avg loss', loss_hist[-1])\n",
        "        print('=============================')"
      ],
      "metadata": {
        "id": "3TVu7PiEyx7T",
        "colab": {
          "base_uri": "https://localhost:8080/"
        },
        "outputId": "c457ab90-9351-4324-f601-af7360d01aba"
      },
      "execution_count": null,
      "outputs": [
        {
          "output_type": "stream",
          "name": "stdout",
          "text": [
            "50 0 0.006093495525419712\n",
            "ich liebe dich ich\n",
            "ich\n",
            "50 1 0.005865978542715311\n",
            "ich liebe mich ich\n",
            "ich\n",
            "50 2 0.007783796638250351\n",
            "ich mag dich ich\n",
            "ich\n",
            "50 3 0.1444193720817566\n",
            "er liebt dich ich\n",
            "er liebt dich ich\n",
            "avg loss 0.04104066069703549\n",
            "=============================\n",
            "100 0 0.03061060607433319\n",
            "ich liebe dich ich\n",
            "ich liebe dich ich\n",
            "100 1 0.002025577938184142\n",
            "ich liebe mich ich\n",
            "ich\n",
            "100 2 0.03980765864253044\n",
            "ich mag dich ich\n",
            "ich mag dich ich\n",
            "100 3 0.033011846244335175\n",
            "er liebt dich ich\n",
            "er liebt dich ich\n",
            "avg loss 0.026363922224845737\n",
            "=============================\n",
            "150 0 0.0006901028100401163\n",
            "ich liebe dich ich\n",
            "ich\n",
            "150 1 0.02897440455853939\n",
            "ich liebe mich ich\n",
            "ich liebe mich ich\n",
            "150 2 0.0007609808817505836\n",
            "ich mag dich ich\n",
            "ich\n",
            "150 3 0.0115998899564147\n",
            "er liebt dich ich\n",
            "er liebt dich ich\n",
            "avg loss 0.010506344551686198\n",
            "=============================\n",
            "200 0 0.00024339574156329036\n",
            "ich liebe dich ich\n",
            "ich\n",
            "200 1 0.009429792873561382\n",
            "ich liebe mich ich\n",
            "ich liebe mich ich\n",
            "200 2 0.0002517383254598826\n",
            "ich mag dich ich\n",
            "ich\n",
            "200 3 0.004099132493138313\n",
            "er liebt dich ich\n",
            "er liebt dich ich\n",
            "avg loss 0.003506014858430717\n",
            "=============================\n",
            "250 0 0.0013054775772616267\n",
            "ich liebe dich ich\n",
            "ich liebe dich ich\n",
            "250 1 8.725739462533966e-05\n",
            "ich liebe mich ich\n",
            "ich\n",
            "250 2 8.797258487902582e-05\n",
            "ich mag dich ich\n",
            "ich\n",
            "250 3 0.0014241315657272935\n",
            "er liebt dich ich\n",
            "er liebt dich ich\n",
            "avg loss 0.0007262097806233214\n",
            "=============================\n",
            "300 0 3.266281055402942e-05\n",
            "ich liebe dich ich\n",
            "ich\n",
            "300 1 0.0014112187782302499\n",
            "ich liebe mich ich\n",
            "ich liebe mich ich\n",
            "300 2 3.2066785934148356e-05\n",
            "ich mag dich ich\n",
            "ich\n",
            "300 3 0.0005875295610167086\n",
            "er liebt dich ich\n",
            "er liebt dich ich\n",
            "avg loss 0.0005158694839337841\n",
            "=============================\n",
            "350 0 1.2397689715726301e-05\n",
            "ich liebe dich ich\n",
            "ich\n",
            "350 1 1.2159273865108844e-05\n",
            "ich liebe mich ich\n",
            "ich\n",
            "350 2 0.0002909675531554967\n",
            "ich mag dich ich\n",
            "ich mag dich ich\n",
            "350 3 0.00022339036513585597\n",
            "er liebt dich ich\n",
            "er liebt dich ich\n",
            "avg loss 0.00013472872046804696\n",
            "=============================\n",
            "400 0 4.768360213347478e-06\n",
            "ich liebe dich ich\n",
            "ich\n",
            "400 1 0.0002244551869807765\n",
            "ich liebe mich ich\n",
            "ich liebe mich ich\n",
            "400 2 0.00011503330460982397\n",
            "ich mag dich ich\n",
            "ich mag dich ich\n",
            "400 3 8.618710853625089e-05\n",
            "er liebt dich ich\n",
            "er liebt dich ich\n",
            "avg loss 0.00010761099008504971\n",
            "=============================\n",
            "450 0 3.7550635170191526e-05\n",
            "ich liebe dich ich\n",
            "ich liebe dich ich\n",
            "450 1 1.7881377516459906e-06\n",
            "ich liebe mich ich\n",
            "ich\n",
            "450 2 1.6689286894688848e-06\n",
            "ich mag dich ich\n",
            "ich\n",
            "450 3 3.38552454195451e-05\n",
            "er liebt dich ich\n",
            "er liebt dich ich\n",
            "avg loss 1.8715736757712875e-05\n",
            "=============================\n",
            "500 0 1.3470611520460807e-05\n",
            "ich liebe dich ich\n",
            "ich liebe dich ich\n",
            "500 1 3.182856016792357e-05\n",
            "ich liebe mich ich\n",
            "ich liebe mich ich\n",
            "500 2 1.4424268556467723e-05\n",
            "ich mag dich ich\n",
            "ich mag dich ich\n",
            "500 3 1.263615740754176e-05\n",
            "er liebt dich ich\n",
            "er liebt dich ich\n",
            "avg loss 1.8089899413098465e-05\n",
            "=============================\n"
          ]
        }
      ]
    },
    {
      "cell_type": "code",
      "source": [],
      "metadata": {
        "id": "KdNKkkve6VU7"
      },
      "execution_count": null,
      "outputs": []
    }
  ]
}