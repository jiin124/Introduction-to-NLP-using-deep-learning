{
  "nbformat": 4,
  "nbformat_minor": 0,
  "metadata": {
    "colab": {
      "name": "7_문자단위 RNN",
      "provenance": [],
      "authorship_tag": "ABX9TyPooYmWU/WBJ61ALjcSUMG+",
      "include_colab_link": true
    },
    "kernelspec": {
      "name": "python3",
      "display_name": "Python 3"
    },
    "language_info": {
      "name": "python"
    }
  },
  "cells": [
    {
      "cell_type": "markdown",
      "metadata": {
        "id": "view-in-github",
        "colab_type": "text"
      },
      "source": [
        "<a href=\"https://colab.research.google.com/github/jiin124/Introduction-to-NLP-using-deep-learning/blob/main/%EC%88%9C%ED%99%98%EC%8B%A0%EA%B2%BD%EB%A7%9D/7_%EB%AC%B8%EC%9E%90%EB%8B%A8%EC%9C%84_RNN.ipynb\" target=\"_parent\"><img src=\"https://colab.research.google.com/assets/colab-badge.svg\" alt=\"Open In Colab\"/></a>"
      ]
    },
    {
      "cell_type": "markdown",
      "source": [
        "지금까지 다룬 RNN은 입력과 출력의 단위가 단어벡터였다. 하지만 입출력의 단위를 단어레벨에서 문자 레벨로 변경해 rnn을 구성할 수 있다. \n",
        "\n",
        "![image.png](data:image/png;base64,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)"
      ],
      "metadata": {
        "id": "LP2Kp8GWMhBR"
      }
    },
    {
      "cell_type": "markdown",
      "source": [
        "# 1. 문자 단위 RNN 언어 모델(Char RNNLM)\n",
        "\n",
        "다운로드 링크 : http://www.gutenberg.org/files/11/11-0.txt"
      ],
      "metadata": {
        "id": "sLldHQv6MsIf"
      }
    },
    {
      "cell_type": "markdown",
      "source": [
        "## 1) 데이터에 대한 이해와 전처리"
      ],
      "metadata": {
        "id": "uzKdG5CANIC5"
      }
    },
    {
      "cell_type": "code",
      "execution_count": 1,
      "metadata": {
        "id": "RPXXayFhKIGh"
      },
      "outputs": [],
      "source": [
        "import numpy as np\n",
        "import urllib.request\n",
        "from tensorflow.keras.utils import to_categorical\n",
        "\n",
        "urllib.request.urlretrieve(\"http://www.gutenberg.org/files/11/11-0.txt\", filename=\"11-0.txt\")\n",
        "\n",
        "f=open('11-0.txt','rb')\n",
        "sentences=[]\n",
        "for sentence in f:# 데이터로부터 한 줄씩 읽는다.\n",
        "  sentence=sentence.strip()# strip()을 통해 \\r, \\n을 제거한다.\n",
        "  sentence=sentence.lower() # 소문자화.\n",
        "  sentence=sentence.decode('ascii','ignore') # \\xe2\\x80\\x99 등과 같은 바이트 열 제거\n",
        "  if len(sentence)>0:\n",
        "    sentences.append(sentence)\n",
        "f.close()"
      ]
    },
    {
      "cell_type": "code",
      "source": [
        "sentences[:5]"
      ],
      "metadata": {
        "colab": {
          "base_uri": "https://localhost:8080/"
        },
        "id": "AWwwf07hNumH",
        "outputId": "32879620-1a4d-469b-b69b-81297e62d721"
      },
      "execution_count": 2,
      "outputs": [
        {
          "output_type": "execute_result",
          "data": {
            "text/plain": [
              "['the project gutenberg ebook of alices adventures in wonderland, by lewis carroll',\n",
              " 'this ebook is for the use of anyone anywhere in the united states and',\n",
              " 'most other parts of the world at no cost and with almost no restrictions',\n",
              " 'whatsoever. you may copy it, give it away or re-use it under the terms',\n",
              " 'of the project gutenberg license included with this ebook or online at']"
            ]
          },
          "metadata": {},
          "execution_count": 2
        }
      ]
    },
    {
      "cell_type": "markdown",
      "source": [
        "리스트의 원소는 문자열로 구성되어져있는데 의미있고 문장 토큰화가 된 상태는 아니다. 이를 하나의 문자열로 통합"
      ],
      "metadata": {
        "id": "GM-j1VmuN6G5"
      }
    },
    {
      "cell_type": "code",
      "source": [
        "total_data=' '.join(sentences)\n",
        "print('문자열의 길이 또는 총 문자의 개수: %d'%len(total_data))"
      ],
      "metadata": {
        "colab": {
          "base_uri": "https://localhost:8080/"
        },
        "id": "D8rlf62mN32M",
        "outputId": "b123db4b-4684-4dd7-c181-de8cbc4481aa"
      },
      "execution_count": 3,
      "outputs": [
        {
          "output_type": "stream",
          "name": "stdout",
          "text": [
            "문자열의 길이 또는 총 문자의 개수: 159484\n"
          ]
        }
      ]
    },
    {
      "cell_type": "code",
      "source": [
        "print(total_data[:200])"
      ],
      "metadata": {
        "colab": {
          "base_uri": "https://localhost:8080/"
        },
        "id": "0CzccIl7OA0i",
        "outputId": "6f590e6e-ceda-4eb2-c866-9753b91d7558"
      },
      "execution_count": 4,
      "outputs": [
        {
          "output_type": "stream",
          "name": "stdout",
          "text": [
            "the project gutenberg ebook of alices adventures in wonderland, by lewis carroll this ebook is for the use of anyone anywhere in the united states and most other parts of the world at no cost and with\n"
          ]
        }
      ]
    },
    {
      "cell_type": "markdown",
      "source": [
        "이 문자열로부터 문자 집합을 만들겠다. 기존에는 중복을 제거한 단어들의 모음인 단어 집합을 만들었으니 이번에 만들 집합은 단어 집합이 아니라 문자 집합니다. "
      ],
      "metadata": {
        "id": "scs6LPj6OYts"
      }
    },
    {
      "cell_type": "code",
      "source": [
        "char_vocab=sorted(list(set(total_data)))\n",
        "vocab_size=len(char_vocab)\n",
        "print('문자 집합의 크기 : {}'.format(vocab_size))"
      ],
      "metadata": {
        "colab": {
          "base_uri": "https://localhost:8080/"
        },
        "id": "2EonAlA5OLyf",
        "outputId": "72887c15-feb9-4c79-d0f6-2034974cf4bc"
      },
      "execution_count": 6,
      "outputs": [
        {
          "output_type": "stream",
          "name": "stdout",
          "text": [
            "문자 집합의 크기 : 56\n"
          ]
        }
      ]
    },
    {
      "cell_type": "markdown",
      "source": [
        "영어가 훈련데이터일떄 문자 집합의 크기는 단어 집합을 사용했을 경우보다 집합의 크기가 현저히 작다. 아무리 훈련 코퍼스에 수십만 개 이상의 많은 영어 단어가 존재한다고 해도 영어 단어를 표현하기 위해서 사용되는 문자는 26개의 알파벳뿐이기 떄문이다. 만약 훈련데이터의 알파벳이 대 소문자가 구분된 상태라고 하더라고 모든 영어 단어는 총 52개의 알파벳으로표현가능"
      ],
      "metadata": {
        "id": "hLS5ppswO-Lo"
      }
    },
    {
      "cell_type": "code",
      "source": [
        "#문자에 고유한 정수 부여\n",
        "char_to_index=dict((char,index) for index, char in enumerate(char_vocab))\n",
        "print('문자 집합 :',char_to_index)"
      ],
      "metadata": {
        "colab": {
          "base_uri": "https://localhost:8080/"
        },
        "id": "0t4tvyu1Oy_d",
        "outputId": "ef4b74fc-1c85-4066-a1d2-bb672ef614fc"
      },
      "execution_count": 7,
      "outputs": [
        {
          "output_type": "stream",
          "name": "stdout",
          "text": [
            "문자 집합 : {' ': 0, '!': 1, '\"': 2, '#': 3, '$': 4, '%': 5, \"'\": 6, '(': 7, ')': 8, '*': 9, ',': 10, '-': 11, '.': 12, '/': 13, '0': 14, '1': 15, '2': 16, '3': 17, '4': 18, '5': 19, '6': 20, '7': 21, '8': 22, '9': 23, ':': 24, ';': 25, '?': 26, '[': 27, ']': 28, '_': 29, 'a': 30, 'b': 31, 'c': 32, 'd': 33, 'e': 34, 'f': 35, 'g': 36, 'h': 37, 'i': 38, 'j': 39, 'k': 40, 'l': 41, 'm': 42, 'n': 43, 'o': 44, 'p': 45, 'q': 46, 'r': 47, 's': 48, 't': 49, 'u': 50, 'v': 51, 'w': 52, 'x': 53, 'y': 54, 'z': 55}\n"
          ]
        }
      ]
    },
    {
      "cell_type": "markdown",
      "source": [
        "정수 0부터 28까지는 공백을 포함한 각종 구두점, 특수문자가 존재하고, 정수 29부터 54까지는 a부터 z까지 총 26개의 알파벳 소문자가 문자 집합에 포함되어져 있습니다. 반대로 정수로부터 문자를 리턴하는 index_to_char을 만듭니다"
      ],
      "metadata": {
        "id": "v4lJf40_PZzq"
      }
    },
    {
      "cell_type": "code",
      "source": [
        "index_to_char={}\n",
        "for key,value in char_to_index.items():\n",
        "  index_to_char[value]=key"
      ],
      "metadata": {
        "id": "jDC6TM3qPUDL"
      },
      "execution_count": 8,
      "outputs": []
    },
    {
      "cell_type": "markdown",
      "source": [
        "훈련데이터를 구성. 훈련데이터에 apple이라는 시퀀스가 있고 입력의 길이를 4라고 정했을 때 데이터의 구성은 어떻게 될까? 입력의 길이가 4이므로 입력 시퀀스와 예측해야 하는 출력 시퀀스 모두 길이는 4가 된다. 다시 말해 RNN은 총 4번의 시점을 가질 수 있다는 의미이다. apple은 다섯글자이지만 입력의 길이는 4이므로 'appl'까지만 입력으로 사용할 수 있다. 그리고 언어모델은 다음시점의 입력을 예측해야하는 모델이므로 'pple'을 예측하도록 데이터가 구성"
      ],
      "metadata": {
        "id": "5qT0sWhCPs3z"
      }
    },
    {
      "cell_type": "code",
      "source": [
        "train_X='appl'\n",
        "train_y='pple'"
      ],
      "metadata": {
        "id": "VMuNdAcTPnM8"
      },
      "execution_count": 10,
      "outputs": []
    },
    {
      "cell_type": "markdown",
      "source": [
        "이제 15만 9천의 길이를 가진 문자열로부터 다수의 샘플들을 만들어보겠습니다. 데이터를 만드는 방법은 문장 샘플의 길이를 정하고, 해당 길이만큼 문자열 전체를 등분하는 것입니다. 여기서는 문장의 길이를 60으로 정했는데, 결국 15만 9천을 60으로 나눈 수가 샘플의 수가 됩니다. 몇 개의 샘플을 만들 수 있을지 그 개수를 계산해봅시다."
      ],
      "metadata": {
        "id": "XS5X7cTJQRyH"
      }
    },
    {
      "cell_type": "code",
      "source": [
        "seq_length=60\n",
        "\n",
        "#문자열의 길이를 seq_length로 나누면 전처리 후 생겨날 샘플수\n",
        "n_samples=int(np.floor((len(total_data)-1)/seq_length))\n",
        "print('샘플의 수 : {}'.format(n_samples))"
      ],
      "metadata": {
        "colab": {
          "base_uri": "https://localhost:8080/"
        },
        "id": "wD1UIeNyQNTX",
        "outputId": "000facdc-8b9c-46e0-d047-3ba7f8abedc4"
      },
      "execution_count": 11,
      "outputs": [
        {
          "output_type": "stream",
          "name": "stdout",
          "text": [
            "샘플의 수 : 2658\n"
          ]
        }
      ]
    },
    {
      "cell_type": "code",
      "source": [
        "train_X=[]\n",
        "train_y=[]\n",
        "\n",
        "for i in range(n_samples):\n",
        "   # 0:60 -> 60:120 -> 120:180로 loop를 돌면서 문장 샘플을 1개씩 pick.\n",
        "  X_sample=total_data[i*seq_length:(i+1)*seq_length]\n",
        "\n",
        "  #정수인코딩\n",
        "  X_encoded=[char_to_index[c] for c in X_sample]\n",
        "  train_X.append(X_encoded)\n",
        "\n",
        "  #오른쪽으로 1칸 쉬프트\n",
        "  y_sample=total_data[i*seq_length+1:(i+1)*seq_length+1]\n",
        "  y_encoded=[char_to_index[c] for c in y_sample]\n",
        "  train_y.append(y_encoded)"
      ],
      "metadata": {
        "id": "3GF7tF5XQefi"
      },
      "execution_count": 12,
      "outputs": []
    },
    {
      "cell_type": "code",
      "source": [
        "print('X 데이터의 첫번째 샘플 :',train_X[0])\n",
        "print('y 데이터의 첫번째 샘플 :',train_y[0])\n",
        "print('-'*50)\n",
        "print('X 데이터의 첫번째 샘플 디코딩 :',[index_to_char[i] for i in train_X[0]])\n",
        "print('y 데이터의 첫번째 샘플 디코딩 :',[index_to_char[i] for i in train_y[0]])"
      ],
      "metadata": {
        "colab": {
          "base_uri": "https://localhost:8080/"
        },
        "id": "b_lhebLaSCr3",
        "outputId": "9cdc8d07-f2a6-4632-9cb5-6eb8eac2de27"
      },
      "execution_count": 13,
      "outputs": [
        {
          "output_type": "stream",
          "name": "stdout",
          "text": [
            "X 데이터의 첫번째 샘플 : [49, 37, 34, 0, 45, 47, 44, 39, 34, 32, 49, 0, 36, 50, 49, 34, 43, 31, 34, 47, 36, 0, 34, 31, 44, 44, 40, 0, 44, 35, 0, 30, 41, 38, 32, 34, 48, 0, 30, 33, 51, 34, 43, 49, 50, 47, 34, 48, 0, 38, 43, 0, 52, 44, 43, 33, 34, 47, 41, 30]\n",
            "y 데이터의 첫번째 샘플 : [37, 34, 0, 45, 47, 44, 39, 34, 32, 49, 0, 36, 50, 49, 34, 43, 31, 34, 47, 36, 0, 34, 31, 44, 44, 40, 0, 44, 35, 0, 30, 41, 38, 32, 34, 48, 0, 30, 33, 51, 34, 43, 49, 50, 47, 34, 48, 0, 38, 43, 0, 52, 44, 43, 33, 34, 47, 41, 30, 43]\n",
            "--------------------------------------------------\n",
            "X 데이터의 첫번째 샘플 디코딩 : ['t', 'h', 'e', ' ', 'p', 'r', 'o', 'j', 'e', 'c', 't', ' ', 'g', 'u', 't', 'e', 'n', 'b', 'e', 'r', 'g', ' ', 'e', 'b', 'o', 'o', 'k', ' ', 'o', 'f', ' ', 'a', 'l', 'i', 'c', 'e', 's', ' ', 'a', 'd', 'v', 'e', 'n', 't', 'u', 'r', 'e', 's', ' ', 'i', 'n', ' ', 'w', 'o', 'n', 'd', 'e', 'r', 'l', 'a']\n",
            "y 데이터의 첫번째 샘플 디코딩 : ['h', 'e', ' ', 'p', 'r', 'o', 'j', 'e', 'c', 't', ' ', 'g', 'u', 't', 'e', 'n', 'b', 'e', 'r', 'g', ' ', 'e', 'b', 'o', 'o', 'k', ' ', 'o', 'f', ' ', 'a', 'l', 'i', 'c', 'e', 's', ' ', 'a', 'd', 'v', 'e', 'n', 't', 'u', 'r', 'e', 's', ' ', 'i', 'n', ' ', 'w', 'o', 'n', 'd', 'e', 'r', 'l', 'a', 'n']\n"
          ]
        }
      ]
    },
    {
      "cell_type": "markdown",
      "source": [
        "train_y[0]은 train_X[0]에서 오른쪽으로 한 칸 쉬프트 된 문장임을 알 수 있습니다. train_X와 train_y의 두번째 샘플. 즉, 인덱스가 1번인 샘플을 출력하여 데이터의 구성을 확인해봅시다."
      ],
      "metadata": {
        "id": "koLIrgwcSN2d"
      }
    },
    {
      "cell_type": "code",
      "source": [
        "print(train_X[1])"
      ],
      "metadata": {
        "colab": {
          "base_uri": "https://localhost:8080/"
        },
        "id": "Ioyj8MUmSENm",
        "outputId": "f9b3cae9-f29e-4970-c89a-6093d393bc4d"
      },
      "execution_count": 14,
      "outputs": [
        {
          "output_type": "stream",
          "name": "stdout",
          "text": [
            "[43, 33, 10, 0, 31, 54, 0, 41, 34, 52, 38, 48, 0, 32, 30, 47, 47, 44, 41, 41, 0, 49, 37, 38, 48, 0, 34, 31, 44, 44, 40, 0, 38, 48, 0, 35, 44, 47, 0, 49, 37, 34, 0, 50, 48, 34, 0, 44, 35, 0, 30, 43, 54, 44, 43, 34, 0, 30, 43, 54]\n"
          ]
        }
      ]
    },
    {
      "cell_type": "code",
      "source": [
        "print(train_y[1])"
      ],
      "metadata": {
        "colab": {
          "base_uri": "https://localhost:8080/"
        },
        "id": "Tn9edPM6SO1J",
        "outputId": "f421722e-9085-4d29-9f78-53279ab1fa4f"
      },
      "execution_count": 15,
      "outputs": [
        {
          "output_type": "stream",
          "name": "stdout",
          "text": [
            "[33, 10, 0, 31, 54, 0, 41, 34, 52, 38, 48, 0, 32, 30, 47, 47, 44, 41, 41, 0, 49, 37, 38, 48, 0, 34, 31, 44, 44, 40, 0, 38, 48, 0, 35, 44, 47, 0, 49, 37, 34, 0, 50, 48, 34, 0, 44, 35, 0, 30, 43, 54, 44, 43, 34, 0, 30, 43, 54, 52]\n"
          ]
        }
      ]
    },
    {
      "cell_type": "markdown",
      "source": [
        "train_x와 train_y에 대해서 원-핫인코딩을 수행한다. 문자 단위 RNN에서는 입력 시퀀스에 대해서 워드 임베딩을 하지 않는다. 다시 말해 임베딩층을 사용하지 않을 것이므로 입력 시퀀스인 train_X에 대해서도 원-핫 인코딩을 한다. "
      ],
      "metadata": {
        "id": "SPVAw30PSRJB"
      }
    },
    {
      "cell_type": "code",
      "source": [
        "train_X=to_categorical(train_X)\n",
        "train_y=to_categorical(train_y)\n",
        "\n",
        "print('train_X의 크기(shape) : {}'.format(train_X.shape)) # 원-핫 인코딩\n",
        "print('train_y의 크기(shape) : {}'.format(train_y.shape)) # 원-핫 인코딩"
      ],
      "metadata": {
        "colab": {
          "base_uri": "https://localhost:8080/"
        },
        "id": "2uOKMlZ2SP2r",
        "outputId": "6f1623ac-cb5c-4b9e-f5ba-68baba4b9318"
      },
      "execution_count": 16,
      "outputs": [
        {
          "output_type": "stream",
          "name": "stdout",
          "text": [
            "train_X의 크기(shape) : (2658, 60, 56)\n",
            "train_y의 크기(shape) : (2658, 60, 56)\n"
          ]
        }
      ]
    },
    {
      "cell_type": "markdown",
      "source": [
        "이는 샘플의 수(No. of samples)가 2,658개, 입력 시퀀스의 길이(input_length)가 60, 각 벡터의 차원(input_dim)이 55임을 의미합니다. 원-핫 벡터의 차원은 문자 집합의 크기인 56이어야 하므로 원-핫 인코딩이 수행되었음을 알 수 있습니다."
      ],
      "metadata": {
        "id": "tiZScQ_ZSoAk"
      }
    },
    {
      "cell_type": "markdown",
      "source": [
        "## 2) 모델 설계하기\n",
        "\n",
        "하이퍼파라미터인 은닉 상태의 크기는 256입니다. 모델은 다 대 다 구조의 LSTM을 사용하며, LSTM 은닉층은 두 개를 사용합니다. 전결합층(Fully Connected Layer)을 출력층으로 문자 집합 크기만큼의 뉴런을 배치하여 모델을 설계합니다. 해당 모델은 모든 시점에서 모든 가능한 문자 중 하나의 문자를 예측하는 다중 클래스 분류 문제를 수행하는 모델입니다. 출력층에 소프트맥스 회귀를 사용해야 하므로 활성화 함수로는 소프트맥스 함수를 사용하고, 손실 함수로 크로스 엔트로피 함수를 사용하여 80 에포크를 수행합니다."
      ],
      "metadata": {
        "id": "icSWdp4gSxuj"
      }
    },
    {
      "cell_type": "code",
      "source": [
        "from tensorflow.keras.models import Sequential\n",
        "from tensorflow.keras.layers import Dense,LSTM,TimeDistributed\n",
        "\n",
        "hidden_units=256\n",
        "\n",
        "model=Sequential()\n",
        "model.add(LSTM(hidden_units,input_shape=(None,train_X.shape[2]),return_sequences=True))\n",
        "model.add(LSTM(hidden_units,return_sequences=True))\n",
        "model.add(TimeDistributed(Dense(vocab_size,activation='softmax')))\n",
        "\n",
        "model.compile(loss='categorical_crossentropy',optimizer='adam',metrics=['accuracy'])\n",
        "model.fit(train_X,train_y,epochs=80,verbose=2)"
      ],
      "metadata": {
        "colab": {
          "base_uri": "https://localhost:8080/"
        },
        "id": "XZMt5RFRSgJF",
        "outputId": "1b773240-f6cc-4e05-d28f-1543ed9b3dd0"
      },
      "execution_count": 18,
      "outputs": [
        {
          "output_type": "stream",
          "name": "stdout",
          "text": [
            "Epoch 1/80\n",
            "84/84 - 55s - loss: 3.0676 - accuracy: 0.1840 - 55s/epoch - 656ms/step\n",
            "Epoch 2/80\n",
            "84/84 - 52s - loss: 2.7525 - accuracy: 0.2447 - 52s/epoch - 624ms/step\n",
            "Epoch 3/80\n",
            "84/84 - 50s - loss: 2.4049 - accuracy: 0.3266 - 50s/epoch - 595ms/step\n",
            "Epoch 4/80\n",
            "84/84 - 49s - loss: 2.2632 - accuracy: 0.3585 - 49s/epoch - 578ms/step\n",
            "Epoch 5/80\n",
            "84/84 - 47s - loss: 2.1682 - accuracy: 0.3834 - 47s/epoch - 558ms/step\n",
            "Epoch 6/80\n",
            "84/84 - 49s - loss: 2.0832 - accuracy: 0.4026 - 49s/epoch - 579ms/step\n",
            "Epoch 7/80\n",
            "84/84 - 51s - loss: 2.0179 - accuracy: 0.4191 - 51s/epoch - 613ms/step\n",
            "Epoch 8/80\n",
            "84/84 - 49s - loss: 1.9626 - accuracy: 0.4337 - 49s/epoch - 579ms/step\n",
            "Epoch 9/80\n",
            "84/84 - 48s - loss: 1.9129 - accuracy: 0.4482 - 48s/epoch - 577ms/step\n",
            "Epoch 10/80\n",
            "84/84 - 48s - loss: 1.8649 - accuracy: 0.4600 - 48s/epoch - 570ms/step\n",
            "Epoch 11/80\n",
            "84/84 - 50s - loss: 1.8243 - accuracy: 0.4720 - 50s/epoch - 599ms/step\n",
            "Epoch 12/80\n",
            "84/84 - 50s - loss: 1.7853 - accuracy: 0.4822 - 50s/epoch - 591ms/step\n",
            "Epoch 13/80\n",
            "84/84 - 54s - loss: 1.7491 - accuracy: 0.4905 - 54s/epoch - 638ms/step\n",
            "Epoch 14/80\n",
            "84/84 - 51s - loss: 1.7175 - accuracy: 0.4986 - 51s/epoch - 610ms/step\n",
            "Epoch 15/80\n",
            "84/84 - 49s - loss: 1.6870 - accuracy: 0.5069 - 49s/epoch - 586ms/step\n",
            "Epoch 16/80\n",
            "84/84 - 50s - loss: 1.6549 - accuracy: 0.5156 - 50s/epoch - 601ms/step\n",
            "Epoch 17/80\n",
            "84/84 - 49s - loss: 1.6248 - accuracy: 0.5232 - 49s/epoch - 580ms/step\n",
            "Epoch 18/80\n",
            "84/84 - 49s - loss: 1.5956 - accuracy: 0.5311 - 49s/epoch - 584ms/step\n",
            "Epoch 19/80\n",
            "84/84 - 50s - loss: 1.5699 - accuracy: 0.5379 - 50s/epoch - 598ms/step\n",
            "Epoch 20/80\n",
            "84/84 - 49s - loss: 1.5424 - accuracy: 0.5458 - 49s/epoch - 582ms/step\n",
            "Epoch 21/80\n",
            "84/84 - 53s - loss: 1.5167 - accuracy: 0.5522 - 53s/epoch - 631ms/step\n",
            "Epoch 22/80\n",
            "84/84 - 50s - loss: 1.4898 - accuracy: 0.5595 - 50s/epoch - 590ms/step\n",
            "Epoch 23/80\n",
            "84/84 - 50s - loss: 1.4663 - accuracy: 0.5653 - 50s/epoch - 597ms/step\n",
            "Epoch 24/80\n",
            "84/84 - 48s - loss: 1.4410 - accuracy: 0.5732 - 48s/epoch - 570ms/step\n",
            "Epoch 25/80\n",
            "84/84 - 48s - loss: 1.4173 - accuracy: 0.5790 - 48s/epoch - 573ms/step\n",
            "Epoch 26/80\n",
            "84/84 - 48s - loss: 1.3918 - accuracy: 0.5867 - 48s/epoch - 575ms/step\n",
            "Epoch 27/80\n",
            "84/84 - 51s - loss: 1.3676 - accuracy: 0.5932 - 51s/epoch - 604ms/step\n",
            "Epoch 28/80\n",
            "84/84 - 50s - loss: 1.3436 - accuracy: 0.6006 - 50s/epoch - 590ms/step\n",
            "Epoch 29/80\n",
            "84/84 - 49s - loss: 1.3211 - accuracy: 0.6069 - 49s/epoch - 579ms/step\n",
            "Epoch 30/80\n",
            "84/84 - 50s - loss: 1.2966 - accuracy: 0.6137 - 50s/epoch - 600ms/step\n",
            "Epoch 31/80\n",
            "84/84 - 54s - loss: 1.2760 - accuracy: 0.6192 - 54s/epoch - 644ms/step\n",
            "Epoch 32/80\n",
            "84/84 - 49s - loss: 1.2546 - accuracy: 0.6245 - 49s/epoch - 584ms/step\n",
            "Epoch 33/80\n",
            "84/84 - 50s - loss: 1.2274 - accuracy: 0.6335 - 50s/epoch - 592ms/step\n",
            "Epoch 34/80\n",
            "84/84 - 52s - loss: 1.2076 - accuracy: 0.6389 - 52s/epoch - 624ms/step\n",
            "Epoch 35/80\n",
            "84/84 - 51s - loss: 1.1842 - accuracy: 0.6461 - 51s/epoch - 612ms/step\n",
            "Epoch 36/80\n",
            "84/84 - 50s - loss: 1.1559 - accuracy: 0.6537 - 50s/epoch - 598ms/step\n",
            "Epoch 37/80\n",
            "84/84 - 53s - loss: 1.1356 - accuracy: 0.6595 - 53s/epoch - 628ms/step\n",
            "Epoch 38/80\n",
            "84/84 - 52s - loss: 1.1131 - accuracy: 0.6667 - 52s/epoch - 615ms/step\n",
            "Epoch 39/80\n",
            "84/84 - 52s - loss: 1.0846 - accuracy: 0.6761 - 52s/epoch - 619ms/step\n",
            "Epoch 40/80\n",
            "84/84 - 51s - loss: 1.0629 - accuracy: 0.6814 - 51s/epoch - 606ms/step\n",
            "Epoch 41/80\n",
            "84/84 - 50s - loss: 1.0400 - accuracy: 0.6890 - 50s/epoch - 591ms/step\n",
            "Epoch 42/80\n",
            "84/84 - 48s - loss: 1.0164 - accuracy: 0.6965 - 48s/epoch - 567ms/step\n",
            "Epoch 43/80\n",
            "84/84 - 49s - loss: 0.9920 - accuracy: 0.7038 - 49s/epoch - 581ms/step\n",
            "Epoch 44/80\n",
            "84/84 - 49s - loss: 0.9633 - accuracy: 0.7128 - 49s/epoch - 588ms/step\n",
            "Epoch 45/80\n",
            "84/84 - 48s - loss: 0.9372 - accuracy: 0.7206 - 48s/epoch - 573ms/step\n",
            "Epoch 46/80\n",
            "84/84 - 48s - loss: 0.9185 - accuracy: 0.7260 - 48s/epoch - 575ms/step\n",
            "Epoch 47/80\n",
            "84/84 - 50s - loss: 0.8886 - accuracy: 0.7350 - 50s/epoch - 597ms/step\n",
            "Epoch 48/80\n",
            "84/84 - 55s - loss: 0.8694 - accuracy: 0.7410 - 55s/epoch - 655ms/step\n",
            "Epoch 49/80\n",
            "84/84 - 50s - loss: 0.8419 - accuracy: 0.7498 - 50s/epoch - 592ms/step\n",
            "Epoch 50/80\n",
            "84/84 - 51s - loss: 0.8190 - accuracy: 0.7571 - 51s/epoch - 604ms/step\n",
            "Epoch 51/80\n",
            "84/84 - 51s - loss: 0.7954 - accuracy: 0.7648 - 51s/epoch - 611ms/step\n",
            "Epoch 52/80\n",
            "84/84 - 50s - loss: 0.7704 - accuracy: 0.7723 - 50s/epoch - 599ms/step\n",
            "Epoch 53/80\n",
            "84/84 - 55s - loss: 0.7613 - accuracy: 0.7736 - 55s/epoch - 655ms/step\n",
            "Epoch 54/80\n",
            "84/84 - 59s - loss: 0.7244 - accuracy: 0.7874 - 59s/epoch - 703ms/step\n",
            "Epoch 55/80\n",
            "84/84 - 62s - loss: 0.6994 - accuracy: 0.7960 - 62s/epoch - 735ms/step\n",
            "Epoch 56/80\n",
            "84/84 - 59s - loss: 0.6841 - accuracy: 0.7996 - 59s/epoch - 703ms/step\n",
            "Epoch 57/80\n",
            "84/84 - 58s - loss: 0.6612 - accuracy: 0.8076 - 58s/epoch - 691ms/step\n",
            "Epoch 58/80\n",
            "84/84 - 59s - loss: 0.6368 - accuracy: 0.8164 - 59s/epoch - 700ms/step\n",
            "Epoch 59/80\n",
            "84/84 - 58s - loss: 0.6206 - accuracy: 0.8206 - 58s/epoch - 695ms/step\n",
            "Epoch 60/80\n",
            "84/84 - 55s - loss: 0.6027 - accuracy: 0.8253 - 55s/epoch - 659ms/step\n",
            "Epoch 61/80\n",
            "84/84 - 54s - loss: 0.5714 - accuracy: 0.8377 - 54s/epoch - 640ms/step\n",
            "Epoch 62/80\n",
            "84/84 - 55s - loss: 0.5622 - accuracy: 0.8390 - 55s/epoch - 652ms/step\n",
            "Epoch 63/80\n",
            "84/84 - 57s - loss: 0.5473 - accuracy: 0.8429 - 57s/epoch - 683ms/step\n",
            "Epoch 64/80\n",
            "84/84 - 58s - loss: 0.5248 - accuracy: 0.8514 - 58s/epoch - 688ms/step\n",
            "Epoch 65/80\n",
            "84/84 - 51s - loss: 0.5050 - accuracy: 0.8587 - 51s/epoch - 603ms/step\n",
            "Epoch 66/80\n",
            "84/84 - 49s - loss: 0.4838 - accuracy: 0.8643 - 49s/epoch - 584ms/step\n",
            "Epoch 67/80\n",
            "84/84 - 49s - loss: 0.4620 - accuracy: 0.8727 - 49s/epoch - 587ms/step\n",
            "Epoch 68/80\n",
            "84/84 - 49s - loss: 0.4502 - accuracy: 0.8757 - 49s/epoch - 580ms/step\n",
            "Epoch 69/80\n",
            "84/84 - 57s - loss: 0.4383 - accuracy: 0.8787 - 57s/epoch - 677ms/step\n",
            "Epoch 70/80\n",
            "84/84 - 55s - loss: 0.4220 - accuracy: 0.8841 - 55s/epoch - 657ms/step\n",
            "Epoch 71/80\n",
            "84/84 - 50s - loss: 0.4004 - accuracy: 0.8921 - 50s/epoch - 596ms/step\n",
            "Epoch 72/80\n",
            "84/84 - 52s - loss: 0.3908 - accuracy: 0.8942 - 52s/epoch - 623ms/step\n",
            "Epoch 73/80\n",
            "84/84 - 50s - loss: 0.3836 - accuracy: 0.8962 - 50s/epoch - 591ms/step\n",
            "Epoch 74/80\n",
            "84/84 - 49s - loss: 0.3683 - accuracy: 0.9009 - 49s/epoch - 588ms/step\n",
            "Epoch 75/80\n",
            "84/84 - 49s - loss: 0.3520 - accuracy: 0.9068 - 49s/epoch - 581ms/step\n",
            "Epoch 76/80\n",
            "84/84 - 51s - loss: 0.3303 - accuracy: 0.9149 - 51s/epoch - 608ms/step\n",
            "Epoch 77/80\n",
            "84/84 - 51s - loss: 0.3212 - accuracy: 0.9182 - 51s/epoch - 604ms/step\n",
            "Epoch 78/80\n",
            "84/84 - 49s - loss: 0.3081 - accuracy: 0.9217 - 49s/epoch - 589ms/step\n",
            "Epoch 79/80\n",
            "84/84 - 49s - loss: 0.3007 - accuracy: 0.9232 - 49s/epoch - 589ms/step\n",
            "Epoch 80/80\n",
            "84/84 - 46s - loss: 0.2880 - accuracy: 0.9276 - 46s/epoch - 551ms/step\n"
          ]
        },
        {
          "output_type": "execute_result",
          "data": {
            "text/plain": [
              "<keras.callbacks.History at 0x7fc4c9147e10>"
            ]
          },
          "metadata": {},
          "execution_count": 18
        }
      ]
    },
    {
      "cell_type": "code",
      "source": [
        "def sentence_generation(model,length):\n",
        "  #문자에 대한 랜덤한 정수 생성\n",
        "  ix=[np.random.randint(vocab_size)]\n",
        "\n",
        "  #랜덤한 정수로부터 맵핑되는 문자 생성\n",
        "  y_char=[index_to_char[ix[-1]]]\n",
        "  print(ix[-1],'번 문자',y_char[-1],'로 예측을 시작!')\n",
        "\n",
        "  #(1,length,55)크기의 X생성, 즉 LSTM의 입력 시퀀스 생성\n",
        "  X=np.zeros((1,length,vocab_size))\n",
        "\n",
        "  for i in range(length):\n",
        "    # X[0][i][예측한 문자의 인덱스] = 1, 즉, 예측 문자를 다음 입력 시퀀스에 추가\n",
        "    X[0][i][ix[-1]] = 1\n",
        "    print(index_to_char[ix[-1]], end=\"\")\n",
        "    ix = np.argmax(model.predict(X[:, :i+1, :])[0], 1)\n",
        "    y_char.append(index_to_char[ix[-1]])\n",
        "  return ('').join(y_char)"
      ],
      "metadata": {
        "id": "CI602dR_T8Pj"
      },
      "execution_count": 19,
      "outputs": []
    },
    {
      "cell_type": "code",
      "source": [
        "result = sentence_generation(model, 100)\n",
        "print(result)"
      ],
      "metadata": {
        "colab": {
          "base_uri": "https://localhost:8080/"
        },
        "id": "vagRCkyUl58p",
        "outputId": "5354e7f0-f81f-48b1-be54-eef9592ff7d5"
      },
      "execution_count": 20,
      "outputs": [
        {
          "output_type": "stream",
          "name": "stdout",
          "text": [
            "26 번 문자 ? 로 예측을 시작!\n",
            "? she said to herself, and she said to herself, and ive tried he was of the woods with a thing, said? she said to herself, and she said to herself, and ive tried he was of the woods with a thing, said \n"
          ]
        }
      ]
    },
    {
      "cell_type": "markdown",
      "source": [
        "# 2. 문자단위 RNN(Char RNN)으로 텍스트 생성\n",
        "\n",
        "이번에는 다대일구조의 RNN을 문자 단위로 학습시키고 텍스트 생성"
      ],
      "metadata": {
        "id": "y2ELR6klmJcC"
      }
    },
    {
      "cell_type": "code",
      "source": [
        "import numpy as np\n",
        "from tensorflow.keras.utils import to_categorical"
      ],
      "metadata": {
        "id": "H5VDHOYbl988"
      },
      "execution_count": 21,
      "outputs": []
    },
    {
      "cell_type": "code",
      "source": [
        "raw_text = '''\n",
        "I get on with life as a programmer,\n",
        "I like to contemplate beer.\n",
        "But when I start to daydream,\n",
        "My mind turns straight to wine.\n",
        "\n",
        "Do I love wine more than beer?\n",
        "\n",
        "I like to use words about beer.\n",
        "But when I stop my talking,\n",
        "My mind turns straight to wine.\n",
        "\n",
        "I hate bugs and errors.\n",
        "But I just think back to wine,\n",
        "And I'm happy once again.\n",
        "\n",
        "I like to hang out with programming and deep learning.\n",
        "But when left alone,\n",
        "My mind turns straight to wine.\n",
        "'''"
      ],
      "metadata": {
        "id": "RGsgL-cqmTMp"
      },
      "execution_count": 22,
      "outputs": []
    },
    {
      "cell_type": "code",
      "source": [
        "tokens=raw_text.split()\n",
        "raw_text=' '.join(tokens)\n",
        "print(raw_text)"
      ],
      "metadata": {
        "colab": {
          "base_uri": "https://localhost:8080/"
        },
        "id": "zVD-T6scmVWq",
        "outputId": "59f92524-e695-4fd5-a6b2-823f4f82b2cc"
      },
      "execution_count": 23,
      "outputs": [
        {
          "output_type": "stream",
          "name": "stdout",
          "text": [
            "I get on with life as a programmer, I like to contemplate beer. But when I start to daydream, My mind turns straight to wine. Do I love wine more than beer? I like to use words about beer. But when I stop my talking, My mind turns straight to wine. I hate bugs and errors. But I just think back to wine, And I'm happy once again. I like to hang out with programming and deep learning. But when left alone, My mind turns straight to wine.\n"
          ]
        }
      ]
    },
    {
      "cell_type": "code",
      "source": [
        "# 중복을 제거한 문자 집합 생성\n",
        "char_vocab=sorted(list(set(raw_text)))\n",
        "vocab_size=len(char_vocab)\n",
        "print('문자집합 :',char_vocab)\n",
        "print('문자 집합의 크기 : {}'.format(vocab_size))"
      ],
      "metadata": {
        "colab": {
          "base_uri": "https://localhost:8080/"
        },
        "id": "QDU2z13lmbU8",
        "outputId": "fbd829d1-3844-487e-d256-a808f8ea6e9e"
      },
      "execution_count": 25,
      "outputs": [
        {
          "output_type": "stream",
          "name": "stdout",
          "text": [
            "문자집합 : [' ', \"'\", ',', '.', '?', 'A', 'B', 'D', 'I', 'M', 'a', 'b', 'c', 'd', 'e', 'f', 'g', 'h', 'i', 'j', 'k', 'l', 'm', 'n', 'o', 'p', 'r', 's', 't', 'u', 'v', 'w', 'y']\n",
            "문자 집합의 크기 : 33\n"
          ]
        }
      ]
    },
    {
      "cell_type": "code",
      "source": [
        "char_to_index=dict((char,index) for index,char in enumerate(char_vocab))\n",
        "print(char_to_index)"
      ],
      "metadata": {
        "colab": {
          "base_uri": "https://localhost:8080/"
        },
        "id": "4pY-Lf7zmpXN",
        "outputId": "4c21c8bf-e75a-484c-8d26-125ab56bff1a"
      },
      "execution_count": 26,
      "outputs": [
        {
          "output_type": "stream",
          "name": "stdout",
          "text": [
            "{' ': 0, \"'\": 1, ',': 2, '.': 3, '?': 4, 'A': 5, 'B': 6, 'D': 7, 'I': 8, 'M': 9, 'a': 10, 'b': 11, 'c': 12, 'd': 13, 'e': 14, 'f': 15, 'g': 16, 'h': 17, 'i': 18, 'j': 19, 'k': 20, 'l': 21, 'm': 22, 'n': 23, 'o': 24, 'p': 25, 'r': 26, 's': 27, 't': 28, 'u': 29, 'v': 30, 'w': 31, 'y': 32}\n"
          ]
        }
      ]
    },
    {
      "cell_type": "markdown",
      "source": [
        "여기서는 입력 시퀀스의 길이가 10가 되도록 데이터를 구성하겠습니다. 예측 대상인 문자도 필요하므로 길이가 11이 되도록 데이터를 구성합니다."
      ],
      "metadata": {
        "id": "Mp10sk85nU0b"
      }
    },
    {
      "cell_type": "code",
      "source": [
        "length=11\n",
        "\n",
        "sequences=[]\n",
        "for i in range(length,len(raw_text)):\n",
        "  seq=raw_text[i-length:i]# 길이 11의 문자열을 지속적으로 만든다.\n",
        "  sequences.append(seq)\n",
        "print('총 훈련 샘플의 수: %d'%len(sequences))"
      ],
      "metadata": {
        "colab": {
          "base_uri": "https://localhost:8080/"
        },
        "id": "NoP3vrZomxho",
        "outputId": "28bea47a-258b-4d33-ef21-ac97dedafabe"
      },
      "execution_count": 28,
      "outputs": [
        {
          "output_type": "stream",
          "name": "stdout",
          "text": [
            "총 훈련 샘플의 수: 426\n"
          ]
        }
      ]
    },
    {
      "cell_type": "code",
      "source": [
        "sequences[:10]"
      ],
      "metadata": {
        "colab": {
          "base_uri": "https://localhost:8080/"
        },
        "id": "sOtEb3tboDOQ",
        "outputId": "05a6584a-482b-42ff-d4d3-32a08aacc39c"
      },
      "execution_count": 29,
      "outputs": [
        {
          "output_type": "execute_result",
          "data": {
            "text/plain": [
              "['I get on wi',\n",
              " ' get on wit',\n",
              " 'get on with',\n",
              " 'et on with ',\n",
              " 't on with l',\n",
              " ' on with li',\n",
              " 'on with lif',\n",
              " 'n with life',\n",
              " ' with life ',\n",
              " 'with life a']"
            ]
          },
          "metadata": {},
          "execution_count": 29
        }
      ]
    },
    {
      "cell_type": "code",
      "source": [
        "encoded_sequences=[]\n",
        "\n",
        "for sequence in sequences:\n",
        "  #전체 데이터에서 문장 샘플을 1개씩 꺼냄\n",
        "  encoded_sequence=[char_to_index[char] for char in sequence]\n",
        "  encoded_sequences.append(encoded_sequence)"
      ],
      "metadata": {
        "id": "Qq-KXodkoGap"
      },
      "execution_count": 30,
      "outputs": []
    },
    {
      "cell_type": "code",
      "source": [
        "encoded_sequences[:5]"
      ],
      "metadata": {
        "colab": {
          "base_uri": "https://localhost:8080/"
        },
        "id": "joUjPQDFolqO",
        "outputId": "83847a12-2a11-439e-9a01-e103ad3d7c5d"
      },
      "execution_count": 31,
      "outputs": [
        {
          "output_type": "execute_result",
          "data": {
            "text/plain": [
              "[[8, 0, 16, 14, 28, 0, 24, 23, 0, 31, 18],\n",
              " [0, 16, 14, 28, 0, 24, 23, 0, 31, 18, 28],\n",
              " [16, 14, 28, 0, 24, 23, 0, 31, 18, 28, 17],\n",
              " [14, 28, 0, 24, 23, 0, 31, 18, 28, 17, 0],\n",
              " [28, 0, 24, 23, 0, 31, 18, 28, 17, 0, 21]]"
            ]
          },
          "metadata": {},
          "execution_count": 31
        }
      ]
    },
    {
      "cell_type": "markdown",
      "source": [
        "예측 대상인 문자를 분리시켜주는 작업을 해봅시다. 모든 샘플 문장에 대해서 마지막 문자를 분리하여 마지막 문자가 분리된 샘플은 X_data에 저장하고, 마지막 문자는 y_data에 저장합니다."
      ],
      "metadata": {
        "id": "DQX5zKcpovij"
      }
    },
    {
      "cell_type": "code",
      "source": [
        "encoded_sequences = np.array(encoded_sequences)\n",
        "\n",
        "# 맨 마지막 위치의 문자를 분리\n",
        "X_data = encoded_sequences[:,:-1]\n",
        "# 맨 마지막 위치의 문자를 저장\n",
        "y_data = encoded_sequences[:,-1]"
      ],
      "metadata": {
        "id": "fhokUnULosT5"
      },
      "execution_count": 32,
      "outputs": []
    },
    {
      "cell_type": "markdown",
      "source": [
        "이제 X와 y에 대해서 원-핫 인코딩을 수행해보겠습니다."
      ],
      "metadata": {
        "id": "1H0OllAzo3uf"
      }
    },
    {
      "cell_type": "code",
      "source": [
        "# 원-핫 인코딩\n",
        "X_data_one_hot = [to_categorical(encoded, num_classes=vocab_size) for encoded in X_data]\n",
        "X_data_one_hot = np.array(X_data_one_hot)\n",
        "y_data_one_hot = to_categorical(y_data, num_classes=vocab_size)"
      ],
      "metadata": {
        "id": "txdh-x-Toyvb"
      },
      "execution_count": 33,
      "outputs": []
    },
    {
      "cell_type": "code",
      "source": [
        "print(X_data_one_hot.shape)"
      ],
      "metadata": {
        "colab": {
          "base_uri": "https://localhost:8080/"
        },
        "id": "Un39NWwipBMN",
        "outputId": "a609250b-c787-47da-ec64-297e0b1cdec1"
      },
      "execution_count": 34,
      "outputs": [
        {
          "output_type": "stream",
          "name": "stdout",
          "text": [
            "(426, 10, 33)\n"
          ]
        }
      ]
    },
    {
      "cell_type": "markdown",
      "source": [
        "샘플의 수(No. of samples)가 426개, 입력 시퀀스의 길이(input_length)가 10, 각 벡터의 차원(input_dim)이 33임을 의미합니다"
      ],
      "metadata": {
        "id": "l09Bvo1cpENn"
      }
    },
    {
      "cell_type": "markdown",
      "source": [
        "### 2) 모델설계\n",
        "\n",
        "하이퍼파라미터인 은닉 상태의 크기는 64입니다. 모델은 다 대 일 구조의 LSTM을 사용합니다. 전결합층(Fully Connected Layer)을 출력층으로 문자 집합 크기만큼의 뉴런을 배치하여 모델을 설계합니다. 해당 모델은 마지막 시점에서 모든 가능한 문자 중 하나의 문자를 예측하는 다중 클래스 분류 문제를 수행하는 모델입니다. 다중 클래스 분류 문제의 경우, 출력층에 소프트맥스 회귀를 사용해야 하므로 활성화 함수로는 소프트맥스 함수를 사용하고, 손실 함수로 크로스 엔트로피 함수를 사용하여 100 에포크를 수행합니다."
      ],
      "metadata": {
        "id": "reHZZtn_pHLX"
      }
    },
    {
      "cell_type": "code",
      "source": [
        "from tensorflow.keras.models import Sequential\n",
        "from tensorflow.keras.layers import Dense, LSTM\n",
        "from tensorflow.keras.preprocessing.sequence import pad_sequences\n",
        "\n",
        "hidden_units = 64\n",
        "\n",
        "model = Sequential()\n",
        "model.add(LSTM(hidden_units, input_shape=(X_data_one_hot.shape[1], X_data_one_hot.shape[2])))\n",
        "model.add(Dense(vocab_size, activation='softmax'))\n",
        "\n",
        "model.compile(loss='categorical_crossentropy', optimizer='adam', metrics=['accuracy'])\n",
        "model.fit(X_data_one_hot, y_data_one_hot, epochs=100, verbose=2)"
      ],
      "metadata": {
        "colab": {
          "base_uri": "https://localhost:8080/"
        },
        "id": "M70sQ6wypCGH",
        "outputId": "2d48da65-f3ec-485d-9f39-989ab0df0231"
      },
      "execution_count": 37,
      "outputs": [
        {
          "output_type": "stream",
          "name": "stdout",
          "text": [
            "Epoch 1/100\n",
            "14/14 - 2s - loss: 3.4593 - accuracy: 0.1080 - 2s/epoch - 149ms/step\n",
            "Epoch 2/100\n",
            "14/14 - 0s - loss: 3.3338 - accuracy: 0.1948 - 90ms/epoch - 6ms/step\n",
            "Epoch 3/100\n",
            "14/14 - 0s - loss: 3.0690 - accuracy: 0.1972 - 91ms/epoch - 7ms/step\n",
            "Epoch 4/100\n",
            "14/14 - 0s - loss: 2.9900 - accuracy: 0.1972 - 102ms/epoch - 7ms/step\n",
            "Epoch 5/100\n",
            "14/14 - 0s - loss: 2.9564 - accuracy: 0.1972 - 114ms/epoch - 8ms/step\n",
            "Epoch 6/100\n",
            "14/14 - 0s - loss: 2.9342 - accuracy: 0.1972 - 109ms/epoch - 8ms/step\n",
            "Epoch 7/100\n",
            "14/14 - 0s - loss: 2.9225 - accuracy: 0.1972 - 105ms/epoch - 8ms/step\n",
            "Epoch 8/100\n",
            "14/14 - 0s - loss: 2.9089 - accuracy: 0.1972 - 99ms/epoch - 7ms/step\n",
            "Epoch 9/100\n",
            "14/14 - 0s - loss: 2.8938 - accuracy: 0.1972 - 105ms/epoch - 7ms/step\n",
            "Epoch 10/100\n",
            "14/14 - 0s - loss: 2.8686 - accuracy: 0.1972 - 99ms/epoch - 7ms/step\n",
            "Epoch 11/100\n",
            "14/14 - 0s - loss: 2.8531 - accuracy: 0.1972 - 104ms/epoch - 7ms/step\n",
            "Epoch 12/100\n",
            "14/14 - 0s - loss: 2.8291 - accuracy: 0.1972 - 99ms/epoch - 7ms/step\n",
            "Epoch 13/100\n",
            "14/14 - 0s - loss: 2.7990 - accuracy: 0.1995 - 101ms/epoch - 7ms/step\n",
            "Epoch 14/100\n",
            "14/14 - 0s - loss: 2.7713 - accuracy: 0.2136 - 104ms/epoch - 7ms/step\n",
            "Epoch 15/100\n",
            "14/14 - 0s - loss: 2.7407 - accuracy: 0.2089 - 106ms/epoch - 8ms/step\n",
            "Epoch 16/100\n",
            "14/14 - 0s - loss: 2.7111 - accuracy: 0.2113 - 104ms/epoch - 7ms/step\n",
            "Epoch 17/100\n",
            "14/14 - 0s - loss: 2.6770 - accuracy: 0.2254 - 112ms/epoch - 8ms/step\n",
            "Epoch 18/100\n",
            "14/14 - 0s - loss: 2.6390 - accuracy: 0.2465 - 107ms/epoch - 8ms/step\n",
            "Epoch 19/100\n",
            "14/14 - 0s - loss: 2.6364 - accuracy: 0.2465 - 97ms/epoch - 7ms/step\n",
            "Epoch 20/100\n",
            "14/14 - 0s - loss: 2.5733 - accuracy: 0.2676 - 93ms/epoch - 7ms/step\n",
            "Epoch 21/100\n",
            "14/14 - 0s - loss: 2.5241 - accuracy: 0.2723 - 107ms/epoch - 8ms/step\n",
            "Epoch 22/100\n",
            "14/14 - 0s - loss: 2.4908 - accuracy: 0.2770 - 106ms/epoch - 8ms/step\n",
            "Epoch 23/100\n",
            "14/14 - 0s - loss: 2.4743 - accuracy: 0.3239 - 98ms/epoch - 7ms/step\n",
            "Epoch 24/100\n",
            "14/14 - 0s - loss: 2.4127 - accuracy: 0.2723 - 122ms/epoch - 9ms/step\n",
            "Epoch 25/100\n",
            "14/14 - 0s - loss: 2.3835 - accuracy: 0.3028 - 100ms/epoch - 7ms/step\n",
            "Epoch 26/100\n",
            "14/14 - 0s - loss: 2.3357 - accuracy: 0.3333 - 113ms/epoch - 8ms/step\n",
            "Epoch 27/100\n",
            "14/14 - 0s - loss: 2.3011 - accuracy: 0.3404 - 99ms/epoch - 7ms/step\n",
            "Epoch 28/100\n",
            "14/14 - 0s - loss: 2.2520 - accuracy: 0.3286 - 97ms/epoch - 7ms/step\n",
            "Epoch 29/100\n",
            "14/14 - 0s - loss: 2.2158 - accuracy: 0.3310 - 112ms/epoch - 8ms/step\n",
            "Epoch 30/100\n",
            "14/14 - 0s - loss: 2.1667 - accuracy: 0.3850 - 104ms/epoch - 7ms/step\n",
            "Epoch 31/100\n",
            "14/14 - 0s - loss: 2.1274 - accuracy: 0.3897 - 104ms/epoch - 7ms/step\n",
            "Epoch 32/100\n",
            "14/14 - 0s - loss: 2.1016 - accuracy: 0.3756 - 103ms/epoch - 7ms/step\n",
            "Epoch 33/100\n",
            "14/14 - 0s - loss: 2.0462 - accuracy: 0.4108 - 109ms/epoch - 8ms/step\n",
            "Epoch 34/100\n",
            "14/14 - 0s - loss: 2.0246 - accuracy: 0.4085 - 103ms/epoch - 7ms/step\n",
            "Epoch 35/100\n",
            "14/14 - 0s - loss: 1.9611 - accuracy: 0.3967 - 101ms/epoch - 7ms/step\n",
            "Epoch 36/100\n",
            "14/14 - 0s - loss: 1.9267 - accuracy: 0.4366 - 116ms/epoch - 8ms/step\n",
            "Epoch 37/100\n",
            "14/14 - 0s - loss: 1.9058 - accuracy: 0.4413 - 112ms/epoch - 8ms/step\n",
            "Epoch 38/100\n",
            "14/14 - 0s - loss: 1.8467 - accuracy: 0.4484 - 108ms/epoch - 8ms/step\n",
            "Epoch 39/100\n",
            "14/14 - 0s - loss: 1.8084 - accuracy: 0.4695 - 105ms/epoch - 7ms/step\n",
            "Epoch 40/100\n",
            "14/14 - 0s - loss: 1.7710 - accuracy: 0.5164 - 105ms/epoch - 8ms/step\n",
            "Epoch 41/100\n",
            "14/14 - 0s - loss: 1.7510 - accuracy: 0.5188 - 109ms/epoch - 8ms/step\n",
            "Epoch 42/100\n",
            "14/14 - 0s - loss: 1.6915 - accuracy: 0.5329 - 104ms/epoch - 7ms/step\n",
            "Epoch 43/100\n",
            "14/14 - 0s - loss: 1.6480 - accuracy: 0.5610 - 107ms/epoch - 8ms/step\n",
            "Epoch 44/100\n",
            "14/14 - 0s - loss: 1.6168 - accuracy: 0.5704 - 101ms/epoch - 7ms/step\n",
            "Epoch 45/100\n",
            "14/14 - 0s - loss: 1.5848 - accuracy: 0.5634 - 110ms/epoch - 8ms/step\n",
            "Epoch 46/100\n",
            "14/14 - 0s - loss: 1.5502 - accuracy: 0.5822 - 97ms/epoch - 7ms/step\n",
            "Epoch 47/100\n",
            "14/14 - 0s - loss: 1.4959 - accuracy: 0.6056 - 96ms/epoch - 7ms/step\n",
            "Epoch 48/100\n",
            "14/14 - 0s - loss: 1.4815 - accuracy: 0.5915 - 102ms/epoch - 7ms/step\n",
            "Epoch 49/100\n",
            "14/14 - 0s - loss: 1.4419 - accuracy: 0.6244 - 100ms/epoch - 7ms/step\n",
            "Epoch 50/100\n",
            "14/14 - 0s - loss: 1.4191 - accuracy: 0.5986 - 102ms/epoch - 7ms/step\n",
            "Epoch 51/100\n",
            "14/14 - 0s - loss: 1.3947 - accuracy: 0.6362 - 112ms/epoch - 8ms/step\n",
            "Epoch 52/100\n",
            "14/14 - 0s - loss: 1.3335 - accuracy: 0.6479 - 105ms/epoch - 8ms/step\n",
            "Epoch 53/100\n",
            "14/14 - 0s - loss: 1.2944 - accuracy: 0.6808 - 102ms/epoch - 7ms/step\n",
            "Epoch 54/100\n",
            "14/14 - 0s - loss: 1.2592 - accuracy: 0.6831 - 114ms/epoch - 8ms/step\n",
            "Epoch 55/100\n",
            "14/14 - 0s - loss: 1.1965 - accuracy: 0.7042 - 95ms/epoch - 7ms/step\n",
            "Epoch 56/100\n",
            "14/14 - 0s - loss: 1.1763 - accuracy: 0.7207 - 95ms/epoch - 7ms/step\n",
            "Epoch 57/100\n",
            "14/14 - 0s - loss: 1.1429 - accuracy: 0.7183 - 91ms/epoch - 7ms/step\n",
            "Epoch 58/100\n",
            "14/14 - 0s - loss: 1.1124 - accuracy: 0.7230 - 95ms/epoch - 7ms/step\n",
            "Epoch 59/100\n",
            "14/14 - 0s - loss: 1.0641 - accuracy: 0.7488 - 97ms/epoch - 7ms/step\n",
            "Epoch 60/100\n",
            "14/14 - 0s - loss: 1.0378 - accuracy: 0.7606 - 102ms/epoch - 7ms/step\n",
            "Epoch 61/100\n",
            "14/14 - 0s - loss: 1.0231 - accuracy: 0.7676 - 119ms/epoch - 9ms/step\n",
            "Epoch 62/100\n",
            "14/14 - 0s - loss: 0.9782 - accuracy: 0.7700 - 120ms/epoch - 9ms/step\n",
            "Epoch 63/100\n",
            "14/14 - 0s - loss: 0.9545 - accuracy: 0.7770 - 108ms/epoch - 8ms/step\n",
            "Epoch 64/100\n",
            "14/14 - 0s - loss: 0.9401 - accuracy: 0.8052 - 127ms/epoch - 9ms/step\n",
            "Epoch 65/100\n",
            "14/14 - 0s - loss: 0.9138 - accuracy: 0.8005 - 115ms/epoch - 8ms/step\n",
            "Epoch 66/100\n",
            "14/14 - 0s - loss: 0.8836 - accuracy: 0.7911 - 116ms/epoch - 8ms/step\n",
            "Epoch 67/100\n",
            "14/14 - 0s - loss: 0.8389 - accuracy: 0.8380 - 122ms/epoch - 9ms/step\n",
            "Epoch 68/100\n",
            "14/14 - 0s - loss: 0.8257 - accuracy: 0.8474 - 109ms/epoch - 8ms/step\n",
            "Epoch 69/100\n",
            "14/14 - 0s - loss: 0.8011 - accuracy: 0.8427 - 119ms/epoch - 8ms/step\n",
            "Epoch 70/100\n",
            "14/14 - 0s - loss: 0.7777 - accuracy: 0.8380 - 121ms/epoch - 9ms/step\n",
            "Epoch 71/100\n",
            "14/14 - 0s - loss: 0.7504 - accuracy: 0.8685 - 106ms/epoch - 8ms/step\n",
            "Epoch 72/100\n",
            "14/14 - 0s - loss: 0.7312 - accuracy: 0.8592 - 128ms/epoch - 9ms/step\n",
            "Epoch 73/100\n",
            "14/14 - 0s - loss: 0.6929 - accuracy: 0.8850 - 117ms/epoch - 8ms/step\n",
            "Epoch 74/100\n",
            "14/14 - 0s - loss: 0.6752 - accuracy: 0.8850 - 123ms/epoch - 9ms/step\n",
            "Epoch 75/100\n",
            "14/14 - 0s - loss: 0.6679 - accuracy: 0.8850 - 111ms/epoch - 8ms/step\n",
            "Epoch 76/100\n",
            "14/14 - 0s - loss: 0.6333 - accuracy: 0.9131 - 114ms/epoch - 8ms/step\n",
            "Epoch 77/100\n",
            "14/14 - 0s - loss: 0.6059 - accuracy: 0.9131 - 118ms/epoch - 8ms/step\n",
            "Epoch 78/100\n",
            "14/14 - 0s - loss: 0.5909 - accuracy: 0.9131 - 115ms/epoch - 8ms/step\n",
            "Epoch 79/100\n",
            "14/14 - 0s - loss: 0.5687 - accuracy: 0.9366 - 107ms/epoch - 8ms/step\n",
            "Epoch 80/100\n",
            "14/14 - 0s - loss: 0.5554 - accuracy: 0.9155 - 121ms/epoch - 9ms/step\n",
            "Epoch 81/100\n",
            "14/14 - 0s - loss: 0.5401 - accuracy: 0.9319 - 118ms/epoch - 8ms/step\n",
            "Epoch 82/100\n",
            "14/14 - 0s - loss: 0.5376 - accuracy: 0.9249 - 102ms/epoch - 7ms/step\n",
            "Epoch 83/100\n",
            "14/14 - 0s - loss: 0.5063 - accuracy: 0.9249 - 100ms/epoch - 7ms/step\n",
            "Epoch 84/100\n",
            "14/14 - 0s - loss: 0.5194 - accuracy: 0.9178 - 107ms/epoch - 8ms/step\n",
            "Epoch 85/100\n",
            "14/14 - 0s - loss: 0.4850 - accuracy: 0.9484 - 101ms/epoch - 7ms/step\n",
            "Epoch 86/100\n",
            "14/14 - 0s - loss: 0.4593 - accuracy: 0.9343 - 100ms/epoch - 7ms/step\n",
            "Epoch 87/100\n",
            "14/14 - 0s - loss: 0.4475 - accuracy: 0.9507 - 98ms/epoch - 7ms/step\n",
            "Epoch 88/100\n",
            "14/14 - 0s - loss: 0.4251 - accuracy: 0.9484 - 100ms/epoch - 7ms/step\n",
            "Epoch 89/100\n",
            "14/14 - 0s - loss: 0.4147 - accuracy: 0.9554 - 104ms/epoch - 7ms/step\n",
            "Epoch 90/100\n",
            "14/14 - 0s - loss: 0.4036 - accuracy: 0.9695 - 108ms/epoch - 8ms/step\n",
            "Epoch 91/100\n",
            "14/14 - 0s - loss: 0.3940 - accuracy: 0.9695 - 102ms/epoch - 7ms/step\n",
            "Epoch 92/100\n",
            "14/14 - 0s - loss: 0.3767 - accuracy: 0.9648 - 98ms/epoch - 7ms/step\n",
            "Epoch 93/100\n",
            "14/14 - 0s - loss: 0.3711 - accuracy: 0.9695 - 95ms/epoch - 7ms/step\n",
            "Epoch 94/100\n",
            "14/14 - 0s - loss: 0.3578 - accuracy: 0.9671 - 105ms/epoch - 8ms/step\n",
            "Epoch 95/100\n",
            "14/14 - 0s - loss: 0.3436 - accuracy: 0.9671 - 98ms/epoch - 7ms/step\n",
            "Epoch 96/100\n",
            "14/14 - 0s - loss: 0.3285 - accuracy: 0.9695 - 101ms/epoch - 7ms/step\n",
            "Epoch 97/100\n",
            "14/14 - 0s - loss: 0.3219 - accuracy: 0.9695 - 94ms/epoch - 7ms/step\n",
            "Epoch 98/100\n",
            "14/14 - 0s - loss: 0.3161 - accuracy: 0.9765 - 107ms/epoch - 8ms/step\n",
            "Epoch 99/100\n",
            "14/14 - 0s - loss: 0.3021 - accuracy: 0.9789 - 101ms/epoch - 7ms/step\n",
            "Epoch 100/100\n",
            "14/14 - 0s - loss: 0.2958 - accuracy: 0.9765 - 103ms/epoch - 7ms/step\n"
          ]
        },
        {
          "output_type": "execute_result",
          "data": {
            "text/plain": [
              "<keras.callbacks.History at 0x7fc4c4866790>"
            ]
          },
          "metadata": {},
          "execution_count": 37
        }
      ]
    },
    {
      "cell_type": "code",
      "source": [
        "def sentence_generation(model, char_to_index, seq_length, seed_text, n):\n",
        "\n",
        "    # 초기 시퀀스\n",
        "    init_text = seed_text\n",
        "    sentence = ''\n",
        "\n",
        "    # 다음 문자 예측은 총 n번만 반복.\n",
        "    for _ in range(n):\n",
        "        encoded = [char_to_index[char] for char in seed_text] # 현재 시퀀스에 대한 정수 인코딩\n",
        "        encoded = pad_sequences([encoded], maxlen=seq_length, padding='pre') # 데이터에 대한 패딩\n",
        "        encoded = to_categorical(encoded, num_classes=len(char_to_index))\n",
        "\n",
        "        # 입력한 X(현재 시퀀스)에 대해서 y를 예측하고 y(예측한 문자)를 result에 저장.\n",
        "        result = model.predict(encoded, verbose=0)\n",
        "        result = np.argmax(result, axis=1)\n",
        "\n",
        "        for char, index in char_to_index.items():\n",
        "            if index == result:\n",
        "                break\n",
        "\n",
        "        # 현재 시퀀스 + 예측 문자를 현재 시퀀스로 변경\n",
        "        seed_text = seed_text + char\n",
        "\n",
        "        # 예측 문자를 문장에 저장\n",
        "        sentence = sentence + char\n",
        "\n",
        "    # n번의 다음 문자 예측이 끝나면 최종 완성된 문장을 리턴.\n",
        "    sentence = init_text + sentence\n",
        "    return sentence"
      ],
      "metadata": {
        "id": "MS_v1N_dp3sz"
      },
      "execution_count": 38,
      "outputs": []
    },
    {
      "cell_type": "code",
      "source": [
        "print(sentence_generation(model, char_to_index, 10, 'I get on w', 80))"
      ],
      "metadata": {
        "colab": {
          "base_uri": "https://localhost:8080/"
        },
        "id": "RoGamXCAqHoW",
        "outputId": "acd2294e-d17c-468e-d46d-86f91c47addd"
      },
      "execution_count": 39,
      "outputs": [
        {
          "output_type": "stream",
          "name": "stdout",
          "text": [
            "I get on with life as a programmer, I like to csntemamaaprrnn.... t th bee ? ? loe  oin  m\n"
          ]
        }
      ]
    },
    {
      "cell_type": "code",
      "source": [
        ""
      ],
      "metadata": {
        "id": "mvMfiAVvqI6r"
      },
      "execution_count": null,
      "outputs": []
    }
  ]
}